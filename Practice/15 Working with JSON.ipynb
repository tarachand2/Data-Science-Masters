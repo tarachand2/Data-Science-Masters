{
 "cells": [
  {
   "cell_type": "code",
   "execution_count": 1,
   "id": "3b0a7a33",
   "metadata": {},
   "outputs": [],
   "source": [
    "import json"
   ]
  },
  {
   "cell_type": "code",
   "execution_count": 2,
   "id": "bda99f12",
   "metadata": {},
   "outputs": [],
   "source": [
    "people_string = '''\n",
    "{\n",
    "    \"people\":[\n",
    "        {\n",
    "            \"name\": \"Tarachand Khorwal\",\n",
    "            \"phone\": \"9345882913\",\n",
    "            \"emails\": [\"tushar@gmail.com\", \"Tarachand@gmail.com\"],\n",
    "            \"has_license\": false\n",
    "        },\n",
    "        {\n",
    "            \"name\": \"Ayan Ali\",\n",
    "            \"phone\": \"9345882923\",\n",
    "            \"emails\": [\"ayan@gmail.com\", \"ayani@gmail.com\"],\n",
    "            \"has_license\": true\n",
    "        }\n",
    "    ]\n",
    "}\n",
    "'''"
   ]
  },
  {
   "cell_type": "markdown",
   "id": "c8710e8c",
   "metadata": {},
   "source": [
    "### converting json string into python object"
   ]
  },
  {
   "cell_type": "code",
   "execution_count": 3,
   "id": "e94c1e35",
   "metadata": {},
   "outputs": [],
   "source": [
    "data = json.loads(people_string)"
   ]
  },
  {
   "cell_type": "code",
   "execution_count": 4,
   "id": "1af8dd6d",
   "metadata": {},
   "outputs": [
    {
     "data": {
      "text/plain": [
       "{'people': [{'name': 'Tarachand Khorwal',\n",
       "   'phone': '9345882913',\n",
       "   'emails': ['tushar@gmail.com', 'Tarachand@gmail.com'],\n",
       "   'has_license': False},\n",
       "  {'name': 'Ayan Ali',\n",
       "   'phone': '9345882923',\n",
       "   'emails': ['ayan@gmail.com', 'ayani@gmail.com'],\n",
       "   'has_license': True}]}"
      ]
     },
     "execution_count": 4,
     "metadata": {},
     "output_type": "execute_result"
    }
   ],
   "source": [
    "data"
   ]
  },
  {
   "cell_type": "code",
   "execution_count": 5,
   "id": "87da5ae1",
   "metadata": {},
   "outputs": [
    {
     "data": {
      "text/plain": [
       "list"
      ]
     },
     "execution_count": 5,
     "metadata": {},
     "output_type": "execute_result"
    }
   ],
   "source": [
    "type(data['people'])"
   ]
  },
  {
   "cell_type": "markdown",
   "id": "93c7284e",
   "metadata": {},
   "source": [
    "### converting python object to json string"
   ]
  },
  {
   "cell_type": "code",
   "execution_count": 6,
   "id": "7a2070d6",
   "metadata": {},
   "outputs": [],
   "source": [
    "for person in data['people']:\n",
    "    del person['phone']\n",
    "\n",
    "new_str = json.dumps(data)"
   ]
  },
  {
   "cell_type": "code",
   "execution_count": 23,
   "id": "7f656b12",
   "metadata": {},
   "outputs": [
    {
     "name": "stdout",
     "output_type": "stream",
     "text": [
      "<class 'str'>\n"
     ]
    }
   ],
   "source": [
    "new_str = json.dumps(data, indent=2, sort_keys=True)\n",
    "print(type(new_str))"
   ]
  },
  {
   "cell_type": "markdown",
   "id": "8f98e2b3",
   "metadata": {},
   "source": [
    "### converting json file to python object"
   ]
  },
  {
   "cell_type": "code",
   "execution_count": 8,
   "id": "f8b3a12e",
   "metadata": {},
   "outputs": [
    {
     "name": "stdout",
     "output_type": "stream",
     "text": [
      "{'name': 'Hawaii', 'abbreviation': 'HI', 'area_codes': ['808']}\n"
     ]
    }
   ],
   "source": [
    "with open(\"states.json\", 'r') as f:\n",
    "    data = json.load(f)\n",
    "    for state in data['states']:\n",
    "        if state['name'] == 'Hawaii':\n",
    "            print(state)"
   ]
  },
  {
   "cell_type": "code",
   "execution_count": 9,
   "id": "f57ea1f9",
   "metadata": {},
   "outputs": [],
   "source": [
    "with open(\"states.json\", 'r') as f:\n",
    "    data = json.load(f)\n",
    "    for state in data['states']:\n",
    "        del state['area_codes']"
   ]
  },
  {
   "cell_type": "markdown",
   "id": "6fd8bc4d",
   "metadata": {},
   "source": [
    "### converting python object to json object "
   ]
  },
  {
   "cell_type": "code",
   "execution_count": 14,
   "id": "dc351abd",
   "metadata": {},
   "outputs": [],
   "source": [
    "with open(\"new_states.json\", 'w') as f:\n",
    "    f.\n",
    "    json.dump(data, f, indent=2, sort_keys=True)"
   ]
  },
  {
   "cell_type": "markdown",
   "id": "2bb0d4fe",
   "metadata": {},
   "source": [
    "## Fetching json data from API"
   ]
  },
  {
   "cell_type": "code",
   "execution_count": 15,
   "id": "7acaef8c",
   "metadata": {},
   "outputs": [],
   "source": [
    "from urllib.request import urlopen"
   ]
  },
  {
   "cell_type": "code",
   "execution_count": 16,
   "id": "afd38203",
   "metadata": {},
   "outputs": [],
   "source": [
    "with urlopen(\"https://dummyjson.com/products\") as response:\n",
    "    source = response.read()"
   ]
  },
  {
   "cell_type": "code",
   "execution_count": 17,
   "id": "9ffc7e06",
   "metadata": {},
   "outputs": [
    {
     "name": "stdout",
     "output_type": "stream",
     "text": [
      "30\n"
     ]
    }
   ],
   "source": [
    "data = json.loads(source)\n",
    "# print(json.dumps(data, indent=2))\n",
    "\n",
    "print(len(data['products']))"
   ]
  },
  {
   "cell_type": "code",
   "execution_count": 18,
   "id": "cbde2a7f",
   "metadata": {},
   "outputs": [],
   "source": [
    "product_rates = dict()"
   ]
  },
  {
   "cell_type": "code",
   "execution_count": 21,
   "id": "0d8a829b",
   "metadata": {},
   "outputs": [
    {
     "name": "stdout",
     "output_type": "stream",
     "text": [
      "{'iPhone 9': 549, 'iPhone X': 899, 'Samsung Universe 9': 1249, 'OPPOF19': 280, 'Huawei P30': 499, 'MacBook Pro': 1749, 'Samsung Galaxy Book': 1499, 'Microsoft Surface Laptop 4': 1499, 'Infinix INBOOK': 1099, 'HP Pavilion 15-DK1056WM': 1099, 'perfume Oil': 13, 'Brown Perfume': 40, 'Fog Scent Xpressio Perfume': 13, 'Non-Alcoholic Concentrated Perfume Oil': 120, 'Eau De Perfume Spray': 30, 'Hyaluronic Acid Serum': 19, 'Tree Oil 30ml': 12, 'Oil Free Moisturizer 100ml': 40, 'Skin Beauty Serum.': 46, 'Freckle Treatment Cream- 15gm': 70, '- Daal Masoor 500 grams': 20, 'Elbow Macaroni - 400 gm': 14, 'Orange Essence Food Flavou': 14, 'cereals muesli fruit nuts': 46, 'Gulab Powder 50 Gram': 70, 'Plant Hanger For Home': 41, 'Flying Wooden Bird': 51, '3D Embellishment Art Lamp': 20, 'Handcraft Chinese style': 60, 'Key Holder': 30}\n"
     ]
    }
   ],
   "source": [
    "for item in data['products']:\n",
    "    name = item['title']\n",
    "    desc = item['description']\n",
    "    price = item['price']\n",
    "    \n",
    "    product_rates[name] = price\n",
    "print(product_rates)"
   ]
  },
  {
   "cell_type": "code",
   "execution_count": 22,
   "id": "339392af",
   "metadata": {},
   "outputs": [
    {
     "data": {
      "text/plain": [
       "899"
      ]
     },
     "execution_count": 22,
     "metadata": {},
     "output_type": "execute_result"
    }
   ],
   "source": [
    "product_rates['iPhone X']"
   ]
  },
  {
   "cell_type": "code",
   "execution_count": null,
   "id": "52d2a295",
   "metadata": {},
   "outputs": [],
   "source": []
  },
  {
   "cell_type": "markdown",
   "id": "ee5a32c7",
   "metadata": {},
   "source": [
    "    json.load()   -->  from json file (read)  ===>>  convert to python object\n",
    "    json.dump()   -->  from python object        ===>>  convert to json file (write)\n",
    "    "
   ]
  },
  {
   "cell_type": "markdown",
   "id": "ef747931",
   "metadata": {},
   "source": [
    "    json.loads()  -->  from json string    ===>>  convert to python object\n",
    "    json.dumps()  -->  from python object  ===>>  convert to json string"
   ]
  },
  {
   "cell_type": "code",
   "execution_count": null,
   "id": "47e4a5d2",
   "metadata": {},
   "outputs": [],
   "source": []
  }
 ],
 "metadata": {
  "kernelspec": {
   "display_name": "Python 3 (ipykernel)",
   "language": "python",
   "name": "python3"
  },
  "language_info": {
   "codemirror_mode": {
    "name": "ipython",
    "version": 3
   },
   "file_extension": ".py",
   "mimetype": "text/x-python",
   "name": "python",
   "nbconvert_exporter": "python",
   "pygments_lexer": "ipython3",
   "version": "3.11.1"
  }
 },
 "nbformat": 4,
 "nbformat_minor": 5
}
