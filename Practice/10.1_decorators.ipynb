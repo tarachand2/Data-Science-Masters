{
 "cells": [
  {
   "cell_type": "markdown",
   "id": "44d3a120",
   "metadata": {},
   "source": [
    "## Decorators"
   ]
  },
  {
   "cell_type": "code",
   "execution_count": 1,
   "id": "fa2878ec",
   "metadata": {},
   "outputs": [],
   "source": [
    "def add(a, b):\n",
    "    print(\"This is starting of function\")\n",
    "    return a+b\n",
    "    print(\"This is ending of function\")\n"
   ]
  },
  {
   "cell_type": "code",
   "execution_count": 2,
   "id": "72e34cf6",
   "metadata": {},
   "outputs": [
    {
     "name": "stdout",
     "output_type": "stream",
     "text": [
      "This is starting of function\n"
     ]
    },
    {
     "data": {
      "text/plain": [
       "8"
      ]
     },
     "execution_count": 2,
     "metadata": {},
     "output_type": "execute_result"
    }
   ],
   "source": [
    "add(5, 3)"
   ]
  },
  {
   "cell_type": "code",
   "execution_count": 28,
   "id": "4426e61e",
   "metadata": {},
   "outputs": [],
   "source": [
    "def deco(func):\n",
    "    def inner_deco():\n",
    "        print(\"This is starting of function\")\n",
    "        func()\n",
    "        print(\"This is ending of function\")\n",
    "    return inner_deco"
   ]
  },
  {
   "cell_type": "code",
   "execution_count": 29,
   "id": "ad924e06",
   "metadata": {},
   "outputs": [],
   "source": [
    "@deco\n",
    "def add1(a, b):\n",
    "    return a+b"
   ]
  },
  {
   "cell_type": "code",
   "execution_count": 30,
   "id": "0420f305",
   "metadata": {},
   "outputs": [
    {
     "ename": "TypeError",
     "evalue": "deco.<locals>.inner_deco() takes 0 positional arguments but 2 were given",
     "output_type": "error",
     "traceback": [
      "\u001b[1;31m---------------------------------------------------------------------------\u001b[0m",
      "\u001b[1;31mTypeError\u001b[0m                                 Traceback (most recent call last)",
      "Cell \u001b[1;32mIn[30], line 1\u001b[0m\n\u001b[1;32m----> 1\u001b[0m \u001b[43madd1\u001b[49m\u001b[43m(\u001b[49m\u001b[38;5;241;43m5\u001b[39;49m\u001b[43m,\u001b[49m\u001b[43m \u001b[49m\u001b[38;5;241;43m5\u001b[39;49m\u001b[43m)\u001b[49m\n",
      "\u001b[1;31mTypeError\u001b[0m: deco.<locals>.inner_deco() takes 0 positional arguments but 2 were given"
     ]
    }
   ],
   "source": [
    "add1(5, 5)"
   ]
  },
  {
   "cell_type": "code",
   "execution_count": 31,
   "id": "1793ec71",
   "metadata": {},
   "outputs": [],
   "source": [
    "@deco\n",
    "def hello():\n",
    "    print(\"Hello world\")"
   ]
  },
  {
   "cell_type": "code",
   "execution_count": 32,
   "id": "e5e54954",
   "metadata": {},
   "outputs": [
    {
     "name": "stdout",
     "output_type": "stream",
     "text": [
      "This is starting of function\n",
      "Hello world\n",
      "This is ending of function\n"
     ]
    }
   ],
   "source": [
    "hello()"
   ]
  },
  {
   "cell_type": "code",
   "execution_count": 36,
   "id": "2c8902b5",
   "metadata": {},
   "outputs": [],
   "source": [
    "import time\n",
    "def timer(func):\n",
    "    def inner():\n",
    "        start = time.time()\n",
    "        func()\n",
    "        end = time.time()\n",
    "        print(end - start)\n",
    "    return inner"
   ]
  },
  {
   "cell_type": "code",
   "execution_count": 59,
   "id": "e3a485b4",
   "metadata": {},
   "outputs": [],
   "source": [
    "@timer\n",
    "def test():\n",
    "    print(\"Hellow rodl\")"
   ]
  },
  {
   "cell_type": "code",
   "execution_count": null,
   "id": "afecfb70",
   "metadata": {},
   "outputs": [],
   "source": []
  },
  {
   "cell_type": "code",
   "execution_count": 70,
   "id": "45e38b72",
   "metadata": {},
   "outputs": [],
   "source": [
    "def time_it(func):\n",
    "    def wrapper(*args, **kwargs):\n",
    "        start = time.time()\n",
    "        result = func(*args, **kwargs)\n",
    "        end = time.time()\n",
    "        print(func.__name__ + \" took \" + str((end-start) * 1000) + \" mil sec.\")\n",
    "        return result\n",
    "    return wrapper"
   ]
  },
  {
   "cell_type": "code",
   "execution_count": 71,
   "id": "04956876",
   "metadata": {},
   "outputs": [],
   "source": [
    "@time_it\n",
    "def calc_square(numbers):\n",
    "    result = []\n",
    "    for num in numbers:\n",
    "        result.append(num*num)\n",
    "    return result"
   ]
  },
  {
   "cell_type": "code",
   "execution_count": 72,
   "id": "c98af0da",
   "metadata": {},
   "outputs": [],
   "source": [
    "@time_it\n",
    "def calc_cube(numbers):\n",
    "    result = []\n",
    "    for num in numbers:\n",
    "        result.append(num*num*num)\n",
    "    return result"
   ]
  },
  {
   "cell_type": "code",
   "execution_count": 75,
   "id": "7750ef87",
   "metadata": {},
   "outputs": [
    {
     "name": "stdout",
     "output_type": "stream",
     "text": [
      "calc_square took 191.63894653320312 mil sec.\n",
      "calc_cube took 401.6692638397217 mil sec.\n"
     ]
    }
   ],
   "source": [
    "numbers = range(1, 1000000)\n",
    "out_square = calc_square(numbers)\n",
    "out_cube = calc_cube(numbers)"
   ]
  },
  {
   "cell_type": "markdown",
   "id": "28522aa0",
   "metadata": {},
   "source": [
    "## Corey Schafer - Youtube tutorial"
   ]
  },
  {
   "cell_type": "code",
   "execution_count": 4,
   "id": "0af064a7",
   "metadata": {},
   "outputs": [],
   "source": [
    "def outer_func():\n",
    "    message = \"Hii\"\n",
    "    \n",
    "    def inner_func():\n",
    "        print(message)\n",
    "    \n",
    "    return inner_func()"
   ]
  },
  {
   "cell_type": "code",
   "execution_count": 8,
   "id": "69c97e6b",
   "metadata": {
    "scrolled": true
   },
   "outputs": [
    {
     "name": "stdout",
     "output_type": "stream",
     "text": [
      "Hii\n",
      "None\n"
     ]
    }
   ],
   "source": [
    "print(outer_func())"
   ]
  },
  {
   "cell_type": "code",
   "execution_count": 39,
   "id": "5f2d5a12",
   "metadata": {},
   "outputs": [],
   "source": [
    "def decorator_func(original_func):\n",
    "    def wrapper_func(*args, **kwargs):\n",
    "        print(\"Decorator function executed before {}\".format(original_func.__name__))\n",
    "        return original_func(*args, **kwargs)\n",
    "    \n",
    "    return wrapper_func"
   ]
  },
  {
   "cell_type": "code",
   "execution_count": 27,
   "id": "25b784ab",
   "metadata": {},
   "outputs": [],
   "source": [
    "def display():\n",
    "    print(\"Display function ran\")"
   ]
  },
  {
   "cell_type": "code",
   "execution_count": 28,
   "id": "8b8b33e5",
   "metadata": {},
   "outputs": [],
   "source": [
    "display = decorator_func(display)"
   ]
  },
  {
   "cell_type": "code",
   "execution_count": 46,
   "id": "28bda844",
   "metadata": {},
   "outputs": [
    {
     "name": "stdout",
     "output_type": "stream",
     "text": [
      "Decorator function executed before display\n",
      "Display function ran\n"
     ]
    }
   ],
   "source": [
    "display()"
   ]
  },
  {
   "cell_type": "code",
   "execution_count": 40,
   "id": "f83c75b8",
   "metadata": {},
   "outputs": [],
   "source": [
    "@decorator_func\n",
    "def display():\n",
    "    print(\"Display function ran\")"
   ]
  },
  {
   "cell_type": "code",
   "execution_count": 47,
   "id": "5de98a6d",
   "metadata": {},
   "outputs": [
    {
     "name": "stdout",
     "output_type": "stream",
     "text": [
      "Decorator function executed before display\n",
      "Display function ran\n"
     ]
    }
   ],
   "source": [
    "display()"
   ]
  },
  {
   "cell_type": "code",
   "execution_count": 43,
   "id": "11f909f2",
   "metadata": {},
   "outputs": [],
   "source": [
    "@decorator_func\n",
    "def display_info(name, age):\n",
    "    print(\"name: {} age: {}\".format(name, age))"
   ]
  },
  {
   "cell_type": "code",
   "execution_count": 48,
   "id": "19580d0b",
   "metadata": {},
   "outputs": [
    {
     "name": "stdout",
     "output_type": "stream",
     "text": [
      "Decorator function executed before display_info\n",
      "name: Tushar age: 19\n"
     ]
    }
   ],
   "source": [
    "display_info(\"Tushar\", 19)"
   ]
  },
  {
   "cell_type": "markdown",
   "id": "74d9325a",
   "metadata": {},
   "source": [
    "## Decorator Class"
   ]
  },
  {
   "cell_type": "code",
   "execution_count": 54,
   "id": "df7e4cad",
   "metadata": {},
   "outputs": [],
   "source": [
    "class DecoratorClass(object):\n",
    "    def __init__(self, original_func):\n",
    "        self.original_func = original_func\n",
    "    \n",
    "    def __call__(self, *args, **kwargs):\n",
    "        print(\"Decorator function executed before {}\".format(self.original_func.__name__))\n",
    "        return self.original_func(*args, **kwargs)"
   ]
  },
  {
   "cell_type": "code",
   "execution_count": 55,
   "id": "5f926256",
   "metadata": {},
   "outputs": [],
   "source": [
    "@DecoratorClass\n",
    "def display_info(name, age):\n",
    "    print(\"name: {} age: {}\".format(name, age))"
   ]
  },
  {
   "cell_type": "code",
   "execution_count": 56,
   "id": "b0547e12",
   "metadata": {},
   "outputs": [
    {
     "name": "stdout",
     "output_type": "stream",
     "text": [
      "Decorator function executed before display_info\n",
      "name: Tarachand age: 19\n"
     ]
    }
   ],
   "source": [
    "display_info(\"Tarachand\", 19)"
   ]
  },
  {
   "cell_type": "code",
   "execution_count": 57,
   "id": "a7a041fd",
   "metadata": {},
   "outputs": [],
   "source": [
    "## practical example"
   ]
  },
  {
   "cell_type": "code",
   "execution_count": 61,
   "id": "dba50be1",
   "metadata": {},
   "outputs": [],
   "source": [
    "def my_logger(orig_func):\n",
    "    import logging\n",
    "    logging.basicConfig(filename=\"{}.log\".format(orig_func.__name__), level=logging.INFO)\n",
    "    \n",
    "    def wrapper(*args, **kwargs):\n",
    "        logging.info(\n",
    "            \"Ran with {} args and {} kwargs\".format(args, kwargs))\n",
    "        return orig_func(*args, **kwargs)\n",
    "\n",
    "    return wrapper"
   ]
  },
  {
   "cell_type": "code",
   "execution_count": 62,
   "id": "5dcb7fec",
   "metadata": {},
   "outputs": [],
   "source": [
    "@my_logger\n",
    "def display_info(name, age):\n",
    "    print(\"name: {} age: {}\".format(name, age))"
   ]
  },
  {
   "cell_type": "code",
   "execution_count": 63,
   "id": "16f5438a",
   "metadata": {},
   "outputs": [
    {
     "name": "stdout",
     "output_type": "stream",
     "text": [
      "name: Tarachand age: 19\n"
     ]
    }
   ],
   "source": [
    "display_info(\"Tarachand\", 19)"
   ]
  },
  {
   "cell_type": "code",
   "execution_count": 64,
   "id": "f8a30eeb",
   "metadata": {},
   "outputs": [
    {
     "name": "stdout",
     "output_type": "stream",
     "text": [
      "name: Tarachand age: 19\n"
     ]
    }
   ],
   "source": [
    "display_info(name=\"Tarachand\", age=19)"
   ]
  },
  {
   "cell_type": "code",
   "execution_count": 65,
   "id": "b5951bed",
   "metadata": {},
   "outputs": [],
   "source": [
    "def my_timer(orig_func):\n",
    "    import time\n",
    "    \n",
    "    def wrapper(*args, **kwargs):\n",
    "        t1 = time.time()\n",
    "        result = orig_func(*args, **kwargs)\n",
    "        t2 = time.time() - t1\n",
    "        print(\"{} ran in: {} sec\".format(orig_func.__name__, t2))\n",
    "        return result\n",
    "\n",
    "    return wrapper"
   ]
  },
  {
   "cell_type": "code",
   "execution_count": 69,
   "id": "2949bea4",
   "metadata": {},
   "outputs": [],
   "source": [
    "import time\n",
    "\n",
    "@my_timer\n",
    "@my_logger\n",
    "def display_info(name, age):\n",
    "    time.sleep(1)\n",
    "    print(\"name: {} age: {}\".format(name, age))"
   ]
  },
  {
   "cell_type": "code",
   "execution_count": 71,
   "id": "430d5a11",
   "metadata": {},
   "outputs": [
    {
     "name": "stdout",
     "output_type": "stream",
     "text": [
      "name: Tarachand age: 21\n",
      "wrapper ran in: 1.0109469890594482 sec\n"
     ]
    }
   ],
   "source": [
    "display_info(\"Tarachand\", 21)"
   ]
  },
  {
   "cell_type": "code",
   "execution_count": 72,
   "id": "a93fb920",
   "metadata": {},
   "outputs": [],
   "source": [
    "from functools import wraps"
   ]
  },
  {
   "cell_type": "code",
   "execution_count": 73,
   "id": "33e50da0",
   "metadata": {},
   "outputs": [],
   "source": [
    "def my_logger(orig_func):\n",
    "    import logging\n",
    "    logging.basicConfig(filename=\"{}.log\".format(orig_func.__name__), level=logging.INFO)\n",
    "    \n",
    "    @wraps(orig_func)\n",
    "    def wrapper(*args, **kwargs):\n",
    "        logging.info(\n",
    "            \"Ran with {} args and {} kwargs\".format(args, kwargs))\n",
    "        return orig_func(*args, **kwargs)\n",
    "\n",
    "    return wrapper"
   ]
  },
  {
   "cell_type": "code",
   "execution_count": 74,
   "id": "858bf3b4",
   "metadata": {},
   "outputs": [],
   "source": [
    "def my_timer(orig_func):\n",
    "    import time\n",
    "    \n",
    "    @wraps(orig_func)\n",
    "    def wrapper(*args, **kwargs):\n",
    "        t1 = time.time()\n",
    "        result = orig_func(*args, **kwargs)\n",
    "        t2 = time.time() - t1\n",
    "        print(\"{} ran in: {} sec\".format(orig_func.__name__, t2))\n",
    "        return result\n",
    "\n",
    "    return wrapper"
   ]
  },
  {
   "cell_type": "code",
   "execution_count": 75,
   "id": "820a4b25",
   "metadata": {},
   "outputs": [],
   "source": [
    "@my_timer\n",
    "@my_logger\n",
    "def display_info(name, age):\n",
    "    time.sleep(1)\n",
    "    print(\"name: {} age: {}\".format(name, age))"
   ]
  },
  {
   "cell_type": "code",
   "execution_count": 76,
   "id": "3338a420",
   "metadata": {},
   "outputs": [
    {
     "name": "stdout",
     "output_type": "stream",
     "text": [
      "name: Tom age: 1839\n",
      "display_info ran in: 1.0011649131774902 sec\n"
     ]
    }
   ],
   "source": [
    "display_info(\"Tom\", 1839)"
   ]
  }
 ],
 "metadata": {
  "kernelspec": {
   "display_name": "Python 3 (ipykernel)",
   "language": "python",
   "name": "python3"
  },
  "language_info": {
   "codemirror_mode": {
    "name": "ipython",
    "version": 3
   },
   "file_extension": ".py",
   "mimetype": "text/x-python",
   "name": "python",
   "nbconvert_exporter": "python",
   "pygments_lexer": "ipython3",
   "version": "3.11.1"
  }
 },
 "nbformat": 4,
 "nbformat_minor": 5
}
