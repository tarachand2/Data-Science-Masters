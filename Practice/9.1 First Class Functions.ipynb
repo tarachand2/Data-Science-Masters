{
 "cells": [
  {
   "cell_type": "markdown",
   "id": "349bbbbe",
   "metadata": {},
   "source": [
    "## First-Class Functions:"
   ]
  },
  {
   "cell_type": "markdown",
   "id": "e9bb9517",
   "metadata": {},
   "source": [
    "    \"A programming lanugauge is said to have first-class functins if it treats functions as first-class citizens.\""
   ]
  },
  {
   "cell_type": "markdown",
   "id": "4a12e9c5",
   "metadata": {},
   "source": [
    "## First-Class Citizen (Programming):"
   ]
  },
  {
   "cell_type": "markdown",
   "id": "f1fddf6d",
   "metadata": {},
   "source": [
    "    \" A first-class citizen (somtimes called first-class objects) in a programming language is an entity which supports all the operations generally availble to other entities. \n",
    "    These operations typically include being passed as an argument, returned from a function, and assigned to a variable.\""
   ]
  },
  {
   "cell_type": "markdown",
   "id": "8bd0f93a",
   "metadata": {},
   "source": [
    "### Function assigned to a variable"
   ]
  },
  {
   "cell_type": "code",
   "execution_count": 1,
   "id": "0c8db7b2",
   "metadata": {},
   "outputs": [],
   "source": [
    "def square(x):\n",
    "    return x*x"
   ]
  },
  {
   "cell_type": "code",
   "execution_count": 2,
   "id": "04affe40",
   "metadata": {},
   "outputs": [],
   "source": [
    "f = square(5)"
   ]
  },
  {
   "cell_type": "code",
   "execution_count": 4,
   "id": "a258a788",
   "metadata": {},
   "outputs": [
    {
     "name": "stdout",
     "output_type": "stream",
     "text": [
      "<function square at 0x000001B5C93D8C20>\n",
      "25\n"
     ]
    }
   ],
   "source": [
    "print(square)\n",
    "print(f)"
   ]
  },
  {
   "cell_type": "code",
   "execution_count": 5,
   "id": "9e534290",
   "metadata": {},
   "outputs": [],
   "source": [
    "f = square"
   ]
  },
  {
   "cell_type": "code",
   "execution_count": 6,
   "id": "f1539eb2",
   "metadata": {},
   "outputs": [
    {
     "name": "stdout",
     "output_type": "stream",
     "text": [
      "<function square at 0x000001B5C93D8C20>\n",
      "<function square at 0x000001B5C93D8C20>\n"
     ]
    }
   ],
   "source": [
    "print(square)\n",
    "print(f)"
   ]
  },
  {
   "cell_type": "code",
   "execution_count": 7,
   "id": "b290467f",
   "metadata": {},
   "outputs": [
    {
     "name": "stdout",
     "output_type": "stream",
     "text": [
      "<function square at 0x000001B5C93D8C20>\n",
      "25\n"
     ]
    }
   ],
   "source": [
    "print(square)\n",
    "print(f(5))"
   ]
  },
  {
   "cell_type": "markdown",
   "id": "f2499a34",
   "metadata": {},
   "source": [
    "### Function passed as argument"
   ]
  },
  {
   "cell_type": "code",
   "execution_count": 8,
   "id": "c9e4232b",
   "metadata": {},
   "outputs": [],
   "source": [
    "def my_map(func, arg_list):\n",
    "    result = []\n",
    "    for i in arg_list:\n",
    "        result.append(func(i))\n",
    "    return result"
   ]
  },
  {
   "cell_type": "code",
   "execution_count": 9,
   "id": "431f6b9e",
   "metadata": {},
   "outputs": [],
   "source": [
    "squares = my_map(square, [1, 2, 3, 4, 5])"
   ]
  },
  {
   "cell_type": "code",
   "execution_count": 10,
   "id": "630077e9",
   "metadata": {},
   "outputs": [
    {
     "data": {
      "text/plain": [
       "[1, 4, 9, 16, 25]"
      ]
     },
     "execution_count": 10,
     "metadata": {},
     "output_type": "execute_result"
    }
   ],
   "source": [
    "squares"
   ]
  },
  {
   "cell_type": "code",
   "execution_count": 11,
   "id": "086b6256",
   "metadata": {},
   "outputs": [],
   "source": [
    "def cube(x):\n",
    "    return x*x*x"
   ]
  },
  {
   "cell_type": "code",
   "execution_count": 12,
   "id": "63ae81af",
   "metadata": {},
   "outputs": [],
   "source": [
    "cubes = my_map(cube, [1, 2, 3, 4, 5])"
   ]
  },
  {
   "cell_type": "code",
   "execution_count": 13,
   "id": "78241197",
   "metadata": {},
   "outputs": [
    {
     "data": {
      "text/plain": [
       "[1, 8, 27, 64, 125]"
      ]
     },
     "execution_count": 13,
     "metadata": {},
     "output_type": "execute_result"
    }
   ],
   "source": [
    "cubes"
   ]
  },
  {
   "cell_type": "markdown",
   "id": "7004e7a4",
   "metadata": {},
   "source": [
    "### Function returned from another function"
   ]
  },
  {
   "cell_type": "code",
   "execution_count": 17,
   "id": "041f0f20",
   "metadata": {},
   "outputs": [],
   "source": [
    "def logger(msg):\n",
    "    \n",
    "    def log_message():\n",
    "        print('Log:', msg)\n",
    "        \n",
    "    return log_message"
   ]
  },
  {
   "cell_type": "code",
   "execution_count": 18,
   "id": "d3e765f0",
   "metadata": {},
   "outputs": [],
   "source": [
    "log_hi = logger(\"Hi!\")"
   ]
  },
  {
   "cell_type": "code",
   "execution_count": 19,
   "id": "6f42f82a",
   "metadata": {},
   "outputs": [
    {
     "name": "stdout",
     "output_type": "stream",
     "text": [
      "Log: Hi!\n"
     ]
    }
   ],
   "source": [
    "log_hi()"
   ]
  },
  {
   "cell_type": "code",
   "execution_count": 20,
   "id": "24982472",
   "metadata": {},
   "outputs": [],
   "source": [
    "# Real example"
   ]
  },
  {
   "cell_type": "code",
   "execution_count": 21,
   "id": "9c1ed663",
   "metadata": {},
   "outputs": [],
   "source": [
    "def html_tag(tag):\n",
    "    \n",
    "    def wrap_msg(msg):\n",
    "        print(\"<{0}>{1}</{0}>\".format(tag, msg))\n",
    "    \n",
    "    return wrap_msg"
   ]
  },
  {
   "cell_type": "code",
   "execution_count": 22,
   "id": "43527f74",
   "metadata": {},
   "outputs": [],
   "source": [
    "print_h1 = html_tag('h1')"
   ]
  },
  {
   "cell_type": "code",
   "execution_count": 23,
   "id": "bcb5057b",
   "metadata": {},
   "outputs": [
    {
     "data": {
      "text/plain": [
       "<function __main__.html_tag.<locals>.wrap_msg(msg)>"
      ]
     },
     "execution_count": 23,
     "metadata": {},
     "output_type": "execute_result"
    }
   ],
   "source": [
    "print_h1"
   ]
  },
  {
   "cell_type": "code",
   "execution_count": 24,
   "id": "7638045a",
   "metadata": {},
   "outputs": [
    {
     "name": "stdout",
     "output_type": "stream",
     "text": [
      "<h1>This is h1 tag</h1>\n"
     ]
    }
   ],
   "source": [
    "print_h1('This is h1 tag')"
   ]
  },
  {
   "cell_type": "code",
   "execution_count": 25,
   "id": "96ea5679",
   "metadata": {},
   "outputs": [
    {
     "name": "stdout",
     "output_type": "stream",
     "text": [
      "<h1>Created from nested functions</h1>\n"
     ]
    }
   ],
   "source": [
    "print_h1(\"Created from nested functions\")"
   ]
  },
  {
   "cell_type": "code",
   "execution_count": 26,
   "id": "aa5c13ef",
   "metadata": {},
   "outputs": [],
   "source": [
    "print_p = html_tag('p')"
   ]
  },
  {
   "cell_type": "code",
   "execution_count": 27,
   "id": "e161aa03",
   "metadata": {},
   "outputs": [
    {
     "data": {
      "text/plain": [
       "<function __main__.html_tag.<locals>.wrap_msg(msg)>"
      ]
     },
     "execution_count": 27,
     "metadata": {},
     "output_type": "execute_result"
    }
   ],
   "source": [
    "print_p"
   ]
  },
  {
   "cell_type": "code",
   "execution_count": 28,
   "id": "83edf62b",
   "metadata": {},
   "outputs": [
    {
     "name": "stdout",
     "output_type": "stream",
     "text": [
      "<p>This is paragraph tag.</p>\n"
     ]
    }
   ],
   "source": [
    "print_p(\"This is paragraph tag.\")"
   ]
  },
  {
   "cell_type": "code",
   "execution_count": null,
   "id": "62727ca8",
   "metadata": {},
   "outputs": [],
   "source": []
  }
 ],
 "metadata": {
  "kernelspec": {
   "display_name": "Python 3 (ipykernel)",
   "language": "python",
   "name": "python3"
  },
  "language_info": {
   "codemirror_mode": {
    "name": "ipython",
    "version": 3
   },
   "file_extension": ".py",
   "mimetype": "text/x-python",
   "name": "python",
   "nbconvert_exporter": "python",
   "pygments_lexer": "ipython3",
   "version": "3.11.1"
  }
 },
 "nbformat": 4,
 "nbformat_minor": 5
}
