{
 "cells": [
  {
   "cell_type": "code",
   "execution_count": 1,
   "id": "a259b6c0",
   "metadata": {},
   "outputs": [],
   "source": [
    "d = {}"
   ]
  },
  {
   "cell_type": "code",
   "execution_count": 2,
   "id": "de659d3b",
   "metadata": {},
   "outputs": [
    {
     "data": {
      "text/plain": [
       "dict"
      ]
     },
     "execution_count": 2,
     "metadata": {},
     "output_type": "execute_result"
    }
   ],
   "source": [
    "type(d)"
   ]
  },
  {
   "cell_type": "code",
   "execution_count": 4,
   "id": "f2475511",
   "metadata": {},
   "outputs": [],
   "source": [
    "d1 = {\"name\": \"Tarachand\", \"email\": \"tk@gmail.com\", \"number\": 123423}"
   ]
  },
  {
   "cell_type": "code",
   "execution_count": 5,
   "id": "0527c0f2",
   "metadata": {},
   "outputs": [
    {
     "data": {
      "text/plain": [
       "dict"
      ]
     },
     "execution_count": 5,
     "metadata": {},
     "output_type": "execute_result"
    }
   ],
   "source": [
    "type(d1)"
   ]
  },
  {
   "cell_type": "code",
   "execution_count": 6,
   "id": "29a9e1bf",
   "metadata": {},
   "outputs": [
    {
     "data": {
      "text/plain": [
       "{'name': 'Tarachand', 'email': 'tk@gmail.com', 'number': 123423}"
      ]
     },
     "execution_count": 6,
     "metadata": {},
     "output_type": "execute_result"
    }
   ],
   "source": [
    "d1"
   ]
  },
  {
   "cell_type": "code",
   "execution_count": 8,
   "id": "7560d3bb",
   "metadata": {},
   "outputs": [],
   "source": [
    "d2 = {\"name\": \"Tushar\", \"name\": \"Tarachand\"}"
   ]
  },
  {
   "cell_type": "code",
   "execution_count": 9,
   "id": "86ab993f",
   "metadata": {},
   "outputs": [
    {
     "data": {
      "text/plain": [
       "{'name': 'Tarachand'}"
      ]
     },
     "execution_count": 9,
     "metadata": {},
     "output_type": "execute_result"
    }
   ],
   "source": [
    "d2"
   ]
  },
  {
   "cell_type": "code",
   "execution_count": 10,
   "id": "cee6dc28",
   "metadata": {},
   "outputs": [],
   "source": [
    "d3 = {1234: \"integer key\"}"
   ]
  },
  {
   "cell_type": "code",
   "execution_count": 11,
   "id": "c3546f66",
   "metadata": {},
   "outputs": [
    {
     "data": {
      "text/plain": [
       "{1234: 'integer key'}"
      ]
     },
     "execution_count": 11,
     "metadata": {},
     "output_type": "execute_result"
    }
   ],
   "source": [
    "d3"
   ]
  },
  {
   "cell_type": "code",
   "execution_count": 12,
   "id": "02116a3f",
   "metadata": {},
   "outputs": [],
   "source": [
    "d4 = {234.34: \"floating key\"}"
   ]
  },
  {
   "cell_type": "code",
   "execution_count": 13,
   "id": "119d1494",
   "metadata": {},
   "outputs": [
    {
     "data": {
      "text/plain": [
       "{234.34: 'floating key'}"
      ]
     },
     "execution_count": 13,
     "metadata": {},
     "output_type": "execute_result"
    }
   ],
   "source": [
    "d4"
   ]
  },
  {
   "cell_type": "code",
   "execution_count": 14,
   "id": "0c5ec28d",
   "metadata": {},
   "outputs": [],
   "source": [
    "d5 = {True: 'bool key'}"
   ]
  },
  {
   "cell_type": "code",
   "execution_count": 15,
   "id": "74fce22a",
   "metadata": {},
   "outputs": [
    {
     "data": {
      "text/plain": [
       "{True: 'bool key'}"
      ]
     },
     "execution_count": 15,
     "metadata": {},
     "output_type": "execute_result"
    }
   ],
   "source": [
    "d5"
   ]
  },
  {
   "cell_type": "code",
   "execution_count": 16,
   "id": "def474ea",
   "metadata": {},
   "outputs": [
    {
     "ename": "SyntaxError",
     "evalue": "invalid syntax (1364671794.py, line 1)",
     "output_type": "error",
     "traceback": [
      "\u001b[1;36m  Cell \u001b[1;32mIn[16], line 1\u001b[1;36m\u001b[0m\n\u001b[1;33m    d6 ={ @: \"special character\"}\u001b[0m\n\u001b[1;37m          ^\u001b[0m\n\u001b[1;31mSyntaxError\u001b[0m\u001b[1;31m:\u001b[0m invalid syntax\n"
     ]
    }
   ],
   "source": [
    "d6 ={ @: \"special character\"}"
   ]
  },
  {
   "cell_type": "code",
   "execution_count": 17,
   "id": "03d1dfcf",
   "metadata": {},
   "outputs": [
    {
     "ename": "TypeError",
     "evalue": "unhashable type: 'list'",
     "output_type": "error",
     "traceback": [
      "\u001b[1;31m---------------------------------------------------------------------------\u001b[0m",
      "\u001b[1;31mTypeError\u001b[0m                                 Traceback (most recent call last)",
      "Cell \u001b[1;32mIn[17], line 1\u001b[0m\n\u001b[1;32m----> 1\u001b[0m d7 \u001b[38;5;241m=\u001b[39m {[\u001b[38;5;241m1\u001b[39m,\u001b[38;5;241m2\u001b[39m,\u001b[38;5;241m3\u001b[39m]: \u001b[38;5;124m\"\u001b[39m\u001b[38;5;124mlist key\u001b[39m\u001b[38;5;124m\"\u001b[39m}\n",
      "\u001b[1;31mTypeError\u001b[0m: unhashable type: 'list'"
     ]
    }
   ],
   "source": [
    "d7 = {[1,2,3]: \"list key\"}"
   ]
  },
  {
   "cell_type": "code",
   "execution_count": 18,
   "id": "0e35cff6",
   "metadata": {},
   "outputs": [],
   "source": [
    "d8 = {(1, 2, 3): \"tuple key\"}"
   ]
  },
  {
   "cell_type": "code",
   "execution_count": 19,
   "id": "a9ce4166",
   "metadata": {},
   "outputs": [
    {
     "data": {
      "text/plain": [
       "{(1, 2, 3): 'tuple key'}"
      ]
     },
     "execution_count": 19,
     "metadata": {},
     "output_type": "execute_result"
    }
   ],
   "source": [
    "d8"
   ]
  },
  {
   "cell_type": "code",
   "execution_count": 20,
   "id": "e76a0a08",
   "metadata": {},
   "outputs": [
    {
     "ename": "TypeError",
     "evalue": "unhashable type: 'set'",
     "output_type": "error",
     "traceback": [
      "\u001b[1;31m---------------------------------------------------------------------------\u001b[0m",
      "\u001b[1;31mTypeError\u001b[0m                                 Traceback (most recent call last)",
      "Cell \u001b[1;32mIn[20], line 1\u001b[0m\n\u001b[1;32m----> 1\u001b[0m d9 \u001b[38;5;241m=\u001b[39m {{\u001b[38;5;241m1\u001b[39m, \u001b[38;5;241m2\u001b[39m, \u001b[38;5;241m3\u001b[39m,}: \u001b[38;5;124m\"\u001b[39m\u001b[38;5;124mset key\u001b[39m\u001b[38;5;124m\"\u001b[39m}\n",
      "\u001b[1;31mTypeError\u001b[0m: unhashable type: 'set'"
     ]
    }
   ],
   "source": [
    "d9 = {{1, 2, 3,}: \"set key\"}"
   ]
  },
  {
   "cell_type": "code",
   "execution_count": 21,
   "id": "87e4f76c",
   "metadata": {},
   "outputs": [
    {
     "ename": "TypeError",
     "evalue": "unhashable type: 'dict'",
     "output_type": "error",
     "traceback": [
      "\u001b[1;31m---------------------------------------------------------------------------\u001b[0m",
      "\u001b[1;31mTypeError\u001b[0m                                 Traceback (most recent call last)",
      "Cell \u001b[1;32mIn[21], line 1\u001b[0m\n\u001b[1;32m----> 1\u001b[0m d10 \u001b[38;5;241m=\u001b[39m {{\u001b[38;5;241m1\u001b[39m:\u001b[38;5;124m\"\u001b[39m\u001b[38;5;124mone\u001b[39m\u001b[38;5;124m\"\u001b[39m}: \u001b[38;5;124m\"\u001b[39m\u001b[38;5;124mdict key\u001b[39m\u001b[38;5;124m\"\u001b[39m}\n",
      "\u001b[1;31mTypeError\u001b[0m: unhashable type: 'dict'"
     ]
    }
   ],
   "source": [
    "d10 = {{1:\"one\"}: \"dict key\"}"
   ]
  },
  {
   "cell_type": "code",
   "execution_count": 22,
   "id": "6ae3e7b8",
   "metadata": {},
   "outputs": [],
   "source": [
    "d11 = {\"course_name\": [\"data science\", \"web dev\", \"Java with system design\"]}"
   ]
  },
  {
   "cell_type": "code",
   "execution_count": 23,
   "id": "a79cda64",
   "metadata": {},
   "outputs": [
    {
     "data": {
      "text/plain": [
       "{'course_name': ['data science', 'web dev', 'Java with system design']}"
      ]
     },
     "execution_count": 23,
     "metadata": {},
     "output_type": "execute_result"
    }
   ],
   "source": [
    "d11"
   ]
  },
  {
   "cell_type": "code",
   "execution_count": 24,
   "id": "b509b685",
   "metadata": {},
   "outputs": [],
   "source": [
    "d12 = {\"key\": (1, 2, 3)}"
   ]
  },
  {
   "cell_type": "code",
   "execution_count": 25,
   "id": "4dad23bf",
   "metadata": {},
   "outputs": [
    {
     "data": {
      "text/plain": [
       "{'key': (1, 2, 3)}"
      ]
     },
     "execution_count": 25,
     "metadata": {},
     "output_type": "execute_result"
    }
   ],
   "source": [
    "d12"
   ]
  },
  {
   "cell_type": "code",
   "execution_count": 26,
   "id": "d9d923ac",
   "metadata": {},
   "outputs": [],
   "source": [
    "d13 = {\"key\": {1, 2,3}}\n"
   ]
  },
  {
   "cell_type": "code",
   "execution_count": 27,
   "id": "29c70707",
   "metadata": {},
   "outputs": [
    {
     "data": {
      "text/plain": [
       "{'key': {1, 2, 3}}"
      ]
     },
     "execution_count": 27,
     "metadata": {},
     "output_type": "execute_result"
    }
   ],
   "source": [
    "d13"
   ]
  },
  {
   "cell_type": "code",
   "execution_count": 63,
   "id": "69e9b19d",
   "metadata": {},
   "outputs": [],
   "source": [
    "d14 = {\"key\":{\"name\": \"tushar\", \"class\": \"data science\"}}"
   ]
  },
  {
   "cell_type": "code",
   "execution_count": 29,
   "id": "c8ad1616",
   "metadata": {},
   "outputs": [
    {
     "data": {
      "text/plain": [
       "{'key': {'name': 'tushar', 'class': 'data science'}}"
      ]
     },
     "execution_count": 29,
     "metadata": {},
     "output_type": "execute_result"
    }
   ],
   "source": [
    "d14"
   ]
  },
  {
   "cell_type": "code",
   "execution_count": 30,
   "id": "9240d008",
   "metadata": {},
   "outputs": [],
   "source": [
    "d15 = {\"batch\":[\"data science master\", \"web dev\", \"JDS\"], \"start_data\":(28, 14, 21), \"mentor_name\": {\"krish naik\", \"sudhanshu kumar\", \"Himanshu\"}}"
   ]
  },
  {
   "cell_type": "code",
   "execution_count": 31,
   "id": "d4a27e6c",
   "metadata": {},
   "outputs": [
    {
     "data": {
      "text/plain": [
       "{'batch': ['data science master', 'web dev', 'JDS'],\n",
       " 'start_data': (28, 14, 21),\n",
       " 'mentor_name': {'Himanshu', 'krish naik', 'sudhanshu kumar'}}"
      ]
     },
     "execution_count": 31,
     "metadata": {},
     "output_type": "execute_result"
    }
   ],
   "source": [
    "d15"
   ]
  },
  {
   "cell_type": "code",
   "execution_count": 32,
   "id": "ee6d9404",
   "metadata": {},
   "outputs": [],
   "source": [
    "d15[\"timing\"] = (8, 8, 8)"
   ]
  },
  {
   "cell_type": "code",
   "execution_count": 33,
   "id": "e8d86254",
   "metadata": {},
   "outputs": [
    {
     "data": {
      "text/plain": [
       "{'batch': ['data science master', 'web dev', 'JDS'],\n",
       " 'start_data': (28, 14, 21),\n",
       " 'mentor_name': {'Himanshu', 'krish naik', 'sudhanshu kumar'},\n",
       " 'timing': (8, 8, 8)}"
      ]
     },
     "execution_count": 33,
     "metadata": {},
     "output_type": "execute_result"
    }
   ],
   "source": [
    "d15"
   ]
  },
  {
   "cell_type": "code",
   "execution_count": 34,
   "id": "dfdf7cc1",
   "metadata": {},
   "outputs": [
    {
     "data": {
      "text/plain": [
       "['data science master', 'web dev', 'JDS']"
      ]
     },
     "execution_count": 34,
     "metadata": {},
     "output_type": "execute_result"
    }
   ],
   "source": [
    "d15[\"batch\"]"
   ]
  },
  {
   "cell_type": "code",
   "execution_count": 35,
   "id": "835a160d",
   "metadata": {},
   "outputs": [
    {
     "data": {
      "text/plain": [
       "{'Himanshu', 'krish naik', 'sudhanshu kumar'}"
      ]
     },
     "execution_count": 35,
     "metadata": {},
     "output_type": "execute_result"
    }
   ],
   "source": [
    "d15[\"mentor_name\"]"
   ]
  },
  {
   "cell_type": "code",
   "execution_count": 36,
   "id": "698f3100",
   "metadata": {},
   "outputs": [
    {
     "ename": "KeyError",
     "evalue": "'key'",
     "output_type": "error",
     "traceback": [
      "\u001b[1;31m---------------------------------------------------------------------------\u001b[0m",
      "\u001b[1;31mKeyError\u001b[0m                                  Traceback (most recent call last)",
      "Cell \u001b[1;32mIn[36], line 1\u001b[0m\n\u001b[1;32m----> 1\u001b[0m \u001b[43md15\u001b[49m\u001b[43m[\u001b[49m\u001b[38;5;124;43m\"\u001b[39;49m\u001b[38;5;124;43mkey\u001b[39;49m\u001b[38;5;124;43m\"\u001b[39;49m\u001b[43m]\u001b[49m\n",
      "\u001b[1;31mKeyError\u001b[0m: 'key'"
     ]
    }
   ],
   "source": [
    "d15[\"key\"]"
   ]
  },
  {
   "cell_type": "code",
   "execution_count": 39,
   "id": "d886060d",
   "metadata": {},
   "outputs": [],
   "source": [
    "d15[\"name\"] = \"Tushar\""
   ]
  },
  {
   "cell_type": "code",
   "execution_count": 40,
   "id": "31fa6102",
   "metadata": {},
   "outputs": [
    {
     "data": {
      "text/plain": [
       "{'batch': ['data science master', 'web dev', 'JDS'],\n",
       " 'start_data': (28, 14, 21),\n",
       " 'mentor_name': {'Himanshu', 'krish naik', 'sudhanshu kumar'},\n",
       " 'timing': (8, 8, 8),\n",
       " 'name': 'Tushar'}"
      ]
     },
     "execution_count": 40,
     "metadata": {},
     "output_type": "execute_result"
    }
   ],
   "source": [
    "d15"
   ]
  },
  {
   "cell_type": "code",
   "execution_count": 41,
   "id": "d30eafd4",
   "metadata": {},
   "outputs": [
    {
     "data": {
      "text/plain": [
       "'TUSHAR'"
      ]
     },
     "execution_count": 41,
     "metadata": {},
     "output_type": "execute_result"
    }
   ],
   "source": [
    "d15[\"name\"].upper()"
   ]
  },
  {
   "cell_type": "code",
   "execution_count": 42,
   "id": "54e1884b",
   "metadata": {},
   "outputs": [
    {
     "data": {
      "text/plain": [
       "{'key': {'name': 'tushar', 'class': 'data science'}}"
      ]
     },
     "execution_count": 42,
     "metadata": {},
     "output_type": "execute_result"
    }
   ],
   "source": [
    "d14"
   ]
  },
  {
   "cell_type": "code",
   "execution_count": 43,
   "id": "ea6aabf6",
   "metadata": {},
   "outputs": [
    {
     "data": {
      "text/plain": [
       "'data science'"
      ]
     },
     "execution_count": 43,
     "metadata": {},
     "output_type": "execute_result"
    }
   ],
   "source": [
    "d14[\"key\"][\"class\"]"
   ]
  },
  {
   "cell_type": "code",
   "execution_count": 44,
   "id": "346ba179",
   "metadata": {},
   "outputs": [
    {
     "data": {
      "text/plain": [
       "dict"
      ]
     },
     "execution_count": 44,
     "metadata": {},
     "output_type": "execute_result"
    }
   ],
   "source": [
    "type(d14[\"key\"])"
   ]
  },
  {
   "cell_type": "code",
   "execution_count": 53,
   "id": "0d5dc4f4",
   "metadata": {},
   "outputs": [],
   "source": [
    "d14[\"key\"][\"class\"] = \"Data Science Masters\""
   ]
  },
  {
   "cell_type": "code",
   "execution_count": 52,
   "id": "8f390e31",
   "metadata": {},
   "outputs": [],
   "source": [
    "d14[\"key1\"] = \"abc\""
   ]
  },
  {
   "cell_type": "code",
   "execution_count": 54,
   "id": "d82758c1",
   "metadata": {},
   "outputs": [
    {
     "data": {
      "text/plain": [
       "{'key': {'name': 'tushar', 'class': 'Data Science Masters'}, 'key1': 'abc'}"
      ]
     },
     "execution_count": 54,
     "metadata": {},
     "output_type": "execute_result"
    }
   ],
   "source": [
    "d14"
   ]
  },
  {
   "cell_type": "code",
   "execution_count": 55,
   "id": "0a3d0a2e",
   "metadata": {},
   "outputs": [],
   "source": [
    "del d14[\"key1\"]"
   ]
  },
  {
   "cell_type": "code",
   "execution_count": 56,
   "id": "1731ada2",
   "metadata": {},
   "outputs": [
    {
     "data": {
      "text/plain": [
       "{'key': {'name': 'tushar', 'class': 'Data Science Masters'}}"
      ]
     },
     "execution_count": 56,
     "metadata": {},
     "output_type": "execute_result"
    }
   ],
   "source": [
    "d14"
   ]
  },
  {
   "cell_type": "code",
   "execution_count": 57,
   "id": "e5b58a75",
   "metadata": {},
   "outputs": [
    {
     "data": {
      "text/plain": [
       "'tushar'"
      ]
     },
     "execution_count": 57,
     "metadata": {},
     "output_type": "execute_result"
    }
   ],
   "source": [
    "d14[\"key\"].pop(\"name\")"
   ]
  },
  {
   "cell_type": "code",
   "execution_count": 58,
   "id": "e20db1a9",
   "metadata": {},
   "outputs": [
    {
     "data": {
      "text/plain": [
       "{'key': {'class': 'Data Science Masters'}}"
      ]
     },
     "execution_count": 58,
     "metadata": {},
     "output_type": "execute_result"
    }
   ],
   "source": [
    "d14"
   ]
  },
  {
   "cell_type": "code",
   "execution_count": 64,
   "id": "572552fa",
   "metadata": {},
   "outputs": [
    {
     "data": {
      "text/plain": [
       "('key', {'name': 'tushar', 'class': 'data science'})"
      ]
     },
     "execution_count": 64,
     "metadata": {},
     "output_type": "execute_result"
    }
   ],
   "source": [
    "d14.popitem()"
   ]
  },
  {
   "cell_type": "code",
   "execution_count": 65,
   "id": "12339e13",
   "metadata": {},
   "outputs": [
    {
     "data": {
      "text/plain": [
       "{}"
      ]
     },
     "execution_count": 65,
     "metadata": {},
     "output_type": "execute_result"
    }
   ],
   "source": [
    "d14"
   ]
  },
  {
   "cell_type": "code",
   "execution_count": 62,
   "id": "f44c6bde",
   "metadata": {},
   "outputs": [
    {
     "ename": "KeyError",
     "evalue": "'popitem(): dictionary is empty'",
     "output_type": "error",
     "traceback": [
      "\u001b[1;31m---------------------------------------------------------------------------\u001b[0m",
      "\u001b[1;31mKeyError\u001b[0m                                  Traceback (most recent call last)",
      "Cell \u001b[1;32mIn[62], line 1\u001b[0m\n\u001b[1;32m----> 1\u001b[0m \u001b[43md14\u001b[49m\u001b[38;5;241;43m.\u001b[39;49m\u001b[43mpopitem\u001b[49m\u001b[43m(\u001b[49m\u001b[43m)\u001b[49m\n",
      "\u001b[1;31mKeyError\u001b[0m: 'popitem(): dictionary is empty'"
     ]
    }
   ],
   "source": [
    "d14.popitem()"
   ]
  },
  {
   "cell_type": "code",
   "execution_count": 66,
   "id": "90ad72f4",
   "metadata": {},
   "outputs": [
    {
     "data": {
      "text/plain": [
       "5"
      ]
     },
     "execution_count": 66,
     "metadata": {},
     "output_type": "execute_result"
    }
   ],
   "source": [
    "len(d15)"
   ]
  },
  {
   "cell_type": "code",
   "execution_count": 76,
   "id": "065cd865",
   "metadata": {
    "scrolled": true
   },
   "outputs": [
    {
     "data": {
      "text/plain": [
       "{'batch': ['data science master', 'web dev', 'JDS'],\n",
       " 'start_data': (28, 14, 21),\n",
       " 'mentor_name': {'Himanshu', 'krish naik', 'sudhanshu kumar'},\n",
       " 'timing': (8, 8, 8),\n",
       " 'name': 'Tushar'}"
      ]
     },
     "execution_count": 76,
     "metadata": {},
     "output_type": "execute_result"
    }
   ],
   "source": [
    "d15"
   ]
  },
  {
   "cell_type": "code",
   "execution_count": 78,
   "id": "2a1419da",
   "metadata": {},
   "outputs": [
    {
     "data": {
      "text/plain": [
       "dict_keys(['batch', 'start_data', 'mentor_name', 'timing', 'name'])"
      ]
     },
     "execution_count": 78,
     "metadata": {},
     "output_type": "execute_result"
    }
   ],
   "source": [
    "d15.keys()"
   ]
  },
  {
   "cell_type": "code",
   "execution_count": 79,
   "id": "c144defd",
   "metadata": {},
   "outputs": [
    {
     "data": {
      "text/plain": [
       "dict_values([['data science master', 'web dev', 'JDS'], (28, 14, 21), {'Himanshu', 'krish naik', 'sudhanshu kumar'}, (8, 8, 8), 'Tushar'])"
      ]
     },
     "execution_count": 79,
     "metadata": {},
     "output_type": "execute_result"
    }
   ],
   "source": [
    "d15.values()"
   ]
  },
  {
   "cell_type": "code",
   "execution_count": 80,
   "id": "0dc3699f",
   "metadata": {},
   "outputs": [
    {
     "data": {
      "text/plain": [
       "[['data science master', 'web dev', 'JDS'],\n",
       " (28, 14, 21),\n",
       " {'Himanshu', 'krish naik', 'sudhanshu kumar'},\n",
       " (8, 8, 8),\n",
       " 'Tushar']"
      ]
     },
     "execution_count": 80,
     "metadata": {},
     "output_type": "execute_result"
    }
   ],
   "source": [
    "list(d15.values())"
   ]
  },
  {
   "cell_type": "code",
   "execution_count": 81,
   "id": "d1771192",
   "metadata": {},
   "outputs": [
    {
     "data": {
      "text/plain": [
       "['batch', 'start_data', 'mentor_name', 'timing', 'name']"
      ]
     },
     "execution_count": 81,
     "metadata": {},
     "output_type": "execute_result"
    }
   ],
   "source": [
    "list(d15.keys())"
   ]
  },
  {
   "cell_type": "code",
   "execution_count": 82,
   "id": "6d1af4c2",
   "metadata": {},
   "outputs": [
    {
     "data": {
      "text/plain": [
       "[('batch', ['data science master', 'web dev', 'JDS']),\n",
       " ('start_data', (28, 14, 21)),\n",
       " ('mentor_name', {'Himanshu', 'krish naik', 'sudhanshu kumar'}),\n",
       " ('timing', (8, 8, 8)),\n",
       " ('name', 'Tushar')]"
      ]
     },
     "execution_count": 82,
     "metadata": {},
     "output_type": "execute_result"
    }
   ],
   "source": [
    "list(d15.items())"
   ]
  },
  {
   "cell_type": "code",
   "execution_count": 86,
   "id": "af64ef78",
   "metadata": {},
   "outputs": [
    {
     "data": {
      "text/plain": [
       "{'batch': ['data science master', 'web dev', 'JDS'],\n",
       " 'start_data': (28, 14, 21),\n",
       " 'mentor_name': {'Himanshu', 'krish naik', 'sudhanshu kumar'},\n",
       " 'timing': (8, 8, 8),\n",
       " 'name': 'Tushar'}"
      ]
     },
     "execution_count": 86,
     "metadata": {},
     "output_type": "execute_result"
    }
   ],
   "source": [
    "d15"
   ]
  },
  {
   "cell_type": "code",
   "execution_count": 87,
   "id": "2d632d01",
   "metadata": {},
   "outputs": [],
   "source": [
    "# Deep copy\n",
    "d16 = d15.copy()"
   ]
  },
  {
   "cell_type": "code",
   "execution_count": 88,
   "id": "fdc16c14",
   "metadata": {},
   "outputs": [
    {
     "data": {
      "text/plain": [
       "{'batch': ['data science master', 'web dev', 'JDS'],\n",
       " 'start_data': (28, 14, 21),\n",
       " 'mentor_name': {'Himanshu', 'krish naik', 'sudhanshu kumar'},\n",
       " 'timing': (8, 8, 8),\n",
       " 'name': 'Tushar'}"
      ]
     },
     "execution_count": 88,
     "metadata": {},
     "output_type": "execute_result"
    }
   ],
   "source": [
    "d16"
   ]
  },
  {
   "cell_type": "code",
   "execution_count": 89,
   "id": "2cffead0",
   "metadata": {},
   "outputs": [],
   "source": [
    "# Swallow copy\n",
    "d17 = d15"
   ]
  },
  {
   "cell_type": "code",
   "execution_count": 90,
   "id": "232cd2d8",
   "metadata": {},
   "outputs": [
    {
     "data": {
      "text/plain": [
       "{'batch': ['data science master', 'web dev', 'JDS'],\n",
       " 'start_data': (28, 14, 21),\n",
       " 'mentor_name': {'Himanshu', 'krish naik', 'sudhanshu kumar'},\n",
       " 'timing': (8, 8, 8),\n",
       " 'name': 'Tushar'}"
      ]
     },
     "execution_count": 90,
     "metadata": {},
     "output_type": "execute_result"
    }
   ],
   "source": [
    "d17"
   ]
  },
  {
   "cell_type": "code",
   "execution_count": 91,
   "id": "5622c924",
   "metadata": {},
   "outputs": [],
   "source": [
    "del d15[\"name\"]"
   ]
  },
  {
   "cell_type": "code",
   "execution_count": 92,
   "id": "96bc972f",
   "metadata": {},
   "outputs": [
    {
     "data": {
      "text/plain": [
       "{'batch': ['data science master', 'web dev', 'JDS'],\n",
       " 'start_data': (28, 14, 21),\n",
       " 'mentor_name': {'Himanshu', 'krish naik', 'sudhanshu kumar'},\n",
       " 'timing': (8, 8, 8),\n",
       " 'name': 'Tushar'}"
      ]
     },
     "execution_count": 92,
     "metadata": {},
     "output_type": "execute_result"
    }
   ],
   "source": [
    "d16"
   ]
  },
  {
   "cell_type": "code",
   "execution_count": 93,
   "id": "6f6121f6",
   "metadata": {},
   "outputs": [
    {
     "data": {
      "text/plain": [
       "{'batch': ['data science master', 'web dev', 'JDS'],\n",
       " 'start_data': (28, 14, 21),\n",
       " 'mentor_name': {'Himanshu', 'krish naik', 'sudhanshu kumar'},\n",
       " 'timing': (8, 8, 8)}"
      ]
     },
     "execution_count": 93,
     "metadata": {},
     "output_type": "execute_result"
    }
   ],
   "source": [
    "d17"
   ]
  },
  {
   "cell_type": "code",
   "execution_count": 94,
   "id": "86a20dfc",
   "metadata": {},
   "outputs": [
    {
     "data": {
      "text/plain": [
       "(8, 8, 8)"
      ]
     },
     "execution_count": 94,
     "metadata": {},
     "output_type": "execute_result"
    }
   ],
   "source": [
    "d15.pop(\"timing\")"
   ]
  },
  {
   "cell_type": "code",
   "execution_count": 95,
   "id": "284ee870",
   "metadata": {},
   "outputs": [
    {
     "data": {
      "text/plain": [
       "{'batch': ['data science master', 'web dev', 'JDS'],\n",
       " 'start_data': (28, 14, 21),\n",
       " 'mentor_name': {'Himanshu', 'krish naik', 'sudhanshu kumar'}}"
      ]
     },
     "execution_count": 95,
     "metadata": {},
     "output_type": "execute_result"
    }
   ],
   "source": [
    "d15"
   ]
  },
  {
   "cell_type": "code",
   "execution_count": 96,
   "id": "20d66be0",
   "metadata": {},
   "outputs": [],
   "source": [
    "var = d15.pop(\"start_data\")"
   ]
  },
  {
   "cell_type": "code",
   "execution_count": 97,
   "id": "281dc881",
   "metadata": {},
   "outputs": [
    {
     "data": {
      "text/plain": [
       "tuple"
      ]
     },
     "execution_count": 97,
     "metadata": {},
     "output_type": "execute_result"
    }
   ],
   "source": [
    "type(var)"
   ]
  },
  {
   "cell_type": "code",
   "execution_count": 98,
   "id": "fb8f1505",
   "metadata": {},
   "outputs": [
    {
     "data": {
      "text/plain": [
       "(28, 14, 21)"
      ]
     },
     "execution_count": 98,
     "metadata": {},
     "output_type": "execute_result"
    }
   ],
   "source": [
    "var"
   ]
  },
  {
   "cell_type": "code",
   "execution_count": 99,
   "id": "cd241c6e",
   "metadata": {},
   "outputs": [
    {
     "data": {
      "text/plain": [
       "{}"
      ]
     },
     "execution_count": 99,
     "metadata": {},
     "output_type": "execute_result"
    }
   ],
   "source": [
    "d"
   ]
  },
  {
   "cell_type": "code",
   "execution_count": 102,
   "id": "18ddc686",
   "metadata": {},
   "outputs": [
    {
     "data": {
      "text/plain": [
       "{1: ('a', 'b'), 2: ('a', 'b'), 3: ('a', 'b')}"
      ]
     },
     "execution_count": 102,
     "metadata": {},
     "output_type": "execute_result"
    }
   ],
   "source": [
    "d.fromkeys((1, 2, 3,),('a', 'b'))"
   ]
  },
  {
   "cell_type": "code",
   "execution_count": 103,
   "id": "ba69132c",
   "metadata": {},
   "outputs": [
    {
     "data": {
      "text/plain": [
       "{}"
      ]
     },
     "execution_count": 103,
     "metadata": {},
     "output_type": "execute_result"
    }
   ],
   "source": [
    "d"
   ]
  },
  {
   "cell_type": "code",
   "execution_count": 104,
   "id": "df5963b4",
   "metadata": {},
   "outputs": [],
   "source": [
    "d18 = {\"key1\":\"value\", \"key2\": \"value2\"}\n",
    "d19 = {\"key3\": \"value3\", \"key4\": \"value4\"}"
   ]
  },
  {
   "cell_type": "code",
   "execution_count": 105,
   "id": "96c5d7e2",
   "metadata": {},
   "outputs": [
    {
     "data": {
      "text/plain": [
       "({'key1': 'value', 'key2': 'value2'}, {'key3': 'value3', 'key4': 'value4'})"
      ]
     },
     "execution_count": 105,
     "metadata": {},
     "output_type": "execute_result"
    }
   ],
   "source": [
    "(d18, d19)"
   ]
  },
  {
   "cell_type": "code",
   "execution_count": 106,
   "id": "71bfbced",
   "metadata": {},
   "outputs": [],
   "source": [
    "d18.update(d19)"
   ]
  },
  {
   "cell_type": "code",
   "execution_count": 107,
   "id": "2a66cd2b",
   "metadata": {},
   "outputs": [
    {
     "data": {
      "text/plain": [
       "{'key1': 'value', 'key2': 'value2', 'key3': 'value3', 'key4': 'value4'}"
      ]
     },
     "execution_count": 107,
     "metadata": {},
     "output_type": "execute_result"
    }
   ],
   "source": [
    "d18"
   ]
  },
  {
   "cell_type": "code",
   "execution_count": 108,
   "id": "654b7ff8",
   "metadata": {},
   "outputs": [
    {
     "data": {
      "text/plain": [
       "{'key3': 'value3', 'key4': 'value4'}"
      ]
     },
     "execution_count": 108,
     "metadata": {},
     "output_type": "execute_result"
    }
   ],
   "source": [
    "d19"
   ]
  },
  {
   "cell_type": "code",
   "execution_count": 109,
   "id": "b7562638",
   "metadata": {},
   "outputs": [],
   "source": [
    "d19.update(d18)  "
   ]
  },
  {
   "cell_type": "code",
   "execution_count": 111,
   "id": "843a28dd",
   "metadata": {},
   "outputs": [
    {
     "name": "stdout",
     "output_type": "stream",
     "text": [
      "None\n"
     ]
    }
   ],
   "source": [
    "print(d18.get(\"tushar\"))"
   ]
  },
  {
   "cell_type": "code",
   "execution_count": 112,
   "id": "39fcd273",
   "metadata": {},
   "outputs": [
    {
     "data": {
      "text/plain": [
       "'value3'"
      ]
     },
     "execution_count": 112,
     "metadata": {},
     "output_type": "execute_result"
    }
   ],
   "source": [
    "d18.get(\"key3\")"
   ]
  },
  {
   "cell_type": "markdown",
   "id": "64152c5d",
   "metadata": {},
   "source": [
    "# Dictionary Comprehension"
   ]
  },
  {
   "cell_type": "code",
   "execution_count": 113,
   "id": "e181da49",
   "metadata": {},
   "outputs": [],
   "source": [
    "d20 = {i:i**2 for i in range(1, 11)}"
   ]
  },
  {
   "cell_type": "code",
   "execution_count": 114,
   "id": "b121a323",
   "metadata": {},
   "outputs": [
    {
     "data": {
      "text/plain": [
       "{1: 1, 2: 4, 3: 9, 4: 16, 5: 25, 6: 36, 7: 49, 8: 64, 9: 81, 10: 100}"
      ]
     },
     "execution_count": 114,
     "metadata": {},
     "output_type": "execute_result"
    }
   ],
   "source": [
    "d20"
   ]
  },
  {
   "cell_type": "code",
   "execution_count": 116,
   "id": "2a7978b2",
   "metadata": {},
   "outputs": [
    {
     "data": {
      "text/plain": [
       "{1: 11, 2: 12, 3: 13, 4: 14, 5: 15, 6: 16, 7: 17, 8: 18, 9: 19, 10: 20}"
      ]
     },
     "execution_count": 116,
     "metadata": {},
     "output_type": "execute_result"
    }
   ],
   "source": [
    "{i:i+10 for i in range(1, 11)}"
   ]
  },
  {
   "cell_type": "code",
   "execution_count": 120,
   "id": "741ebdd8",
   "metadata": {},
   "outputs": [],
   "source": [
    "import math\n",
    "d21 = {i: math.log10(i) for i in range(1, 11)}"
   ]
  },
  {
   "cell_type": "code",
   "execution_count": 118,
   "id": "0ae850c3",
   "metadata": {},
   "outputs": [
    {
     "data": {
      "text/plain": [
       "{'batch': ['data science master', 'web dev', 'JDS'],\n",
       " 'mentor_name': {'Himanshu', 'krish naik', 'sudhanshu kumar'}}"
      ]
     },
     "execution_count": 118,
     "metadata": {},
     "output_type": "execute_result"
    }
   ],
   "source": [
    "d15"
   ]
  },
  {
   "cell_type": "code",
   "execution_count": 119,
   "id": "a251f0b9",
   "metadata": {},
   "outputs": [
    {
     "data": {
      "text/plain": [
       "True"
      ]
     },
     "execution_count": 119,
     "metadata": {},
     "output_type": "execute_result"
    }
   ],
   "source": [
    "\"batch\" in d15"
   ]
  },
  {
   "cell_type": "code",
   "execution_count": 121,
   "id": "ab0a3e89",
   "metadata": {},
   "outputs": [
    {
     "data": {
      "text/plain": [
       "{1: 0.0,\n",
       " 2: 0.3010299956639812,\n",
       " 3: 0.47712125471966244,\n",
       " 4: 0.6020599913279624,\n",
       " 5: 0.6989700043360189,\n",
       " 6: 0.7781512503836436,\n",
       " 7: 0.8450980400142568,\n",
       " 8: 0.9030899869919435,\n",
       " 9: 0.9542425094393249,\n",
       " 10: 1.0}"
      ]
     },
     "execution_count": 121,
     "metadata": {},
     "output_type": "execute_result"
    }
   ],
   "source": [
    "d21"
   ]
  },
  {
   "cell_type": "code",
   "execution_count": 123,
   "id": "981339f8",
   "metadata": {},
   "outputs": [
    {
     "data": {
      "text/plain": [
       "{2: 0.3010299956639812,\n",
       " 4: 0.6020599913279624,\n",
       " 6: 0.7781512503836436,\n",
       " 8: 0.9030899869919435,\n",
       " 10: 1.0}"
      ]
     },
     "execution_count": 123,
     "metadata": {},
     "output_type": "execute_result"
    }
   ],
   "source": [
    "{i:d21[i] for i in d21.keys() if i%2 == 0}"
   ]
  },
  {
   "cell_type": "code",
   "execution_count": 126,
   "id": "64dc94e8",
   "metadata": {},
   "outputs": [],
   "source": [
    "atuple = (100,)"
   ]
  },
  {
   "cell_type": "code",
   "execution_count": 130,
   "id": "35daae54",
   "metadata": {},
   "outputs": [
    {
     "name": "stdout",
     "output_type": "stream",
     "text": [
      "(100,)\n"
     ]
    }
   ],
   "source": [
    "print(atuple)"
   ]
  },
  {
   "cell_type": "code",
   "execution_count": 145,
   "id": "02a582a6",
   "metadata": {},
   "outputs": [],
   "source": [
    "set1 = {1, 2, 3, 4}"
   ]
  },
  {
   "cell_type": "code",
   "execution_count": 146,
   "id": "03bc093e",
   "metadata": {},
   "outputs": [],
   "source": [
    "set2 = set1"
   ]
  },
  {
   "cell_type": "code",
   "execution_count": 147,
   "id": "4bfbd71a",
   "metadata": {},
   "outputs": [
    {
     "data": {
      "text/plain": [
       "{1, 2, 3, 4}"
      ]
     },
     "execution_count": 147,
     "metadata": {},
     "output_type": "execute_result"
    }
   ],
   "source": [
    "set2"
   ]
  },
  {
   "cell_type": "code",
   "execution_count": 148,
   "id": "6937f357",
   "metadata": {},
   "outputs": [
    {
     "data": {
      "text/plain": [
       "1"
      ]
     },
     "execution_count": 148,
     "metadata": {},
     "output_type": "execute_result"
    }
   ],
   "source": [
    "set1.pop()"
   ]
  },
  {
   "cell_type": "code",
   "execution_count": 149,
   "id": "2d2c26ea",
   "metadata": {},
   "outputs": [
    {
     "data": {
      "text/plain": [
       "{2, 3, 4}"
      ]
     },
     "execution_count": 149,
     "metadata": {},
     "output_type": "execute_result"
    }
   ],
   "source": [
    "set2"
   ]
  },
  {
   "cell_type": "code",
   "execution_count": 150,
   "id": "7b962bb3",
   "metadata": {},
   "outputs": [],
   "source": [
    "set1 = {\"Yellow\", \"Orange\", \"Black\"}\n",
    "\n",
    "set2 = {\"Orange\", \"Blue\", \"Pink\"}\n",
    "\n",
    "set3 = set2.difference(set1)"
   ]
  },
  {
   "cell_type": "code",
   "execution_count": 151,
   "id": "fbb71f5f",
   "metadata": {},
   "outputs": [
    {
     "data": {
      "text/plain": [
       "{'Blue', 'Pink'}"
      ]
     },
     "execution_count": 151,
     "metadata": {},
     "output_type": "execute_result"
    }
   ],
   "source": [
    "set3"
   ]
  },
  {
   "cell_type": "code",
   "execution_count": null,
   "id": "6d7e7e03",
   "metadata": {},
   "outputs": [],
   "source": []
  }
 ],
 "metadata": {
  "kernelspec": {
   "display_name": "Python 3 (ipykernel)",
   "language": "python",
   "name": "python3"
  },
  "language_info": {
   "codemirror_mode": {
    "name": "ipython",
    "version": 3
   },
   "file_extension": ".py",
   "mimetype": "text/x-python",
   "name": "python",
   "nbconvert_exporter": "python",
   "pygments_lexer": "ipython3",
   "version": "3.11.1"
  }
 },
 "nbformat": 4,
 "nbformat_minor": 5
}
