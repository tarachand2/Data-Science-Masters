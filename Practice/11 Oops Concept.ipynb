{
 "cells": [
  {
   "cell_type": "markdown",
   "id": "39d6081b",
   "metadata": {},
   "source": [
    "## OOPs = Object Oriented Programming"
   ]
  },
  {
   "cell_type": "code",
   "execution_count": 1,
   "id": "1178d969",
   "metadata": {},
   "outputs": [],
   "source": [
    "a = 1"
   ]
  },
  {
   "cell_type": "code",
   "execution_count": 2,
   "id": "79f4a2df",
   "metadata": {},
   "outputs": [],
   "source": [
    "b = \"String\""
   ]
  },
  {
   "cell_type": "code",
   "execution_count": 3,
   "id": "274aad92",
   "metadata": {},
   "outputs": [
    {
     "data": {
      "text/plain": [
       "int"
      ]
     },
     "execution_count": 3,
     "metadata": {},
     "output_type": "execute_result"
    }
   ],
   "source": [
    "type(a)"
   ]
  },
  {
   "cell_type": "code",
   "execution_count": 4,
   "id": "740de022",
   "metadata": {},
   "outputs": [
    {
     "name": "stdout",
     "output_type": "stream",
     "text": [
      "<class 'int'> <class 'str'>\n"
     ]
    }
   ],
   "source": [
    "print(type(a), type(b))"
   ]
  },
  {
   "cell_type": "markdown",
   "id": "9ddd5fe8",
   "metadata": {},
   "source": [
    "### Class Creation"
   ]
  },
  {
   "cell_type": "code",
   "execution_count": 5,
   "id": "cc8367da",
   "metadata": {},
   "outputs": [],
   "source": [
    "class Test:\n",
    "    pass"
   ]
  },
  {
   "cell_type": "code",
   "execution_count": 6,
   "id": "59a003aa",
   "metadata": {},
   "outputs": [],
   "source": [
    "var = Test()"
   ]
  },
  {
   "cell_type": "code",
   "execution_count": 7,
   "id": "2f3340d2",
   "metadata": {},
   "outputs": [
    {
     "data": {
      "text/plain": [
       "__main__.Test"
      ]
     },
     "execution_count": 7,
     "metadata": {},
     "output_type": "execute_result"
    }
   ],
   "source": [
    "type(var)"
   ]
  },
  {
   "cell_type": "code",
   "execution_count": 8,
   "id": "1ba94820",
   "metadata": {},
   "outputs": [
    {
     "name": "stdout",
     "output_type": "stream",
     "text": [
      "<class '__main__.Test'>\n"
     ]
    }
   ],
   "source": [
    "print(type(var))"
   ]
  },
  {
   "cell_type": "markdown",
   "id": "480870c2",
   "metadata": {},
   "source": [
    "### Class method creation"
   ]
  },
  {
   "cell_type": "code",
   "execution_count": 12,
   "id": "785b3f73",
   "metadata": {},
   "outputs": [],
   "source": [
    "class Test1:\n",
    "    \n",
    "    def welcome(self):\n",
    "        print(\"Welcome to OOPs concept\")"
   ]
  },
  {
   "cell_type": "code",
   "execution_count": 14,
   "id": "ac2de37a",
   "metadata": {},
   "outputs": [],
   "source": [
    "obj = Test1()"
   ]
  },
  {
   "cell_type": "code",
   "execution_count": 15,
   "id": "9ab52dda",
   "metadata": {},
   "outputs": [
    {
     "name": "stdout",
     "output_type": "stream",
     "text": [
      "Welcome to OOPs concept\n"
     ]
    }
   ],
   "source": [
    "obj.welcome()"
   ]
  },
  {
   "cell_type": "markdown",
   "id": "255fc350",
   "metadata": {},
   "source": [
    "### Class Constructor creation"
   ]
  },
  {
   "cell_type": "code",
   "execution_count": 17,
   "id": "c23db5a7",
   "metadata": {},
   "outputs": [],
   "source": [
    "class PWSkills:\n",
    "    def __init__(self, phone, email, s_id):\n",
    "        self.phone = phone\n",
    "        self.email = email\n",
    "        self.s_id = s_id\n",
    "    \n",
    "    def return_s_details(self):\n",
    "        return self.phone, self.email, self.s_id\n",
    "    "
   ]
  },
  {
   "cell_type": "code",
   "execution_count": 18,
   "id": "a5eac4fc",
   "metadata": {},
   "outputs": [
    {
     "ename": "TypeError",
     "evalue": "PWSkills.__init__() missing 3 required positional arguments: 'phone', 'email', and 's_id'",
     "output_type": "error",
     "traceback": [
      "\u001b[1;31m---------------------------------------------------------------------------\u001b[0m",
      "\u001b[1;31mTypeError\u001b[0m                                 Traceback (most recent call last)",
      "Cell \u001b[1;32mIn[18], line 1\u001b[0m\n\u001b[1;32m----> 1\u001b[0m tushar \u001b[38;5;241m=\u001b[39m \u001b[43mPWSkills\u001b[49m\u001b[43m(\u001b[49m\u001b[43m)\u001b[49m\n",
      "\u001b[1;31mTypeError\u001b[0m: PWSkills.__init__() missing 3 required positional arguments: 'phone', 'email', and 's_id'"
     ]
    }
   ],
   "source": [
    "tushar = PWSkills()"
   ]
  },
  {
   "cell_type": "code",
   "execution_count": 19,
   "id": "786e1c91",
   "metadata": {},
   "outputs": [],
   "source": [
    "tushar = PWSkills(91298320, \"tt@gmail.com\", 121)"
   ]
  },
  {
   "cell_type": "code",
   "execution_count": 21,
   "id": "a24be247",
   "metadata": {},
   "outputs": [
    {
     "data": {
      "text/plain": [
       "91298320"
      ]
     },
     "execution_count": 21,
     "metadata": {},
     "output_type": "execute_result"
    }
   ],
   "source": [
    "tushar.phone"
   ]
  },
  {
   "cell_type": "code",
   "execution_count": 22,
   "id": "eaff4ea3",
   "metadata": {},
   "outputs": [
    {
     "data": {
      "text/plain": [
       "'tt@gmail.com'"
      ]
     },
     "execution_count": 22,
     "metadata": {},
     "output_type": "execute_result"
    }
   ],
   "source": [
    "tushar.email"
   ]
  },
  {
   "cell_type": "code",
   "execution_count": 23,
   "id": "f2b67716",
   "metadata": {},
   "outputs": [
    {
     "data": {
      "text/plain": [
       "121"
      ]
     },
     "execution_count": 23,
     "metadata": {},
     "output_type": "execute_result"
    }
   ],
   "source": [
    "tushar.s_id"
   ]
  },
  {
   "cell_type": "markdown",
   "id": "47f43f14",
   "metadata": {},
   "source": [
    "### Changing referene variable i.e. `self`"
   ]
  },
  {
   "cell_type": "code",
   "execution_count": 24,
   "id": "bbc0992c",
   "metadata": {},
   "outputs": [],
   "source": [
    "class PWSkills1:\n",
    "    def __init__(taru, phone, email, s_id):\n",
    "        taru.phone = phone\n",
    "        taru.email = email\n",
    "        taru.s_id = s_id\n",
    "    \n",
    "    def return_s_details(taru):\n",
    "        return taru.phone, taru.email, taru.s_id"
   ]
  },
  {
   "cell_type": "code",
   "execution_count": 25,
   "id": "f9faa059",
   "metadata": {},
   "outputs": [],
   "source": [
    "rohan = PWSkills1(9832389834, \"rohan@gmail.com\", 234)"
   ]
  },
  {
   "cell_type": "code",
   "execution_count": 26,
   "id": "fe44f8e6",
   "metadata": {},
   "outputs": [
    {
     "data": {
      "text/plain": [
       "9832389834"
      ]
     },
     "execution_count": 26,
     "metadata": {},
     "output_type": "execute_result"
    }
   ],
   "source": [
    "rohan.phone"
   ]
  },
  {
   "cell_type": "code",
   "execution_count": 27,
   "id": "a68042f6",
   "metadata": {},
   "outputs": [
    {
     "data": {
      "text/plain": [
       "'rohan@gmail.com'"
      ]
     },
     "execution_count": 27,
     "metadata": {},
     "output_type": "execute_result"
    }
   ],
   "source": [
    "rohan.email"
   ]
  },
  {
   "cell_type": "code",
   "execution_count": 28,
   "id": "f57f07a6",
   "metadata": {},
   "outputs": [
    {
     "data": {
      "text/plain": [
       "(9832389834, 'rohan@gmail.com', 234)"
      ]
     },
     "execution_count": 28,
     "metadata": {},
     "output_type": "execute_result"
    }
   ],
   "source": [
    "rohan.return_s_details()"
   ]
  },
  {
   "cell_type": "code",
   "execution_count": 35,
   "id": "51013f83",
   "metadata": {},
   "outputs": [],
   "source": [
    "class PWSkills2:\n",
    "    def __init__(taru, phone, email, s_id):\n",
    "        taru.phone1 = phone\n",
    "        taru.email = email\n",
    "        taru.s_id = s_id\n",
    "    \n",
    "    def return_s_details(taru):\n",
    "        return taru.phone1, taru.email, taru.s_id"
   ]
  },
  {
   "cell_type": "code",
   "execution_count": 36,
   "id": "e679cfd0",
   "metadata": {},
   "outputs": [],
   "source": [
    "mohan = PWSkills2(2937483, \"mohan@gmail.com\", 293)"
   ]
  },
  {
   "cell_type": "code",
   "execution_count": 37,
   "id": "24dc647f",
   "metadata": {},
   "outputs": [
    {
     "data": {
      "text/plain": [
       "2937483"
      ]
     },
     "execution_count": 37,
     "metadata": {},
     "output_type": "execute_result"
    }
   ],
   "source": [
    "mohan.phone1"
   ]
  },
  {
   "cell_type": "code",
   "execution_count": 34,
   "id": "9c0e5f17",
   "metadata": {},
   "outputs": [
    {
     "ename": "AttributeError",
     "evalue": "'PWSkills2' object has no attribute 'phone'",
     "output_type": "error",
     "traceback": [
      "\u001b[1;31m---------------------------------------------------------------------------\u001b[0m",
      "\u001b[1;31mAttributeError\u001b[0m                            Traceback (most recent call last)",
      "Cell \u001b[1;32mIn[34], line 1\u001b[0m\n\u001b[1;32m----> 1\u001b[0m \u001b[43mmohan\u001b[49m\u001b[38;5;241;43m.\u001b[39;49m\u001b[43mreturn_s_details\u001b[49m\u001b[43m(\u001b[49m\u001b[43m)\u001b[49m\n",
      "Cell \u001b[1;32mIn[29], line 8\u001b[0m, in \u001b[0;36mPWSkills2.return_s_details\u001b[1;34m(taru)\u001b[0m\n\u001b[0;32m      7\u001b[0m \u001b[38;5;28;01mdef\u001b[39;00m \u001b[38;5;21mreturn_s_details\u001b[39m(taru):\n\u001b[1;32m----> 8\u001b[0m     \u001b[38;5;28;01mreturn\u001b[39;00m \u001b[43mtaru\u001b[49m\u001b[38;5;241;43m.\u001b[39;49m\u001b[43mphone\u001b[49m, taru\u001b[38;5;241m.\u001b[39memail, taru\u001b[38;5;241m.\u001b[39ms_id\n",
      "\u001b[1;31mAttributeError\u001b[0m: 'PWSkills2' object has no attribute 'phone'"
     ]
    }
   ],
   "source": [
    "mohan.return_s_details()"
   ]
  },
  {
   "cell_type": "code",
   "execution_count": 38,
   "id": "2b2b2d0e",
   "metadata": {},
   "outputs": [
    {
     "data": {
      "text/plain": [
       "(2937483, 'mohan@gmail.com', 293)"
      ]
     },
     "execution_count": 38,
     "metadata": {},
     "output_type": "execute_result"
    }
   ],
   "source": [
    "mohan.return_s_details()"
   ]
  },
  {
   "cell_type": "code",
   "execution_count": null,
   "id": "25ba9b34",
   "metadata": {},
   "outputs": [],
   "source": []
  },
  {
   "cell_type": "markdown",
   "id": "85eeef90",
   "metadata": {},
   "source": [
    "## Youtube tutorial - corey schafer"
   ]
  },
  {
   "cell_type": "code",
   "execution_count": 1,
   "id": "3785c941",
   "metadata": {},
   "outputs": [],
   "source": [
    "class Employee:\n",
    "    pass"
   ]
  },
  {
   "cell_type": "code",
   "execution_count": 2,
   "id": "a42aa1d7",
   "metadata": {},
   "outputs": [],
   "source": [
    "emp_1 = Employee()\n",
    "emp_2 = Employee()"
   ]
  },
  {
   "cell_type": "code",
   "execution_count": 3,
   "id": "6676d146",
   "metadata": {},
   "outputs": [
    {
     "name": "stdout",
     "output_type": "stream",
     "text": [
      "<__main__.Employee object at 0x0000029EE5C5B650>\n",
      "<__main__.Employee object at 0x0000029EE5C5B650>\n"
     ]
    }
   ],
   "source": [
    "print(emp_1)\n",
    "print(emp_1)"
   ]
  },
  {
   "cell_type": "code",
   "execution_count": 4,
   "id": "e36fc719",
   "metadata": {},
   "outputs": [],
   "source": [
    "emp_1.first = 'Tarachand'\n",
    "emp_1.last = 'Khorwal'\n",
    "emp_1.email = 'Tarachand.Khorwal@company.com'\n",
    "emp_1.pay = 50000"
   ]
  },
  {
   "cell_type": "code",
   "execution_count": 5,
   "id": "29114d9c",
   "metadata": {},
   "outputs": [],
   "source": [
    "emp_2.first = 'Test'\n",
    "emp_2.last = 'User'\n",
    "emp_2.email = 'Test.User@company.com'\n",
    "emp_2.pay = 60000"
   ]
  },
  {
   "cell_type": "code",
   "execution_count": 7,
   "id": "7bd37120",
   "metadata": {},
   "outputs": [
    {
     "name": "stdout",
     "output_type": "stream",
     "text": [
      "Tarachand.Khorwal@company.com\n",
      "Test.User@company.com\n"
     ]
    }
   ],
   "source": [
    "print(emp_1.email)\n",
    "print(emp_2.email)"
   ]
  },
  {
   "cell_type": "code",
   "execution_count": 15,
   "id": "da212efe",
   "metadata": {},
   "outputs": [],
   "source": [
    "class Employee:\n",
    "    def __init__(self, first, last, pay):\n",
    "        self.first = first\n",
    "        self.last = last\n",
    "        self.pay = pay\n",
    "        self.email = self.first + '.' + self.last + '@company.com'\n",
    "        \n",
    "    def fullname(self):\n",
    "        return '{} {}'.format(emp_1.first, emp_1.last)"
   ]
  },
  {
   "cell_type": "code",
   "execution_count": 16,
   "id": "d4d21d92",
   "metadata": {},
   "outputs": [],
   "source": [
    "emp_1 = Employee(\"Tarachand\", \"Khorwa\", 50000)\n",
    "emp_2 = Employee(\"Test\", \"User\", 60000)"
   ]
  },
  {
   "cell_type": "code",
   "execution_count": 17,
   "id": "77d28425",
   "metadata": {},
   "outputs": [
    {
     "name": "stdout",
     "output_type": "stream",
     "text": [
      "Tarachand.Khorwa@company.com\n",
      "Test.User@company.com\n"
     ]
    }
   ],
   "source": [
    "print(emp_1.email)\n",
    "print(emp_2.email)"
   ]
  },
  {
   "cell_type": "code",
   "execution_count": 18,
   "id": "457ac232",
   "metadata": {},
   "outputs": [
    {
     "name": "stdout",
     "output_type": "stream",
     "text": [
      "Tarachand Khorwa\n"
     ]
    }
   ],
   "source": [
    "# printing full name\n",
    "print('{} {}'.format(emp_1.first, emp_1.last))"
   ]
  },
  {
   "cell_type": "code",
   "execution_count": 19,
   "id": "06cd79a2",
   "metadata": {},
   "outputs": [
    {
     "data": {
      "text/plain": [
       "'Tarachand Khorwa'"
      ]
     },
     "execution_count": 19,
     "metadata": {},
     "output_type": "execute_result"
    }
   ],
   "source": [
    "emp_1.fullname()"
   ]
  },
  {
   "cell_type": "code",
   "execution_count": 28,
   "id": "b652f7ed",
   "metadata": {},
   "outputs": [],
   "source": [
    "class Employee:\n",
    "    def __init__(self, first, last, pay):\n",
    "        self.first = first\n",
    "        self.last = last\n",
    "        self.pay = pay\n",
    "        self.email = self.first + '.' + self.last + '@company.com'\n",
    "        \n",
    "    def fullname(self):\n",
    "        return '{} {}'.format(emp_1.first, emp_1.last)"
   ]
  },
  {
   "cell_type": "code",
   "execution_count": 24,
   "id": "544a607a",
   "metadata": {},
   "outputs": [],
   "source": [
    "emp_1 = Employee(\"Tarachand\", \"Khorwa\", 50000)\n",
    "emp_2 = Employee(\"Test\", \"User\", 60000)"
   ]
  },
  {
   "cell_type": "code",
   "execution_count": 25,
   "id": "59be458d",
   "metadata": {},
   "outputs": [
    {
     "ename": "TypeError",
     "evalue": "Employee.fullname() takes 0 positional arguments but 1 was given",
     "output_type": "error",
     "traceback": [
      "\u001b[1;31m---------------------------------------------------------------------------\u001b[0m",
      "\u001b[1;31mTypeError\u001b[0m                                 Traceback (most recent call last)",
      "Cell \u001b[1;32mIn[25], line 1\u001b[0m\n\u001b[1;32m----> 1\u001b[0m \u001b[43memp_1\u001b[49m\u001b[38;5;241;43m.\u001b[39;49m\u001b[43mfullname\u001b[49m\u001b[43m(\u001b[49m\u001b[43m)\u001b[49m\n",
      "\u001b[1;31mTypeError\u001b[0m: Employee.fullname() takes 0 positional arguments but 1 was given"
     ]
    }
   ],
   "source": [
    "# without self keyword in instance method\n",
    "emp_1.fullname()"
   ]
  },
  {
   "cell_type": "code",
   "execution_count": 29,
   "id": "19e40cc2",
   "metadata": {},
   "outputs": [
    {
     "data": {
      "text/plain": [
       "'Tarachand Khorwa'"
      ]
     },
     "execution_count": 29,
     "metadata": {},
     "output_type": "execute_result"
    }
   ],
   "source": [
    "emp_1.fullname()\n",
    "Employee.fullname(emp_1)"
   ]
  },
  {
   "cell_type": "markdown",
   "id": "a3c08d5e",
   "metadata": {},
   "source": [
    "## Class Variables"
   ]
  },
  {
   "cell_type": "code",
   "execution_count": 33,
   "id": "482415cc",
   "metadata": {},
   "outputs": [],
   "source": [
    "class Employee:\n",
    "    def __init__(self, first, last, pay):\n",
    "        self.first = first\n",
    "        self.last = last\n",
    "        self.pay = pay\n",
    "        self.email = self.first + '.' + self.last + '@company.com'\n",
    "        \n",
    "    def fullname(self):\n",
    "        return '{} {}'.format(emp_1.first, emp_1.last)\n",
    "    \n",
    "    def apply_raise(self):\n",
    "        self.pay = int(self.pay * 1.04)"
   ]
  },
  {
   "cell_type": "code",
   "execution_count": 37,
   "id": "713ead7d",
   "metadata": {},
   "outputs": [],
   "source": [
    "emp_1 = Employee(\"Tarachand\", \"Khorwal\", 50000)\n",
    "emp_2 = Employee(\"Test\", \"User\", 60000)"
   ]
  },
  {
   "cell_type": "code",
   "execution_count": 38,
   "id": "d63c1893",
   "metadata": {},
   "outputs": [
    {
     "name": "stdout",
     "output_type": "stream",
     "text": [
      "50000\n",
      "52000\n"
     ]
    }
   ],
   "source": [
    "print(emp_1.pay)\n",
    "emp_1.apply_raise()\n",
    "print(emp_1.pay)"
   ]
  },
  {
   "cell_type": "code",
   "execution_count": 36,
   "id": "134da50d",
   "metadata": {},
   "outputs": [],
   "source": [
    "class Employee:\n",
    "    \n",
    "    raise_amount = 1.04\n",
    "    \n",
    "    def __init__(self, first, last, pay):\n",
    "        self.first = first\n",
    "        self.last = last\n",
    "        self.pay = pay\n",
    "        self.email = self.first + '.' + self.last + '@company.com'\n",
    "        \n",
    "    def fullname(self):\n",
    "        return '{} {}'.format(emp_1.first, emp_1.last)\n",
    "    \n",
    "    def apply_raise(self):\n",
    "        # we can use self.raise_amount instead of using classname\n",
    "        self.pay = int(self.pay * Employee.raise_amount)"
   ]
  },
  {
   "cell_type": "code",
   "execution_count": 39,
   "id": "9e9c9595",
   "metadata": {},
   "outputs": [
    {
     "name": "stdout",
     "output_type": "stream",
     "text": [
      "1.04\n",
      "1.04\n",
      "1.04\n"
     ]
    }
   ],
   "source": [
    "print(Employee.raise_amount)\n",
    "print(emp_1.raise_amount)\n",
    "print(emp_2.raise_amount)"
   ]
  },
  {
   "cell_type": "code",
   "execution_count": 47,
   "id": "6e442473",
   "metadata": {},
   "outputs": [],
   "source": [
    "Employee.raise_amount = 1.04"
   ]
  },
  {
   "cell_type": "code",
   "execution_count": 41,
   "id": "26347154",
   "metadata": {},
   "outputs": [
    {
     "name": "stdout",
     "output_type": "stream",
     "text": [
      "1.05\n",
      "1.05\n",
      "1.05\n"
     ]
    }
   ],
   "source": [
    "print(Employee.raise_amount)\n",
    "print(emp_1.raise_amount)\n",
    "print(emp_2.raise_amount)"
   ]
  },
  {
   "cell_type": "code",
   "execution_count": 42,
   "id": "c86bda99",
   "metadata": {},
   "outputs": [
    {
     "data": {
      "text/plain": [
       "mappingproxy({'__module__': '__main__',\n",
       "              'raise_amount': 1.05,\n",
       "              '__init__': <function __main__.Employee.__init__(self, first, last, pay)>,\n",
       "              'fullname': <function __main__.Employee.fullname(self)>,\n",
       "              'apply_raise': <function __main__.Employee.apply_raise(self)>,\n",
       "              '__dict__': <attribute '__dict__' of 'Employee' objects>,\n",
       "              '__weakref__': <attribute '__weakref__' of 'Employee' objects>,\n",
       "              '__doc__': None})"
      ]
     },
     "execution_count": 42,
     "metadata": {},
     "output_type": "execute_result"
    }
   ],
   "source": [
    "Employee.__dict__"
   ]
  },
  {
   "cell_type": "code",
   "execution_count": 48,
   "id": "64773077",
   "metadata": {},
   "outputs": [],
   "source": [
    "emp_1.raise_amount = 1.05"
   ]
  },
  {
   "cell_type": "code",
   "execution_count": 49,
   "id": "8c93b864",
   "metadata": {},
   "outputs": [
    {
     "name": "stdout",
     "output_type": "stream",
     "text": [
      "1.04\n",
      "1.05\n",
      "1.04\n"
     ]
    }
   ],
   "source": [
    "print(Employee.raise_amount)\n",
    "print(emp_1.raise_amount)\n",
    "print(emp_2.raise_amount)"
   ]
  },
  {
   "cell_type": "code",
   "execution_count": 51,
   "id": "c8273947",
   "metadata": {},
   "outputs": [],
   "source": [
    "class Employee:\n",
    "    \n",
    "    num_of_emps = 0\n",
    "    raise_amount = 1.04\n",
    "    \n",
    "    def __init__(self, first, last, pay):\n",
    "        self.first = first\n",
    "        self.last = last\n",
    "        self.pay = pay\n",
    "        self.email = self.first + '.' + self.last + '@company.com'\n",
    "        \n",
    "        Employee.num_of_emps += 1\n",
    "        \n",
    "    def fullname(self):\n",
    "        return '{} {}'.format(emp_1.first, emp_1.last)\n",
    "    \n",
    "    def apply_raise(self):\n",
    "        # we can use Employee.raise_amount instead of using instance\n",
    "        self.pay = int(self.pay * self.raise_amount)"
   ]
  },
  {
   "cell_type": "code",
   "execution_count": 52,
   "id": "733b3b69",
   "metadata": {},
   "outputs": [
    {
     "name": "stdout",
     "output_type": "stream",
     "text": [
      "0\n"
     ]
    }
   ],
   "source": [
    "print(Employee.num_of_emps)"
   ]
  },
  {
   "cell_type": "code",
   "execution_count": 53,
   "id": "e932c481",
   "metadata": {},
   "outputs": [],
   "source": [
    "emp_1 = Employee(\"Tarachand\", \"Khorwal\", 50000)\n",
    "emp_2 = Employee(\"Test\", \"User\", 60000)"
   ]
  },
  {
   "cell_type": "code",
   "execution_count": 54,
   "id": "e689163e",
   "metadata": {},
   "outputs": [
    {
     "name": "stdout",
     "output_type": "stream",
     "text": [
      "2\n"
     ]
    }
   ],
   "source": [
    "print(Employee.num_of_emps)"
   ]
  },
  {
   "cell_type": "code",
   "execution_count": null,
   "id": "6cfc255c",
   "metadata": {},
   "outputs": [],
   "source": [
    "print(Employee.raise_amount)\n",
    "print(emp_1.raise_amount)\n",
    "print(emp_2.raise_amount)"
   ]
  },
  {
   "cell_type": "markdown",
   "id": "df18879f",
   "metadata": {},
   "source": [
    "## Class Method"
   ]
  },
  {
   "cell_type": "code",
   "execution_count": 64,
   "id": "7059f43b",
   "metadata": {},
   "outputs": [],
   "source": [
    "class Employee:\n",
    "    \n",
    "    num_of_emps = 0\n",
    "    raise_amt = 1.04\n",
    "    \n",
    "    def __init__(self, first, last, pay):\n",
    "        self.first = first\n",
    "        self.last = last\n",
    "        self.pay = pay\n",
    "        self.email = self.first + '.' + self.last + '@company.com'\n",
    "        \n",
    "        Employee.num_of_emps += 1\n",
    "        \n",
    "    def fullname(self):\n",
    "        return '{} {}'.format(emp_1.first, emp_1.last)\n",
    "    \n",
    "    def apply_raise(self):\n",
    "        # we can use Employee.raise_amount instead of using instance\n",
    "        self.pay = int(self.pay * self.raise_amount)\n",
    "        \n",
    "    @classmethod\n",
    "    def set_raise_amt(cls, amount):\n",
    "        cls.raise_amt = amount\n",
    "        \n",
    "    @classmethod\n",
    "    def from_string(cls, emp_str):\n",
    "        first, last, pay = emp_str.split('-')\n",
    "        return cls(first, last, pay)"
   ]
  },
  {
   "cell_type": "code",
   "execution_count": 56,
   "id": "c0cc101f",
   "metadata": {},
   "outputs": [],
   "source": [
    "emp_1 = Employee(\"Tarachand\", \"Khorwal\", 50000)\n",
    "emp_2 = Employee(\"Test\", \"User\", 60000)"
   ]
  },
  {
   "cell_type": "code",
   "execution_count": 58,
   "id": "13d4a3d9",
   "metadata": {},
   "outputs": [
    {
     "name": "stdout",
     "output_type": "stream",
     "text": [
      "1.04\n",
      "1.04\n",
      "1.04\n"
     ]
    }
   ],
   "source": [
    "print(Employee.raise_amt)\n",
    "print(emp_1.raise_amt)\n",
    "print(emp_2.raise_amt)"
   ]
  },
  {
   "cell_type": "code",
   "execution_count": 59,
   "id": "cb8851f3",
   "metadata": {},
   "outputs": [],
   "source": [
    "Employee.set_raise_amt(1.05)"
   ]
  },
  {
   "cell_type": "code",
   "execution_count": 60,
   "id": "96b6be58",
   "metadata": {},
   "outputs": [
    {
     "name": "stdout",
     "output_type": "stream",
     "text": [
      "1.05\n",
      "1.05\n",
      "1.05\n"
     ]
    }
   ],
   "source": [
    "print(Employee.raise_amt)\n",
    "print(emp_1.raise_amt)\n",
    "print(emp_2.raise_amt)"
   ]
  },
  {
   "cell_type": "code",
   "execution_count": 61,
   "id": "3547001f",
   "metadata": {},
   "outputs": [],
   "source": [
    "# we can use @classmethod as alternative contructor"
   ]
  },
  {
   "cell_type": "code",
   "execution_count": 62,
   "id": "d62e20bb",
   "metadata": {},
   "outputs": [],
   "source": [
    "# practical usecase to create objects of Employee class using employee data string\n",
    "\n",
    "emp_str_1 = 'John-Doe-70000'\n",
    "emp_str_2 = 'Steve-Smith-30000'\n",
    "emp_str_3 = 'Jane-Doe-90000'"
   ]
  },
  {
   "cell_type": "code",
   "execution_count": 63,
   "id": "3d717186",
   "metadata": {},
   "outputs": [],
   "source": [
    "# using class\n",
    "first, last, pay = emp_str_1.split('-')\n",
    "\n",
    "new_emp_1 = Employee(first, last, pay)"
   ]
  },
  {
   "cell_type": "code",
   "execution_count": 65,
   "id": "8af03a6d",
   "metadata": {},
   "outputs": [],
   "source": [
    "# using class method\n",
    "new_emp_1 = Employee.from_string(emp_str_1)"
   ]
  },
  {
   "cell_type": "code",
   "execution_count": 66,
   "id": "489bd635",
   "metadata": {},
   "outputs": [
    {
     "data": {
      "text/plain": [
       "'John.Doe@company.com'"
      ]
     },
     "execution_count": 66,
     "metadata": {},
     "output_type": "execute_result"
    }
   ],
   "source": [
    "new_emp_1.email"
   ]
  },
  {
   "cell_type": "markdown",
   "id": "1a25ab98",
   "metadata": {},
   "source": [
    "## Static Method"
   ]
  },
  {
   "cell_type": "code",
   "execution_count": 71,
   "id": "d1747a29",
   "metadata": {},
   "outputs": [],
   "source": [
    "class Employee:\n",
    "    \n",
    "    num_of_emps = 0\n",
    "    raise_amt = 1.04\n",
    "    \n",
    "    def __init__(self, first, last, pay):\n",
    "        self.first = first\n",
    "        self.last = last\n",
    "        self.pay = pay\n",
    "        self.email = self.first + '.' + self.last + '@company.com'\n",
    "        \n",
    "        Employee.num_of_emps += 1\n",
    "        \n",
    "    def fullname(self):\n",
    "        return '{} {}'.format(emp_1.first, emp_1.last)\n",
    "    \n",
    "    def apply_raise(self):\n",
    "        # we can use Employee.raise_amount instead of using instance\n",
    "        self.pay = int(self.pay * self.raise_amount)\n",
    "        \n",
    "    @classmethod\n",
    "    def set_raise_amt(cls, amount):\n",
    "        cls.raise_amt = amount\n",
    "        \n",
    "    @classmethod\n",
    "    def from_string(cls, emp_str):\n",
    "        first, last, pay = emp_str.split('-')\n",
    "        return cls(first, last, pay)\n",
    "    \n",
    "    @staticmethod\n",
    "    def is_workday(day):\n",
    "        if day.weekday() == 5 or day.weekday() == 6:\n",
    "            return False\n",
    "        return True"
   ]
  },
  {
   "cell_type": "code",
   "execution_count": 72,
   "id": "562e9a58",
   "metadata": {},
   "outputs": [],
   "source": [
    "emp_1 = Employee(\"Tarachand\", \"Khorwal\", 50000)\n",
    "emp_2 = Employee(\"Test\", \"User\", 60000)"
   ]
  },
  {
   "cell_type": "code",
   "execution_count": 77,
   "id": "d0cc14d8",
   "metadata": {},
   "outputs": [],
   "source": [
    "import datetime\n",
    "my_date = datetime.date(2023, 2, 23)"
   ]
  },
  {
   "cell_type": "code",
   "execution_count": 78,
   "id": "1f503cda",
   "metadata": {},
   "outputs": [
    {
     "data": {
      "text/plain": [
       "True"
      ]
     },
     "execution_count": 78,
     "metadata": {},
     "output_type": "execute_result"
    }
   ],
   "source": [
    "# To check whether today is workday or not\n",
    "emp_1.is_workday(my_date)"
   ]
  },
  {
   "cell_type": "code",
   "execution_count": null,
   "id": "d495441c",
   "metadata": {},
   "outputs": [],
   "source": []
  }
 ],
 "metadata": {
  "kernelspec": {
   "display_name": "Python 3 (ipykernel)",
   "language": "python",
   "name": "python3"
  },
  "language_info": {
   "codemirror_mode": {
    "name": "ipython",
    "version": 3
   },
   "file_extension": ".py",
   "mimetype": "text/x-python",
   "name": "python",
   "nbconvert_exporter": "python",
   "pygments_lexer": "ipython3",
   "version": "3.11.1"
  }
 },
 "nbformat": 4,
 "nbformat_minor": 5
}
