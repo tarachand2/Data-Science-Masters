{
 "cells": [
  {
   "cell_type": "markdown",
   "id": "a58cd66a",
   "metadata": {},
   "source": [
    "## Closures"
   ]
  },
  {
   "cell_type": "markdown",
   "id": "40a95f4a",
   "metadata": {},
   "source": [
    "    \"A closure is a record storing a function together with an environment: a mapping associating each free variable of the function with the value or storage location to which the name was bound when the closure was created.\n",
    "    A closure, unlike a plain function, allows the function to access those captured variables through the closure's reference to them, even when the function is invoked outside their scope.\""
   ]
  },
  {
   "cell_type": "code",
   "execution_count": 3,
   "id": "5c87429a",
   "metadata": {},
   "outputs": [
    {
     "name": "stdout",
     "output_type": "stream",
     "text": [
      "Hi\n"
     ]
    }
   ],
   "source": [
    "def outer_func():\n",
    "    message = 'Hi'\n",
    "    \n",
    "    def inner_func():\n",
    "        print(message)\n",
    "    \n",
    "    return inner_func()\n",
    "\n",
    "outer_func()"
   ]
  },
  {
   "cell_type": "code",
   "execution_count": 5,
   "id": "683abac9",
   "metadata": {},
   "outputs": [],
   "source": [
    "def outer_func():\n",
    "    message = 'Hi'\n",
    "    \n",
    "    def inner_func():\n",
    "        print(message)\n",
    "    \n",
    "    return inner_func\n"
   ]
  },
  {
   "cell_type": "code",
   "execution_count": 6,
   "id": "9d9eedbf",
   "metadata": {},
   "outputs": [],
   "source": [
    "my_func = outer_func()"
   ]
  },
  {
   "cell_type": "code",
   "execution_count": 8,
   "id": "cf00a8be",
   "metadata": {},
   "outputs": [
    {
     "data": {
      "text/plain": [
       "'inner_func'"
      ]
     },
     "execution_count": 8,
     "metadata": {},
     "output_type": "execute_result"
    }
   ],
   "source": [
    "my_func.__name__"
   ]
  },
  {
   "cell_type": "code",
   "execution_count": 10,
   "id": "dffd0661",
   "metadata": {},
   "outputs": [
    {
     "name": "stdout",
     "output_type": "stream",
     "text": [
      "Hi\n"
     ]
    }
   ],
   "source": [
    "my_func()"
   ]
  },
  {
   "cell_type": "code",
   "execution_count": 11,
   "id": "ed1e1c7d",
   "metadata": {},
   "outputs": [
    {
     "name": "stdout",
     "output_type": "stream",
     "text": [
      "Hi\n"
     ]
    }
   ],
   "source": [
    "my_func()"
   ]
  },
  {
   "cell_type": "code",
   "execution_count": 12,
   "id": "5a81c8eb",
   "metadata": {},
   "outputs": [
    {
     "name": "stdout",
     "output_type": "stream",
     "text": [
      "Hi\n"
     ]
    }
   ],
   "source": [
    "my_func()"
   ]
  },
  {
   "cell_type": "code",
   "execution_count": 13,
   "id": "41320138",
   "metadata": {},
   "outputs": [],
   "source": [
    "def outer_func(msg):\n",
    "    message = msg\n",
    "    \n",
    "    def inner_func():\n",
    "        print(message)\n",
    "    \n",
    "    return inner_func"
   ]
  },
  {
   "cell_type": "code",
   "execution_count": 16,
   "id": "9f9a3cbb",
   "metadata": {},
   "outputs": [],
   "source": [
    "hi_func = outer_func('Hi')\n",
    "hello_func = outer_func('Hello')"
   ]
  },
  {
   "cell_type": "code",
   "execution_count": 17,
   "id": "09c8e93c",
   "metadata": {},
   "outputs": [
    {
     "name": "stdout",
     "output_type": "stream",
     "text": [
      "Hi\n"
     ]
    }
   ],
   "source": [
    "hi_func()"
   ]
  },
  {
   "cell_type": "code",
   "execution_count": 19,
   "id": "93963030",
   "metadata": {},
   "outputs": [
    {
     "name": "stdout",
     "output_type": "stream",
     "text": [
      "Hello\n"
     ]
    }
   ],
   "source": [
    "hello_func()"
   ]
  },
  {
   "cell_type": "code",
   "execution_count": 20,
   "id": "bbc9fed5",
   "metadata": {},
   "outputs": [],
   "source": [
    "## another practical example"
   ]
  },
  {
   "cell_type": "code",
   "execution_count": 21,
   "id": "db628c05",
   "metadata": {},
   "outputs": [],
   "source": [
    "import logging\n",
    "logging.basicConfig(filename=\"example.log\", level=logging.INFO)"
   ]
  },
  {
   "cell_type": "code",
   "execution_count": 23,
   "id": "5909fb36",
   "metadata": {},
   "outputs": [],
   "source": [
    "def logger(func):\n",
    "    def log_func(*args):\n",
    "        logging.info(\"Running {} with arguments {}\".format(func.__name__, args))\n",
    "        print(func(*args))\n",
    "    return log_func"
   ]
  },
  {
   "cell_type": "code",
   "execution_count": 24,
   "id": "9e1bfc3d",
   "metadata": {},
   "outputs": [],
   "source": [
    "def add(x, y):\n",
    "    return x + y"
   ]
  },
  {
   "cell_type": "code",
   "execution_count": 25,
   "id": "5a476be9",
   "metadata": {},
   "outputs": [],
   "source": [
    "def sub(x, y):\n",
    "    return x - y"
   ]
  },
  {
   "cell_type": "code",
   "execution_count": 26,
   "id": "547abf10",
   "metadata": {},
   "outputs": [],
   "source": [
    "add_logger = logger(add)"
   ]
  },
  {
   "cell_type": "code",
   "execution_count": 27,
   "id": "62ce17b7",
   "metadata": {},
   "outputs": [],
   "source": [
    "sub_logger = logger(sub)"
   ]
  },
  {
   "cell_type": "code",
   "execution_count": 28,
   "id": "5934b414",
   "metadata": {},
   "outputs": [
    {
     "name": "stdout",
     "output_type": "stream",
     "text": [
      "5\n"
     ]
    }
   ],
   "source": [
    "add_logger(2, 3)"
   ]
  },
  {
   "cell_type": "code",
   "execution_count": 29,
   "id": "4f2913ea",
   "metadata": {},
   "outputs": [
    {
     "name": "stdout",
     "output_type": "stream",
     "text": [
      "9\n"
     ]
    }
   ],
   "source": [
    "add_logger(5, 4)"
   ]
  },
  {
   "cell_type": "code",
   "execution_count": 30,
   "id": "07ae7ae7",
   "metadata": {},
   "outputs": [
    {
     "name": "stdout",
     "output_type": "stream",
     "text": [
      "0\n"
     ]
    }
   ],
   "source": [
    "sub_logger(10, 10)"
   ]
  },
  {
   "cell_type": "code",
   "execution_count": 31,
   "id": "b22e9fcf",
   "metadata": {},
   "outputs": [
    {
     "name": "stdout",
     "output_type": "stream",
     "text": [
      "151\n"
     ]
    }
   ],
   "source": [
    "sub_logger(234, 83)"
   ]
  },
  {
   "cell_type": "code",
   "execution_count": null,
   "id": "50a0e8c1",
   "metadata": {},
   "outputs": [],
   "source": []
  }
 ],
 "metadata": {
  "kernelspec": {
   "display_name": "Python 3 (ipykernel)",
   "language": "python",
   "name": "python3"
  },
  "language_info": {
   "codemirror_mode": {
    "name": "ipython",
    "version": 3
   },
   "file_extension": ".py",
   "mimetype": "text/x-python",
   "name": "python",
   "nbconvert_exporter": "python",
   "pygments_lexer": "ipython3",
   "version": "3.11.1"
  }
 },
 "nbformat": 4,
 "nbformat_minor": 5
}
