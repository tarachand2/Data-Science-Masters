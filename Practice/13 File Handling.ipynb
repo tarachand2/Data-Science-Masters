{
 "cells": [
  {
   "cell_type": "markdown",
   "id": "96589636",
   "metadata": {},
   "source": [
    "## Reading files"
   ]
  },
  {
   "cell_type": "code",
   "execution_count": 4,
   "id": "5cae4401",
   "metadata": {},
   "outputs": [
    {
     "name": "stdout",
     "output_type": "stream",
     "text": [
      "example.txt\n",
      "r\n",
      "Hello world\n"
     ]
    },
    {
     "ename": "AttributeError",
     "evalue": "'_io.TextIOWrapper' object has no attribute 'softspace'",
     "output_type": "error",
     "traceback": [
      "\u001b[1;31m---------------------------------------------------------------------------\u001b[0m",
      "\u001b[1;31mAttributeError\u001b[0m                            Traceback (most recent call last)",
      "Cell \u001b[1;32mIn[4], line 5\u001b[0m\n\u001b[0;32m      3\u001b[0m \u001b[38;5;28mprint\u001b[39m(f\u001b[38;5;241m.\u001b[39mmode)\n\u001b[0;32m      4\u001b[0m \u001b[38;5;28mprint\u001b[39m(f\u001b[38;5;241m.\u001b[39mread())\n\u001b[1;32m----> 5\u001b[0m \u001b[38;5;28mprint\u001b[39m(\u001b[43mf\u001b[49m\u001b[38;5;241;43m.\u001b[39;49m\u001b[43msoftspace\u001b[49m)\n\u001b[0;32m      6\u001b[0m \u001b[38;5;28mprint\u001b[39m(f\u001b[38;5;241m.\u001b[39mwritable())\n\u001b[0;32m      7\u001b[0m f\u001b[38;5;241m.\u001b[39mclose()\n",
      "\u001b[1;31mAttributeError\u001b[0m: '_io.TextIOWrapper' object has no attribute 'softspace'"
     ]
    }
   ],
   "source": [
    "f = open(\"example.txt\", \"r\")\n",
    "print(f.name)\n",
    "print(f.mode)\n",
    "print(f.read())\n",
    "print(f.softspace)\n",
    "print(f.writable())\n",
    "f.close()"
   ]
  },
  {
   "cell_type": "code",
   "execution_count": 21,
   "id": "9616969c",
   "metadata": {},
   "outputs": [
    {
     "name": "stdout",
     "output_type": "stream",
     "text": [
      "1) This is a test file!\n",
      "2) With multiple lines of data...\n",
      "3) Third line\n",
      "4) Forth line\n",
      "5) Fifth line\n",
      "6) Sixth line\n",
      "7) Seventh line\n",
      "8) Eighth line\n",
      "9) Ninth line\n",
      "10) Tenth line\n"
     ]
    }
   ],
   "source": [
    "with open(\"example.txt\", \"r\") as f:\n",
    "    f_contents = f.read()\n",
    "    print(f_contents)"
   ]
  },
  {
   "cell_type": "code",
   "execution_count": 26,
   "id": "ac781942",
   "metadata": {},
   "outputs": [
    {
     "name": "stdout",
     "output_type": "stream",
     "text": [
      "['1) This is a test file!\\n', '2) With multiple lines of data...\\n', '3) Third line\\n', '4) Forth line\\n', '5) Fifth line\\n', '6) Sixth line\\n', '7) Seventh line\\n', '8) Eighth line\\n', '9) Ninth line\\n', '10) Tenth line']\n"
     ]
    }
   ],
   "source": [
    "with open(\"example.txt\", \"r\") as f:\n",
    "    f_contents = f.readlines()\n",
    "    print(f_contents)"
   ]
  },
  {
   "cell_type": "code",
   "execution_count": 28,
   "id": "01d25ae9",
   "metadata": {},
   "outputs": [
    {
     "name": "stdout",
     "output_type": "stream",
     "text": [
      "1) This is a test file!\n",
      "2) With multiple lines of data...\n"
     ]
    }
   ],
   "source": [
    "with open(\"example.txt\", \"r\") as f:\n",
    "    f_contents = f.readline()\n",
    "    print(f_contents, end='')\n",
    "    \n",
    "    f_contents = f.readline()\n",
    "    print(f_contents, end='')"
   ]
  },
  {
   "cell_type": "code",
   "execution_count": 30,
   "id": "933bf167",
   "metadata": {},
   "outputs": [
    {
     "name": "stdout",
     "output_type": "stream",
     "text": [
      "1) This is a test file!\n",
      "2) With multiple lines of data...\n",
      "3) Third line\n",
      "4) Forth line\n",
      "5) Fifth line\n",
      "6) Sixth line\n",
      "7) Seventh line\n",
      "8) Eighth line\n",
      "9) Ninth line\n",
      "10) Tenth line"
     ]
    }
   ],
   "source": [
    "# fetching lines without using whole data instead fetching each line one by one\n",
    "with open(\"example.txt\", \"r\") as f:\n",
    "    for line in f:\n",
    "        print(line, end=\"\")"
   ]
  },
  {
   "cell_type": "code",
   "execution_count": 36,
   "id": "0c5fae56",
   "metadata": {},
   "outputs": [
    {
     "name": "stdout",
     "output_type": "stream",
     "text": [
      "1) This is a test file!\n",
      "2) With multiple lines of data...\n",
      "3) Third line\n",
      "4) Forth line\n",
      "5) Fifth line\n",
      "6) Sixth line\n",
      "7) Seventh line\n",
      "8) Eighth line\n",
      "9) Ninth line\n",
      "10) Tenth line"
     ]
    }
   ],
   "source": [
    "with open(\"example.txt\", \"r\") as f:\n",
    "    \n",
    "    f_contents = f.read(100)\n",
    "    print(f_contents, end='')\n",
    "    \n",
    "    f_contents = f.read(100)\n",
    "    print(f_contents, end='')\n",
    "    \n",
    "    f_contents = f.read(100)\n",
    "    print(f_contents, end='')"
   ]
  },
  {
   "cell_type": "code",
   "execution_count": 44,
   "id": "f3b87763",
   "metadata": {},
   "outputs": [
    {
     "name": "stdout",
     "output_type": "stream",
     "text": [
      "1) This is* a test fi*le!\n",
      "2) Wit*h multiple* lines of *data...\n",
      "3)* Third lin*e\n",
      "4) Forth* line\n",
      "5) F*ifth line\n",
      "*6) Sixth l*ine\n",
      "7) Sev*enth line\n",
      "*8) Eighth *line\n",
      "9) Ni*nth line\n",
      "1*0) Tenth l*ine*"
     ]
    }
   ],
   "source": [
    "with open(\"example.txt\", \"r\") as f:\n",
    "    \n",
    "    size_to_read = 10\n",
    "    \n",
    "    f_contents = f.read(size_to_read)\n",
    "   \n",
    "    while len(f_contents) > 0:\n",
    "        print(f_contents, end='*')\n",
    "        f_contents = f.read(size_to_read)\n",
    "    "
   ]
  },
  {
   "cell_type": "code",
   "execution_count": 46,
   "id": "479363f3",
   "metadata": {},
   "outputs": [
    {
     "name": "stdout",
     "output_type": "stream",
     "text": [
      "1) This is a test fi\n",
      "20\n"
     ]
    }
   ],
   "source": [
    "with open(\"example.txt\", \"r\") as f:\n",
    "    \n",
    "    size_to_read = 10\n",
    "    \n",
    "    f_contents = f.read(size_to_read)\n",
    "    print(f_contents, end='')\n",
    "\n",
    "    f_contents = f.read(size_to_read)\n",
    "    print(f_contents)\n",
    "    \n",
    "    print(f.tell())\n",
    "    "
   ]
  },
  {
   "cell_type": "code",
   "execution_count": 47,
   "id": "932436ed",
   "metadata": {},
   "outputs": [
    {
     "name": "stdout",
     "output_type": "stream",
     "text": [
      "1) This is1) This is\n",
      "10\n"
     ]
    }
   ],
   "source": [
    "with open(\"example.txt\", \"r\") as f:\n",
    "    \n",
    "    size_to_read = 10\n",
    "    \n",
    "    f_contents = f.read(size_to_read)\n",
    "    print(f_contents, end='')\n",
    "\n",
    "    f.seek(0)\n",
    "    \n",
    "    f_contents = f.read(size_to_read)\n",
    "    print(f_contents)\n",
    "    \n",
    "    print(f.tell())\n",
    "    "
   ]
  },
  {
   "cell_type": "markdown",
   "id": "94ce1349",
   "metadata": {},
   "source": [
    "## Writing files"
   ]
  },
  {
   "cell_type": "code",
   "execution_count": 48,
   "id": "cff7891f",
   "metadata": {},
   "outputs": [
    {
     "ename": "UnsupportedOperation",
     "evalue": "not writable",
     "output_type": "error",
     "traceback": [
      "\u001b[1;31m---------------------------------------------------------------------------\u001b[0m",
      "\u001b[1;31mUnsupportedOperation\u001b[0m                      Traceback (most recent call last)",
      "Cell \u001b[1;32mIn[48], line 3\u001b[0m\n\u001b[0;32m      1\u001b[0m \u001b[38;5;28;01mwith\u001b[39;00m \u001b[38;5;28mopen\u001b[39m(\u001b[38;5;124m\"\u001b[39m\u001b[38;5;124mexample.txt\u001b[39m\u001b[38;5;124m\"\u001b[39m, \u001b[38;5;124m\"\u001b[39m\u001b[38;5;124mr\u001b[39m\u001b[38;5;124m\"\u001b[39m) \u001b[38;5;28;01mas\u001b[39;00m f:\n\u001b[1;32m----> 3\u001b[0m     \u001b[43mf\u001b[49m\u001b[38;5;241;43m.\u001b[39;49m\u001b[43mwrite\u001b[49m\u001b[43m(\u001b[49m\u001b[38;5;124;43m\"\u001b[39;49m\u001b[38;5;124;43mTest\u001b[39;49m\u001b[38;5;124;43m\"\u001b[39;49m\u001b[43m)\u001b[49m\n",
      "\u001b[1;31mUnsupportedOperation\u001b[0m: not writable"
     ]
    }
   ],
   "source": [
    "with open(\"example.txt\", \"r\") as f:\n",
    "    \n",
    "    f.write(\"Test\")"
   ]
  },
  {
   "cell_type": "code",
   "execution_count": 52,
   "id": "c2bcb214",
   "metadata": {},
   "outputs": [],
   "source": [
    "with open(\"test.txt\", \"w\") as f:\n",
    "    f.write(\"Test\")\n",
    "    f.seek(0)\n",
    "    f.write(\"R\")"
   ]
  },
  {
   "cell_type": "code",
   "execution_count": 53,
   "id": "149f7999",
   "metadata": {},
   "outputs": [],
   "source": [
    "# making copy of text file\n",
    "with open(\"example.txt\", 'r') as rf:\n",
    "    with open(\"test.txt\", 'w') as wf:\n",
    "        for line in rf:\n",
    "            wf.write(line)"
   ]
  },
  {
   "cell_type": "code",
   "execution_count": 56,
   "id": "449a3c53",
   "metadata": {},
   "outputs": [],
   "source": [
    "# making copy of image file\n",
    "with open(\"s1.png\", 'rb') as rf:\n",
    "    with open(\"s1_copy.png\", 'wb') as wf:\n",
    "        for line in rf:\n",
    "            wf.write(line)"
   ]
  },
  {
   "cell_type": "code",
   "execution_count": 1,
   "id": "c08ad338",
   "metadata": {},
   "outputs": [],
   "source": [
    "# creating copy of image file chunk by chunk instead of line by line\n",
    "with open(\"s1.png\", 'rb') as rf:\n",
    "    with open(\"s1_copy.png\", 'wb') as wf:\n",
    "        chunk_size = 4096\n",
    "        rf_chunk = rf.read(chunk_size)\n",
    "        while len(rf_chunk) > 0:\n",
    "            wf.write(rf_chunk)\n",
    "            rf_chunk = rf.read(chunk_size)"
   ]
  },
  {
   "cell_type": "code",
   "execution_count": null,
   "id": "e0700b7e",
   "metadata": {},
   "outputs": [],
   "source": []
  }
 ],
 "metadata": {
  "kernelspec": {
   "display_name": "Python 3 (ipykernel)",
   "language": "python",
   "name": "python3"
  },
  "language_info": {
   "codemirror_mode": {
    "name": "ipython",
    "version": 3
   },
   "file_extension": ".py",
   "mimetype": "text/x-python",
   "name": "python",
   "nbconvert_exporter": "python",
   "pygments_lexer": "ipython3",
   "version": "3.11.1"
  }
 },
 "nbformat": 4,
 "nbformat_minor": 5
}
