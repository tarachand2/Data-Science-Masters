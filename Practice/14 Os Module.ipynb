{
 "cells": [
  {
   "cell_type": "code",
   "execution_count": 2,
   "id": "f292f6ff",
   "metadata": {},
   "outputs": [],
   "source": [
    "import os"
   ]
  },
  {
   "cell_type": "code",
   "execution_count": 2,
   "id": "b1c6e489",
   "metadata": {},
   "outputs": [
    {
     "name": "stdout",
     "output_type": "stream",
     "text": [
      "D:\\data science masters\\Practice\n"
     ]
    }
   ],
   "source": [
    "print(os.getcwd())"
   ]
  },
  {
   "cell_type": "code",
   "execution_count": 3,
   "id": "e6b97621",
   "metadata": {},
   "outputs": [],
   "source": [
    "os.chdir('d:\\\\data science masters\\Assignments')"
   ]
  },
  {
   "cell_type": "code",
   "execution_count": 5,
   "id": "0cc4c397",
   "metadata": {},
   "outputs": [
    {
     "name": "stdout",
     "output_type": "stream",
     "text": [
      "d:\\data science masters\\Assignments\n"
     ]
    }
   ],
   "source": [
    "print(os.getcwd())"
   ]
  },
  {
   "cell_type": "code",
   "execution_count": 6,
   "id": "efae82e3",
   "metadata": {},
   "outputs": [],
   "source": [
    "os.chdir('d:\\\\data science masters\\Practice')"
   ]
  },
  {
   "cell_type": "code",
   "execution_count": 7,
   "id": "ef6a13c5",
   "metadata": {},
   "outputs": [
    {
     "name": "stdout",
     "output_type": "stream",
     "text": [
      "d:\\data science masters\\Practice\n"
     ]
    }
   ],
   "source": [
    "print(os.getcwd())"
   ]
  },
  {
   "cell_type": "code",
   "execution_count": 8,
   "id": "8a5adbd4",
   "metadata": {},
   "outputs": [
    {
     "data": {
      "text/plain": [
       "['.ipynb_checkpoints',\n",
       " '10.1_decorators.ipynb',\n",
       " '10_lambda_map_reduce_filter functions.ipynb',\n",
       " '11_OOPs_concept.ipynb',\n",
       " '12_polymorphism_Encapsulation_Inheritance.ipynb',\n",
       " '13_file_handling.ipynb',\n",
       " '1_python_variables_data_types.ipynb',\n",
       " '2_python_control_flow.ipynb',\n",
       " '3_Expressions_Operators_and_Precedence.ipynb',\n",
       " '3_python_operators_list1.ipynb',\n",
       " '4_string_manipulation_and_methods.ipynb',\n",
       " '5_strings_and_lists.ipynb',\n",
       " '6_tuples.ipynb',\n",
       " '7_sets.ipynb',\n",
       " '8_dictionary.ipynb',\n",
       " '9.1_first_class_functions.ipynb',\n",
       " '9_functions.ipynb',\n",
       " 'closures.ipynb',\n",
       " 'example.txt',\n",
       " 's1.png',\n",
       " 's1_copy.png',\n",
       " 'test.txt',\n",
       " 'Untitled.ipynb']"
      ]
     },
     "execution_count": 8,
     "metadata": {},
     "output_type": "execute_result"
    }
   ],
   "source": [
    "os.listdir()"
   ]
  },
  {
   "cell_type": "markdown",
   "id": "15aa39fc",
   "metadata": {},
   "source": [
    "## Creating directories "
   ]
  },
  {
   "cell_type": "code",
   "execution_count": 9,
   "id": "eb3d2b4a",
   "metadata": {},
   "outputs": [
    {
     "ename": "FileNotFoundError",
     "evalue": "[WinError 3] The system cannot find the path specified: 'os-module/sub-dir'",
     "output_type": "error",
     "traceback": [
      "\u001b[1;31m---------------------------------------------------------------------------\u001b[0m",
      "\u001b[1;31mFileNotFoundError\u001b[0m                         Traceback (most recent call last)",
      "Cell \u001b[1;32mIn[9], line 1\u001b[0m\n\u001b[1;32m----> 1\u001b[0m \u001b[43mos\u001b[49m\u001b[38;5;241;43m.\u001b[39;49m\u001b[43mmkdir\u001b[49m\u001b[43m(\u001b[49m\u001b[38;5;124;43m'\u001b[39;49m\u001b[38;5;124;43mos-module/sub-dir\u001b[39;49m\u001b[38;5;124;43m'\u001b[39;49m\u001b[43m)\u001b[49m\n",
      "\u001b[1;31mFileNotFoundError\u001b[0m: [WinError 3] The system cannot find the path specified: 'os-module/sub-dir'"
     ]
    }
   ],
   "source": [
    "os.mkdir('os-module/sub-dir')"
   ]
  },
  {
   "cell_type": "code",
   "execution_count": 12,
   "id": "7613bfff",
   "metadata": {},
   "outputs": [
    {
     "ename": "FileExistsError",
     "evalue": "[WinError 183] Cannot create a file when that file already exists: 'os-module/sub-dir'",
     "output_type": "error",
     "traceback": [
      "\u001b[1;31m---------------------------------------------------------------------------\u001b[0m",
      "\u001b[1;31mFileExistsError\u001b[0m                           Traceback (most recent call last)",
      "Cell \u001b[1;32mIn[12], line 1\u001b[0m\n\u001b[1;32m----> 1\u001b[0m \u001b[43mos\u001b[49m\u001b[38;5;241;43m.\u001b[39;49m\u001b[43mmakedirs\u001b[49m\u001b[43m(\u001b[49m\u001b[38;5;124;43m'\u001b[39;49m\u001b[38;5;124;43mos-module/sub-dir\u001b[39;49m\u001b[38;5;124;43m'\u001b[39;49m\u001b[43m)\u001b[49m\n\u001b[0;32m      2\u001b[0m os\u001b[38;5;241m.\u001b[39mlistdir()\n",
      "File \u001b[1;32m<frozen os>:225\u001b[0m, in \u001b[0;36mmakedirs\u001b[1;34m(name, mode, exist_ok)\u001b[0m\n",
      "\u001b[1;31mFileExistsError\u001b[0m: [WinError 183] Cannot create a file when that file already exists: 'os-module/sub-dir'"
     ]
    }
   ],
   "source": [
    "os.makedirs('os-module/sub-dir')\n",
    "os.listdir()"
   ]
  },
  {
   "cell_type": "code",
   "execution_count": 11,
   "id": "96127f5d",
   "metadata": {},
   "outputs": [
    {
     "data": {
      "text/plain": [
       "['.ipynb_checkpoints',\n",
       " '10.1_decorators.ipynb',\n",
       " '10_lambda_map_reduce_filter functions.ipynb',\n",
       " '11_OOPs_concept.ipynb',\n",
       " '12_polymorphism_Encapsulation_Inheritance.ipynb',\n",
       " '13_file_handling.ipynb',\n",
       " '1_python_variables_data_types.ipynb',\n",
       " '2_python_control_flow.ipynb',\n",
       " '3_Expressions_Operators_and_Precedence.ipynb',\n",
       " '3_python_operators_list1.ipynb',\n",
       " '4_string_manipulation_and_methods.ipynb',\n",
       " '5_strings_and_lists.ipynb',\n",
       " '6_tuples.ipynb',\n",
       " '7_sets.ipynb',\n",
       " '8_dictionary.ipynb',\n",
       " '9.1_first_class_functions.ipynb',\n",
       " '9_functions.ipynb',\n",
       " 'closures.ipynb',\n",
       " 'example.txt',\n",
       " 'os-module',\n",
       " 's1.png',\n",
       " 's1_copy.png',\n",
       " 'test.txt',\n",
       " 'Untitled.ipynb']"
      ]
     },
     "execution_count": 11,
     "metadata": {},
     "output_type": "execute_result"
    }
   ],
   "source": [
    "os.listdir()"
   ]
  },
  {
   "cell_type": "code",
   "execution_count": 13,
   "id": "2b1b9801",
   "metadata": {},
   "outputs": [],
   "source": [
    "os.chdir('os-module')"
   ]
  },
  {
   "cell_type": "code",
   "execution_count": 14,
   "id": "e1acc113",
   "metadata": {},
   "outputs": [
    {
     "data": {
      "text/plain": [
       "['sub-dir']"
      ]
     },
     "execution_count": 14,
     "metadata": {},
     "output_type": "execute_result"
    }
   ],
   "source": [
    "os.listdir()"
   ]
  },
  {
   "cell_type": "markdown",
   "id": "da0270ea",
   "metadata": {},
   "source": [
    "## Removing Directories"
   ]
  },
  {
   "cell_type": "code",
   "execution_count": 17,
   "id": "161dbea6",
   "metadata": {},
   "outputs": [],
   "source": [
    "os.chdir('d:/data science masters/Practice/')"
   ]
  },
  {
   "cell_type": "code",
   "execution_count": 18,
   "id": "4a0b0694",
   "metadata": {},
   "outputs": [
    {
     "data": {
      "text/plain": [
       "['.ipynb_checkpoints',\n",
       " '10.1_decorators.ipynb',\n",
       " '10_lambda_map_reduce_filter functions.ipynb',\n",
       " '11_OOPs_concept.ipynb',\n",
       " '12_polymorphism_Encapsulation_Inheritance.ipynb',\n",
       " '13_file_handling.ipynb',\n",
       " '1_python_variables_data_types.ipynb',\n",
       " '2_python_control_flow.ipynb',\n",
       " '3_Expressions_Operators_and_Precedence.ipynb',\n",
       " '3_python_operators_list1.ipynb',\n",
       " '4_string_manipulation_and_methods.ipynb',\n",
       " '5_strings_and_lists.ipynb',\n",
       " '6_tuples.ipynb',\n",
       " '7_sets.ipynb',\n",
       " '8_dictionary.ipynb',\n",
       " '9.1_first_class_functions.ipynb',\n",
       " '9_functions.ipynb',\n",
       " 'closures.ipynb',\n",
       " 'example.txt',\n",
       " 'os-module',\n",
       " 's1.png',\n",
       " 's1_copy.png',\n",
       " 'test.txt',\n",
       " 'Untitled.ipynb']"
      ]
     },
     "execution_count": 18,
     "metadata": {},
     "output_type": "execute_result"
    }
   ],
   "source": [
    "os.listdir()"
   ]
  },
  {
   "cell_type": "code",
   "execution_count": 19,
   "id": "28811fa5",
   "metadata": {},
   "outputs": [
    {
     "ename": "OSError",
     "evalue": "[WinError 145] The directory is not empty: 'os-module'",
     "output_type": "error",
     "traceback": [
      "\u001b[1;31m---------------------------------------------------------------------------\u001b[0m",
      "\u001b[1;31mOSError\u001b[0m                                   Traceback (most recent call last)",
      "Cell \u001b[1;32mIn[19], line 1\u001b[0m\n\u001b[1;32m----> 1\u001b[0m \u001b[43mos\u001b[49m\u001b[38;5;241;43m.\u001b[39;49m\u001b[43mrmdir\u001b[49m\u001b[43m(\u001b[49m\u001b[38;5;124;43m\"\u001b[39;49m\u001b[38;5;124;43mos-module\u001b[39;49m\u001b[38;5;124;43m\"\u001b[39;49m\u001b[43m)\u001b[49m\n",
      "\u001b[1;31mOSError\u001b[0m: [WinError 145] The directory is not empty: 'os-module'"
     ]
    }
   ],
   "source": [
    "os.rmdir(\"os-module\")"
   ]
  },
  {
   "cell_type": "code",
   "execution_count": 20,
   "id": "4bbd64f2",
   "metadata": {},
   "outputs": [],
   "source": [
    "os.removedirs('os-module/sub-dir')"
   ]
  },
  {
   "cell_type": "markdown",
   "id": "9255a141",
   "metadata": {},
   "source": [
    "### Renaming file"
   ]
  },
  {
   "cell_type": "code",
   "execution_count": 21,
   "id": "958b6633",
   "metadata": {},
   "outputs": [],
   "source": [
    "os.rename('test.txt', 'demo.txt')"
   ]
  },
  {
   "cell_type": "markdown",
   "id": "f75a1e7c",
   "metadata": {},
   "source": [
    "### Fetching info about file"
   ]
  },
  {
   "cell_type": "code",
   "execution_count": 22,
   "id": "ee5e8899",
   "metadata": {},
   "outputs": [
    {
     "data": {
      "text/plain": [
       "os.stat_result(st_mode=33206, st_ino=5629499534214274, st_dev=3356978903, st_nlink=1, st_uid=0, st_gid=0, st_size=182, st_atime=1677210605, st_mtime=1677210602, st_ctime=1677210291)"
      ]
     },
     "execution_count": 22,
     "metadata": {},
     "output_type": "execute_result"
    }
   ],
   "source": [
    "os.stat('demo.txt')"
   ]
  },
  {
   "cell_type": "code",
   "execution_count": 23,
   "id": "1494d839",
   "metadata": {},
   "outputs": [
    {
     "data": {
      "text/plain": [
       "182"
      ]
     },
     "execution_count": 23,
     "metadata": {},
     "output_type": "execute_result"
    }
   ],
   "source": [
    "os.stat('demo.txt').st_size"
   ]
  },
  {
   "cell_type": "code",
   "execution_count": 24,
   "id": "99d702c9",
   "metadata": {},
   "outputs": [
    {
     "data": {
      "text/plain": [
       "1677210602.2825282"
      ]
     },
     "execution_count": 24,
     "metadata": {},
     "output_type": "execute_result"
    }
   ],
   "source": [
    "os.stat('demo.txt').st_mtime"
   ]
  },
  {
   "cell_type": "code",
   "execution_count": 27,
   "id": "70c24b42",
   "metadata": {},
   "outputs": [
    {
     "name": "stdout",
     "output_type": "stream",
     "text": [
      "2023-02-24 09:20:02.282528\n"
     ]
    }
   ],
   "source": [
    "from datetime import datetime\n",
    "\n",
    "# last modification time\n",
    "mod_time = os.stat('demo.txt').st_mtime\n",
    "print(datetime.fromtimestamp(mod_time))"
   ]
  },
  {
   "cell_type": "code",
   "execution_count": 29,
   "id": "6dd9cc36",
   "metadata": {},
   "outputs": [
    {
     "name": "stdout",
     "output_type": "stream",
     "text": [
      "Current Path: d:/data science masters/practice/\n",
      "Directories: ['.ipynb_checkpoints']\n",
      "Files: ['10.1_decorators.ipynb', '10_lambda_map_reduce_filter functions.ipynb', '11_OOPs_concept.ipynb', '12_polymorphism_Encapsulation_Inheritance.ipynb', '13_file_handling.ipynb', '1_python_variables_data_types.ipynb', '2_python_control_flow.ipynb', '3_Expressions_Operators_and_Precedence.ipynb', '3_python_operators_list1.ipynb', '4_string_manipulation_and_methods.ipynb', '5_strings_and_lists.ipynb', '6_tuples.ipynb', '7_sets.ipynb', '8_dictionary.ipynb', '9.1_first_class_functions.ipynb', '9_functions.ipynb', 'closures.ipynb', 'demo.txt', 'example.txt', 's1.png', 's1_copy.png', 'Untitled.ipynb']\n",
      "Current Path: d:/data science masters/practice/.ipynb_checkpoints\n",
      "Directories: []\n",
      "Files: ['10.1_decorators-checkpoint.ipynb', '10_lambda_map_reduce_filter functions-checkpoint.ipynb', '11_OOPs_concept-checkpoint.ipynb', '12_polymorphism_Encapsulation_Inheritance-checkpoint.ipynb', '13_file_handling-checkpoint.ipynb', '9.1_first_class_functions-checkpoint.ipynb', 'closures-checkpoint.ipynb', 'Untitled-checkpoint.ipynb']\n"
     ]
    }
   ],
   "source": [
    "for dirpath, dirnames, filenames in os.walk(\"d:/data science masters/practice/\"):\n",
    "    print(\"Current Path:\", dirpath)\n",
    "    print(\"Directories:\", dirnames)\n",
    "    print(\"Files:\", filenames)"
   ]
  },
  {
   "cell_type": "markdown",
   "id": "ecd6fa3e",
   "metadata": {},
   "source": [
    "### OS Environment variables"
   ]
  },
  {
   "cell_type": "code",
   "execution_count": 31,
   "id": "3816a76b",
   "metadata": {},
   "outputs": [
    {
     "data": {
      "text/plain": [
       "environ{'ALLUSERSPROFILE': 'C:\\\\ProgramData',\n",
       "        'APPDATA': 'C:\\\\Users\\\\windows\\\\AppData\\\\Roaming',\n",
       "        'COMMONPROGRAMFILES': 'C:\\\\Program Files\\\\Common Files',\n",
       "        'COMMONPROGRAMFILES(X86)': 'C:\\\\Program Files (x86)\\\\Common Files',\n",
       "        'COMMONPROGRAMW6432': 'C:\\\\Program Files\\\\Common Files',\n",
       "        'COMPUTERNAME': 'TUSHAR',\n",
       "        'COMSPEC': 'C:\\\\Windows\\\\system32\\\\cmd.exe',\n",
       "        'DRIVERDATA': 'C:\\\\Windows\\\\System32\\\\Drivers\\\\DriverData',\n",
       "        'HOMEDRIVE': 'C:',\n",
       "        'HOMEPATH': '\\\\Users\\\\windows',\n",
       "        'INTELLIJ IDEA COMMUNITY EDITION': 'C:\\\\Program Files\\\\JetBrains\\\\IntelliJ IDEA Community Edition 2022.3.1\\\\bin;',\n",
       "        'LOCALAPPDATA': 'C:\\\\Users\\\\windows\\\\AppData\\\\Local',\n",
       "        'LOGONSERVER': '\\\\\\\\TUSHAR',\n",
       "        'NUMBER_OF_PROCESSORS': '4',\n",
       "        'ONEDRIVE': 'D:\\\\OneDrive',\n",
       "        'ONEDRIVECONSUMER': 'D:\\\\OneDrive',\n",
       "        'OS': 'Windows_NT',\n",
       "        'PATH': 'C:\\\\Program Files\\\\Python311\\\\Scripts\\\\;C:\\\\Program Files\\\\Python311\\\\;C:\\\\Program Files\\\\Common Files\\\\Oracle\\\\Java\\\\javapath;C:\\\\Windows\\\\system32;C:\\\\Windows;C:\\\\Windows\\\\System32\\\\Wbem;C:\\\\Windows\\\\System32\\\\WindowsPowerShell\\\\v1.0\\\\;C:\\\\Windows\\\\System32\\\\OpenSSH\\\\;C:\\\\Users\\\\windows\\\\AppData\\\\Roaming\\\\Python\\\\Python311\\\\Scripts;C:\\\\Program Files\\\\Docker\\\\Docker\\\\resources\\\\bin;C:\\\\Program Files\\\\Git\\\\cmd;C:\\\\Users\\\\windows\\\\AppData\\\\Local\\\\Microsoft\\\\WindowsApps;C:\\\\Program Files\\\\JetBrains\\\\PyCharm Community Edition 2022.3.1\\\\bin;C:\\\\Program Files\\\\JetBrains\\\\IntelliJ IDEA Community Edition 2022.3.1\\\\bin;C:\\\\Users\\\\windows\\\\AppData\\\\Local\\\\Programs\\\\Microsoft VS Code\\\\bin',\n",
       "        'PATHEXT': '.COM;.EXE;.BAT;.CMD;.VBS;.VBE;.JS;.JSE;.WSF;.WSH;.MSC;.PY;.PYW;.CPL',\n",
       "        'PROCESSOR_ARCHITECTURE': 'AMD64',\n",
       "        'PROCESSOR_IDENTIFIER': 'Intel64 Family 6 Model 140 Stepping 1, GenuineIntel',\n",
       "        'PROCESSOR_LEVEL': '6',\n",
       "        'PROCESSOR_REVISION': '8c01',\n",
       "        'PROGRAMDATA': 'C:\\\\ProgramData',\n",
       "        'PROGRAMFILES': 'C:\\\\Program Files',\n",
       "        'PROGRAMFILES(X86)': 'C:\\\\Program Files (x86)',\n",
       "        'PROGRAMW6432': 'C:\\\\Program Files',\n",
       "        'PSMODULEPATH': 'D:\\\\OneDrive\\\\Documents\\\\WindowsPowerShell\\\\Modules;C:\\\\Program Files\\\\WindowsPowerShell\\\\Modules;C:\\\\Windows\\\\system32\\\\WindowsPowerShell\\\\v1.0\\\\Modules',\n",
       "        'PT8HOME': 'C:\\\\Program Files\\\\Cisco Packet Tracer 8.2.0',\n",
       "        'PUBLIC': 'C:\\\\Users\\\\Public',\n",
       "        'PYCHARM COMMUNITY EDITION': 'C:\\\\Program Files\\\\JetBrains\\\\PyCharm Community Edition 2022.3.1\\\\bin;',\n",
       "        'SYSTEMDRIVE': 'C:',\n",
       "        'SYSTEMROOT': 'C:\\\\Windows',\n",
       "        'TEMP': 'C:\\\\Users\\\\windows\\\\AppData\\\\Local\\\\Temp',\n",
       "        'TMP': 'C:\\\\Users\\\\windows\\\\AppData\\\\Local\\\\Temp',\n",
       "        'USERDOMAIN': 'TUSHAR',\n",
       "        'USERDOMAIN_ROAMINGPROFILE': 'TUSHAR',\n",
       "        'USERNAME': 'windows',\n",
       "        'USERPROFILE': 'C:\\\\Users\\\\windows',\n",
       "        'WINDIR': 'C:\\\\Windows',\n",
       "        'WSLENV': 'WT_SESSION::WT_PROFILE_ID',\n",
       "        'WT_PROFILE_ID': '{61c54bbd-c2c6-5271-96e7-009a87ff44bf}',\n",
       "        'WT_SESSION': '2d52f723-0574-4292-ba42-08196d706cbc',\n",
       "        'ZES_ENABLE_SYSMAN': '1',\n",
       "        'JPY_INTERRUPT_EVENT': '3224',\n",
       "        'IPY_INTERRUPT_EVENT': '3224',\n",
       "        'JPY_PARENT_PID': '3244',\n",
       "        'TERM': 'xterm-color',\n",
       "        'CLICOLOR': '1',\n",
       "        'FORCE_COLOR': '1',\n",
       "        'CLICOLOR_FORCE': '1',\n",
       "        'PAGER': 'cat',\n",
       "        'GIT_PAGER': 'cat',\n",
       "        'MPLBACKEND': 'module://matplotlib_inline.backend_inline'}"
      ]
     },
     "execution_count": 31,
     "metadata": {},
     "output_type": "execute_result"
    }
   ],
   "source": [
    "os.environ"
   ]
  },
  {
   "cell_type": "code",
   "execution_count": 33,
   "id": "f251b4d5",
   "metadata": {},
   "outputs": [
    {
     "data": {
      "text/plain": [
       "'\\\\Users\\\\windows'"
      ]
     },
     "execution_count": 33,
     "metadata": {},
     "output_type": "execute_result"
    }
   ],
   "source": [
    "os.environ.get('HOMEPATH')"
   ]
  },
  {
   "cell_type": "markdown",
   "id": "72e07f23",
   "metadata": {},
   "source": [
    "### os path methods"
   ]
  },
  {
   "cell_type": "code",
   "execution_count": 37,
   "id": "510162cc",
   "metadata": {},
   "outputs": [
    {
     "data": {
      "text/plain": [
       "'\\\\Users\\\\windows\\\\sample.txt'"
      ]
     },
     "execution_count": 37,
     "metadata": {},
     "output_type": "execute_result"
    }
   ],
   "source": [
    "file_path = os.path.join(os.environ.get('HOMEPATH'), 'sample.txt')\n",
    "file_path"
   ]
  },
  {
   "cell_type": "code",
   "execution_count": 38,
   "id": "3d555c89",
   "metadata": {},
   "outputs": [
    {
     "data": {
      "text/plain": [
       "'test.txt'"
      ]
     },
     "execution_count": 38,
     "metadata": {},
     "output_type": "execute_result"
    }
   ],
   "source": [
    "os.path.basename('/tmp/test.txt')"
   ]
  },
  {
   "cell_type": "code",
   "execution_count": 39,
   "id": "1567445b",
   "metadata": {},
   "outputs": [
    {
     "data": {
      "text/plain": [
       "'/tmp'"
      ]
     },
     "execution_count": 39,
     "metadata": {},
     "output_type": "execute_result"
    }
   ],
   "source": [
    "os.path.dirname('/tmp/test.txt')"
   ]
  },
  {
   "cell_type": "code",
   "execution_count": 41,
   "id": "612b79da",
   "metadata": {},
   "outputs": [
    {
     "data": {
      "text/plain": [
       "('/tmp/osmodule', 'test.txt')"
      ]
     },
     "execution_count": 41,
     "metadata": {},
     "output_type": "execute_result"
    }
   ],
   "source": [
    "os.path.split('/tmp/osmodule/test.txt')"
   ]
  },
  {
   "cell_type": "code",
   "execution_count": 42,
   "id": "7ff7ff12",
   "metadata": {},
   "outputs": [
    {
     "data": {
      "text/plain": [
       "False"
      ]
     },
     "execution_count": 42,
     "metadata": {},
     "output_type": "execute_result"
    }
   ],
   "source": [
    "os.path.exists('/tmp/test.txt')"
   ]
  },
  {
   "cell_type": "code",
   "execution_count": 50,
   "id": "dea4a63b",
   "metadata": {},
   "outputs": [
    {
     "data": {
      "text/plain": [
       "('/tmp/test', '.txt')"
      ]
     },
     "execution_count": 50,
     "metadata": {},
     "output_type": "execute_result"
    }
   ],
   "source": [
    "os.path.splitext('/tmp/test.txt')"
   ]
  },
  {
   "cell_type": "markdown",
   "id": "e741826e",
   "metadata": {},
   "source": [
    "### file automation "
   ]
  },
  {
   "cell_type": "code",
   "execution_count": 64,
   "id": "43eedf60",
   "metadata": {},
   "outputs": [
    {
     "data": {
      "text/plain": [
       "['.ipynb_checkpoints',\n",
       " '10.1_decorators.ipynb',\n",
       " '10_lambda_map_reduce_filter_functions.ipynb',\n",
       " '11_OOPs_concept.ipynb',\n",
       " '12_polymorphism_Encapsulation_Inheritance.ipynb',\n",
       " '13_file_handling.ipynb',\n",
       " '14_OS_module.ipynb',\n",
       " '1_python_variables_data_types.ipynb',\n",
       " '2_python_control_flow.ipynb',\n",
       " '3_Expressions_Operators_and_Precedence.ipynb',\n",
       " '3_python_operators_list1.ipynb',\n",
       " '4_string_manipulation_and_methods.ipynb',\n",
       " '5_strings_and_lists.ipynb',\n",
       " '6_tuples.ipynb',\n",
       " '7_sets.ipynb',\n",
       " '8_dictionary.ipynb',\n",
       " '9.1_first_class_functions.ipynb',\n",
       " '9.2_closures.ipynb',\n",
       " '9_functions.ipynb']"
      ]
     },
     "execution_count": 64,
     "metadata": {},
     "output_type": "execute_result"
    }
   ],
   "source": [
    "os.listdir()"
   ]
  },
  {
   "cell_type": "code",
   "execution_count": 60,
   "id": "9bf590d1",
   "metadata": {},
   "outputs": [],
   "source": [
    "for f in os.listdir()[1:]:\n",
    "    f_name, f_ext = os.path.splitext(f)\n",
    "    \n",
    "    f_num, f_topic = f_name.split('_', 1)\n",
    "    \n",
    "    f_num = f_num.zfill(2)\n",
    "    f_topic = f_topic.replace('_', ' ').title()\n",
    "    \n",
    "    new_name = '{} {}{}'.format(f_num, f_topic, f_ext)\n",
    "    os.rename(f, new_name)"
   ]
  },
  {
   "cell_type": "code",
   "execution_count": null,
   "id": "fff20835",
   "metadata": {},
   "outputs": [],
   "source": []
  }
 ],
 "metadata": {
  "kernelspec": {
   "display_name": "Python 3 (ipykernel)",
   "language": "python",
   "name": "python3"
  },
  "language_info": {
   "codemirror_mode": {
    "name": "ipython",
    "version": 3
   },
   "file_extension": ".py",
   "mimetype": "text/x-python",
   "name": "python",
   "nbconvert_exporter": "python",
   "pygments_lexer": "ipython3",
   "version": "3.11.1"
  }
 },
 "nbformat": 4,
 "nbformat_minor": 5
}
