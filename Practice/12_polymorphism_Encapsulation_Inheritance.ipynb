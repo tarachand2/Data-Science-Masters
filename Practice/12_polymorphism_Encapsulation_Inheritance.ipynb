{
 "cells": [
  {
   "cell_type": "markdown",
   "id": "b81cec51",
   "metadata": {},
   "source": [
    "## Polymorphism"
   ]
  },
  {
   "cell_type": "code",
   "execution_count": 1,
   "id": "2b90e5ed",
   "metadata": {},
   "outputs": [],
   "source": [
    "def add(a, b):\n",
    "    return a+b"
   ]
  },
  {
   "cell_type": "code",
   "execution_count": 2,
   "id": "d7c0c953",
   "metadata": {},
   "outputs": [
    {
     "data": {
      "text/plain": [
       "8"
      ]
     },
     "execution_count": 2,
     "metadata": {},
     "output_type": "execute_result"
    }
   ],
   "source": [
    "add(3, 5)"
   ]
  },
  {
   "cell_type": "code",
   "execution_count": 3,
   "id": "a4b73190",
   "metadata": {},
   "outputs": [
    {
     "data": {
      "text/plain": [
       "'Tarachand Khorwal'"
      ]
     },
     "execution_count": 3,
     "metadata": {},
     "output_type": "execute_result"
    }
   ],
   "source": [
    "add(\"Tarachand \", \"Khorwal\")"
   ]
  },
  {
   "cell_type": "code",
   "execution_count": 4,
   "id": "d31b6fad",
   "metadata": {},
   "outputs": [
    {
     "data": {
      "text/plain": [
       "[1, 2, 3, 4, 5, 6]"
      ]
     },
     "execution_count": 4,
     "metadata": {},
     "output_type": "execute_result"
    }
   ],
   "source": [
    "add([1, 2, 3], [4, 5, 6])"
   ]
  },
  {
   "cell_type": "code",
   "execution_count": 5,
   "id": "e1cdaa63",
   "metadata": {},
   "outputs": [],
   "source": [
    "class DataScience:\n",
    "    def syllabus(self):\n",
    "        print(\"This is my method for data science masters syllabus\")"
   ]
  },
  {
   "cell_type": "code",
   "execution_count": 21,
   "id": "c232a50c",
   "metadata": {},
   "outputs": [],
   "source": [
    "class WebDev:\n",
    "    def __init__(self):\n",
    "        self.var = \"inside\"\n",
    "    new_var = \"Outside\"\n",
    "    def syllabus(self):\n",
    "        print(\"This is my method for web development syllabus\")"
   ]
  },
  {
   "cell_type": "code",
   "execution_count": 10,
   "id": "42048677",
   "metadata": {},
   "outputs": [],
   "source": [
    "def class_parcer(class_objs):\n",
    "    for obj in class_objs:\n",
    "        obj.syllabus()"
   ]
  },
  {
   "cell_type": "code",
   "execution_count": 7,
   "id": "d08baa97",
   "metadata": {},
   "outputs": [],
   "source": [
    "data_science_obj = DataScience()"
   ]
  },
  {
   "cell_type": "code",
   "execution_count": 8,
   "id": "76878bd0",
   "metadata": {},
   "outputs": [],
   "source": [
    "web_dev_obj = WebDev()"
   ]
  },
  {
   "cell_type": "code",
   "execution_count": 11,
   "id": "4ce3bdbf",
   "metadata": {},
   "outputs": [],
   "source": [
    "class_obj = [data_science_obj, web_dev_obj]"
   ]
  },
  {
   "cell_type": "code",
   "execution_count": 12,
   "id": "4c315fa3",
   "metadata": {},
   "outputs": [
    {
     "name": "stdout",
     "output_type": "stream",
     "text": [
      "This is the method for data science masters\n",
      "This is my method for web development syllabus\n"
     ]
    }
   ],
   "source": [
    "class_parcer(class_obj)"
   ]
  },
  {
   "cell_type": "code",
   "execution_count": 23,
   "id": "5c5cab72",
   "metadata": {},
   "outputs": [
    {
     "data": {
      "text/plain": [
       "'Outside'"
      ]
     },
     "execution_count": 23,
     "metadata": {},
     "output_type": "execute_result"
    }
   ],
   "source": [
    "WebDev().new_var"
   ]
  },
  {
   "cell_type": "markdown",
   "id": "9a744466",
   "metadata": {},
   "source": [
    "## Encapsulation"
   ]
  },
  {
   "cell_type": "code",
   "execution_count": 27,
   "id": "dca4651f",
   "metadata": {},
   "outputs": [],
   "source": [
    "class Test:\n",
    "    def __init__(self, a, b):\n",
    "        self.a = a\n",
    "        self.b = b"
   ]
  },
  {
   "cell_type": "code",
   "execution_count": 28,
   "id": "b97796fb",
   "metadata": {},
   "outputs": [],
   "source": [
    "t = Test(1, 2)"
   ]
  },
  {
   "cell_type": "code",
   "execution_count": 29,
   "id": "266417ff",
   "metadata": {},
   "outputs": [
    {
     "data": {
      "text/plain": [
       "1"
      ]
     },
     "execution_count": 29,
     "metadata": {},
     "output_type": "execute_result"
    }
   ],
   "source": [
    "t.a "
   ]
  },
  {
   "cell_type": "code",
   "execution_count": 30,
   "id": "7dc978f0",
   "metadata": {},
   "outputs": [
    {
     "data": {
      "text/plain": [
       "2"
      ]
     },
     "execution_count": 30,
     "metadata": {},
     "output_type": "execute_result"
    }
   ],
   "source": [
    "t.b"
   ]
  },
  {
   "cell_type": "code",
   "execution_count": 31,
   "id": "e68e22ad",
   "metadata": {},
   "outputs": [],
   "source": [
    "t.a = 323"
   ]
  },
  {
   "cell_type": "code",
   "execution_count": 32,
   "id": "8774db4a",
   "metadata": {},
   "outputs": [
    {
     "data": {
      "text/plain": [
       "323"
      ]
     },
     "execution_count": 32,
     "metadata": {},
     "output_type": "execute_result"
    }
   ],
   "source": [
    "t.a"
   ]
  },
  {
   "cell_type": "code",
   "execution_count": 49,
   "id": "29d16084",
   "metadata": {},
   "outputs": [],
   "source": [
    "class Car:\n",
    "    def __init__(self, color, make, model, speed=0):\n",
    "        self.__color = color\n",
    "        self.__make = make\n",
    "        self.__model = model\n",
    "        self.__speed = speed\n",
    "        \n",
    "    def set_speed(self, speed):\n",
    "        self.__speed = 0 if speed < 0 else speed\n",
    "    \n",
    "    def get_speed(self):\n",
    "        return self.__speed"
   ]
  },
  {
   "cell_type": "code",
   "execution_count": 50,
   "id": "dd19e477",
   "metadata": {},
   "outputs": [],
   "source": [
    "c = Car(\"Red\", \"Toyota\", \"m24\", 234)"
   ]
  },
  {
   "cell_type": "code",
   "execution_count": 51,
   "id": "1d581efa",
   "metadata": {},
   "outputs": [
    {
     "data": {
      "text/plain": [
       "'Red'"
      ]
     },
     "execution_count": 51,
     "metadata": {},
     "output_type": "execute_result"
    }
   ],
   "source": [
    "c._Car__color"
   ]
  },
  {
   "cell_type": "code",
   "execution_count": 52,
   "id": "e10906ef",
   "metadata": {},
   "outputs": [],
   "source": [
    "c.set_speed(342)"
   ]
  },
  {
   "cell_type": "code",
   "execution_count": 55,
   "id": "b7d87ab8",
   "metadata": {},
   "outputs": [
    {
     "data": {
      "text/plain": [
       "342"
      ]
     },
     "execution_count": 55,
     "metadata": {},
     "output_type": "execute_result"
    }
   ],
   "source": [
    "c.get_speed()"
   ]
  },
  {
   "cell_type": "code",
   "execution_count": 10,
   "id": "97491af0",
   "metadata": {},
   "outputs": [],
   "source": [
    "class BankAccount:\n",
    "    def __init__(self, name, balance):\n",
    "        self.__balance = balance\n",
    "    \n",
    "    def deposit(self, amount):\n",
    "        self.__balance += amount\n",
    "    \n",
    "    def withdraw(self, amount):\n",
    "        if self.__balance >= amount:\n",
    "            self.__balance -= amount\n",
    "            return True\n",
    "        else:\n",
    "            print(\"No sufficient Balance\")\n",
    "            return False\n",
    "    \n",
    "    def get_balance(self):\n",
    "        return self.__balance"
   ]
  },
  {
   "cell_type": "code",
   "execution_count": 11,
   "id": "74eb26f7",
   "metadata": {},
   "outputs": [],
   "source": [
    "obj_bank_acc = BankAccount(\"Tarachand\", 5000)"
   ]
  },
  {
   "cell_type": "code",
   "execution_count": 12,
   "id": "f0b69fe2",
   "metadata": {},
   "outputs": [
    {
     "data": {
      "text/plain": [
       "5000"
      ]
     },
     "execution_count": 12,
     "metadata": {},
     "output_type": "execute_result"
    }
   ],
   "source": [
    "obj_bank_acc.get_balance()"
   ]
  },
  {
   "cell_type": "code",
   "execution_count": 13,
   "id": "320e7bfd",
   "metadata": {},
   "outputs": [],
   "source": [
    "obj_bank_acc.deposit(5000)"
   ]
  },
  {
   "cell_type": "code",
   "execution_count": 14,
   "id": "8385a890",
   "metadata": {},
   "outputs": [
    {
     "data": {
      "text/plain": [
       "10000"
      ]
     },
     "execution_count": 14,
     "metadata": {},
     "output_type": "execute_result"
    }
   ],
   "source": [
    "obj_bank_acc.get_balance()"
   ]
  },
  {
   "cell_type": "code",
   "execution_count": 15,
   "id": "f09894ee",
   "metadata": {},
   "outputs": [
    {
     "data": {
      "text/plain": [
       "True"
      ]
     },
     "execution_count": 15,
     "metadata": {},
     "output_type": "execute_result"
    }
   ],
   "source": [
    "obj_bank_acc.withdraw(4000)"
   ]
  },
  {
   "cell_type": "code",
   "execution_count": 16,
   "id": "1b41921f",
   "metadata": {},
   "outputs": [
    {
     "name": "stdout",
     "output_type": "stream",
     "text": [
      "No sufficient Balance\n"
     ]
    },
    {
     "data": {
      "text/plain": [
       "False"
      ]
     },
     "execution_count": 16,
     "metadata": {},
     "output_type": "execute_result"
    }
   ],
   "source": [
    "obj_bank_acc.withdraw(7000)"
   ]
  },
  {
   "cell_type": "markdown",
   "id": "8476a4ae",
   "metadata": {},
   "source": [
    "## Inheritance"
   ]
  },
  {
   "cell_type": "markdown",
   "id": "9f2defcd",
   "metadata": {},
   "source": [
    "### Single Inheritance"
   ]
  },
  {
   "cell_type": "code",
   "execution_count": 17,
   "id": "b08ff4e8",
   "metadata": {},
   "outputs": [],
   "source": [
    "class Animal:\n",
    "    def speak(self):\n",
    "        print(\"I am an Animal.\")"
   ]
  },
  {
   "cell_type": "code",
   "execution_count": 18,
   "id": "0b77a7cc",
   "metadata": {},
   "outputs": [],
   "source": [
    "class Dog(Animal):\n",
    "    pass"
   ]
  },
  {
   "cell_type": "code",
   "execution_count": 19,
   "id": "d08c5063",
   "metadata": {},
   "outputs": [],
   "source": [
    "d = Dog()"
   ]
  },
  {
   "cell_type": "code",
   "execution_count": 20,
   "id": "3abf1707",
   "metadata": {},
   "outputs": [
    {
     "name": "stdout",
     "output_type": "stream",
     "text": [
      "I am an Animal.\n"
     ]
    }
   ],
   "source": [
    "d.speak()"
   ]
  },
  {
   "cell_type": "markdown",
   "id": "dc78e6ee",
   "metadata": {},
   "source": [
    "### Multilevel Inheritance"
   ]
  },
  {
   "cell_type": "code",
   "execution_count": 21,
   "id": "897df6d5",
   "metadata": {},
   "outputs": [],
   "source": [
    "class Vehicle:\n",
    "    def __init__(self, color):\n",
    "        self.color = color"
   ]
  },
  {
   "cell_type": "code",
   "execution_count": 22,
   "id": "e322c278",
   "metadata": {},
   "outputs": [],
   "source": [
    "class Car(Vehicle):\n",
    "    def about(self):\n",
    "        print(\"I am a car\")"
   ]
  },
  {
   "cell_type": "code",
   "execution_count": 24,
   "id": "28f03535",
   "metadata": {},
   "outputs": [],
   "source": [
    "class SportCar(Car):\n",
    "    def get_make(self):\n",
    "        print(\"This is sports car!\")"
   ]
  },
  {
   "cell_type": "code",
   "execution_count": 25,
   "id": "7e02a97e",
   "metadata": {},
   "outputs": [
    {
     "ename": "TypeError",
     "evalue": "Vehicle.__init__() missing 1 required positional argument: 'color'",
     "output_type": "error",
     "traceback": [
      "\u001b[1;31m---------------------------------------------------------------------------\u001b[0m",
      "\u001b[1;31mTypeError\u001b[0m                                 Traceback (most recent call last)",
      "Cell \u001b[1;32mIn[25], line 1\u001b[0m\n\u001b[1;32m----> 1\u001b[0m bugatti \u001b[38;5;241m=\u001b[39m \u001b[43mSportCar\u001b[49m\u001b[43m(\u001b[49m\u001b[43m)\u001b[49m\n",
      "\u001b[1;31mTypeError\u001b[0m: Vehicle.__init__() missing 1 required positional argument: 'color'"
     ]
    }
   ],
   "source": [
    "bugatti = SportCar()"
   ]
  },
  {
   "cell_type": "code",
   "execution_count": 26,
   "id": "1d82098b",
   "metadata": {},
   "outputs": [],
   "source": [
    "bugatti = SportCar(\"Black\")"
   ]
  },
  {
   "cell_type": "code",
   "execution_count": 27,
   "id": "50e0a19d",
   "metadata": {},
   "outputs": [
    {
     "name": "stdout",
     "output_type": "stream",
     "text": [
      "I am a car\n"
     ]
    }
   ],
   "source": [
    "bugatti.about()"
   ]
  },
  {
   "cell_type": "code",
   "execution_count": 28,
   "id": "086f36e5",
   "metadata": {},
   "outputs": [
    {
     "name": "stdout",
     "output_type": "stream",
     "text": [
      "This is sports car!\n"
     ]
    }
   ],
   "source": [
    "bugatti.get_make()"
   ]
  },
  {
   "cell_type": "code",
   "execution_count": 29,
   "id": "cf001638",
   "metadata": {},
   "outputs": [
    {
     "data": {
      "text/plain": [
       "'Black'"
      ]
     },
     "execution_count": 29,
     "metadata": {},
     "output_type": "execute_result"
    }
   ],
   "source": [
    "bugatti.color"
   ]
  },
  {
   "cell_type": "markdown",
   "id": "2888b21c",
   "metadata": {},
   "source": [
    "### Mutlitple inheritance"
   ]
  },
  {
   "cell_type": "code",
   "execution_count": 31,
   "id": "f2f85ee2",
   "metadata": {},
   "outputs": [],
   "source": [
    "class Class1:\n",
    "    def about(self):\n",
    "        print(\"This is class1\")"
   ]
  },
  {
   "cell_type": "code",
   "execution_count": 32,
   "id": "f681276b",
   "metadata": {},
   "outputs": [],
   "source": [
    "class Class2:\n",
    "    def about(self):\n",
    "        print(\"This is class2\")"
   ]
  },
  {
   "cell_type": "code",
   "execution_count": 33,
   "id": "526a418b",
   "metadata": {},
   "outputs": [],
   "source": [
    "class Class3(Class1, Class2):\n",
    "    def about(self):\n",
    "        print(\"This is class3 inheriting class1 & class2\")"
   ]
  },
  {
   "cell_type": "code",
   "execution_count": 34,
   "id": "cfc1b7c3",
   "metadata": {},
   "outputs": [],
   "source": [
    "obj = Class3()"
   ]
  },
  {
   "cell_type": "code",
   "execution_count": 35,
   "id": "80ed2614",
   "metadata": {},
   "outputs": [
    {
     "name": "stdout",
     "output_type": "stream",
     "text": [
      "This is class3 inheriting class1 & class2\n"
     ]
    }
   ],
   "source": [
    "obj.about()"
   ]
  },
  {
   "cell_type": "code",
   "execution_count": null,
   "id": "e3f7fa76",
   "metadata": {},
   "outputs": [],
   "source": []
  },
  {
   "cell_type": "markdown",
   "id": "facda880",
   "metadata": {},
   "source": [
    "## Youtube Tutorial - Corey Schaler"
   ]
  },
  {
   "cell_type": "code",
   "execution_count": 8,
   "id": "112d4108",
   "metadata": {},
   "outputs": [],
   "source": [
    "class Employee: \n",
    "    \n",
    "    raise_amt = 1.04\n",
    "    \n",
    "    def __init__(self, first, last, pay):\n",
    "        self.first = first\n",
    "        self.last = last\n",
    "        self.pay = pay\n",
    "        self.email = first + '.' + last + '@company.com'\n",
    "        \n",
    "    def fullname(self):\n",
    "        return '{} {}'.format(self.first, self.last)\n",
    "    \n",
    "    def apply_raise(self):\n",
    "        self.pay = int(self.pay * self.raise_amt)"
   ]
  },
  {
   "cell_type": "code",
   "execution_count": 10,
   "id": "ef188f80",
   "metadata": {},
   "outputs": [
    {
     "name": "stdout",
     "output_type": "stream",
     "text": [
      "Tarachand.Khorwal@company.com\n",
      "Ayan.Ali@company.com\n"
     ]
    }
   ],
   "source": [
    "dev_1 = Developer(\"Tarachand\", \"Khorwal\", 50000)\n",
    "dev_2 = Employee(\"Ayan\", \"Ali\", 50000)\n",
    "\n",
    "print(dev_1.email)\n",
    "print(dev_2.email)"
   ]
  },
  {
   "cell_type": "code",
   "execution_count": null,
   "id": "c2415e48",
   "metadata": {},
   "outputs": [],
   "source": []
  },
  {
   "cell_type": "code",
   "execution_count": 19,
   "id": "e913518c",
   "metadata": {},
   "outputs": [],
   "source": [
    "class Developer(Employee):\n",
    "    raise_amt = 1.10\n",
    "    \n",
    "    def __init__(self, first, last, pay, prog_lang):\n",
    "        super().__init__(first, last, pay)\n",
    "        self.prog_lang = prog_lang"
   ]
  },
  {
   "cell_type": "code",
   "execution_count": 17,
   "id": "e75aa35e",
   "metadata": {},
   "outputs": [
    {
     "name": "stdout",
     "output_type": "stream",
     "text": [
      "50000\n",
      "52000\n"
     ]
    }
   ],
   "source": [
    "print(dev_1.pay)\n",
    "dev_1.apply_raise()\n",
    "print(dev_1.pay)"
   ]
  },
  {
   "cell_type": "code",
   "execution_count": 16,
   "id": "7912a73f",
   "metadata": {},
   "outputs": [],
   "source": [
    "dev_1 = Employee(\"Tarachand\", \"Khorwal\", 50000)\n",
    "dev_2 = Developer(\"Ayan\", \"Ali\", 50000)"
   ]
  },
  {
   "cell_type": "code",
   "execution_count": 18,
   "id": "992bba31",
   "metadata": {},
   "outputs": [
    {
     "name": "stdout",
     "output_type": "stream",
     "text": [
      "50000\n",
      "55000\n"
     ]
    }
   ],
   "source": [
    "print(dev_2.pay)\n",
    "dev_2.apply_raise()\n",
    "print(dev_2.pay)"
   ]
  },
  {
   "cell_type": "code",
   "execution_count": 20,
   "id": "f05101f4",
   "metadata": {},
   "outputs": [],
   "source": [
    "dev_2 = Developer(\"Ayan\", \"Ali\", 50000, \"Python\")"
   ]
  },
  {
   "cell_type": "code",
   "execution_count": 21,
   "id": "a7942ee2",
   "metadata": {},
   "outputs": [
    {
     "data": {
      "text/plain": [
       "'Python'"
      ]
     },
     "execution_count": 21,
     "metadata": {},
     "output_type": "execute_result"
    }
   ],
   "source": [
    "dev_2.prog_lang"
   ]
  },
  {
   "cell_type": "code",
   "execution_count": 34,
   "id": "42b1683b",
   "metadata": {},
   "outputs": [],
   "source": [
    "class Manager(Employee):\n",
    "    \n",
    "    def __init__(self, first, last, pay, employees=None):\n",
    "        super().__init__(first, last, pay)\n",
    "        if employees is None:\n",
    "            self.employees = []\n",
    "        else:\n",
    "            self.employees = employees\n",
    "    \n",
    "    def add_emp(self, emp):\n",
    "        if emp not in self.employees:\n",
    "            self.employees.append(emp)\n",
    "    \n",
    "    def remove_emp(self, emp):\n",
    "        if emp in self.employees:\n",
    "            self.employees.remove(emp)\n",
    "        \n",
    "    def print_emps(self):\n",
    "        for emp in self.employees:\n",
    "            print('-->',emp.fullname())"
   ]
  },
  {
   "cell_type": "code",
   "execution_count": 35,
   "id": "de85931a",
   "metadata": {},
   "outputs": [],
   "source": [
    "mgr_1 = Manager(\"Tarachand\", \"Khorwal\", 90000, [dev_2])"
   ]
  },
  {
   "cell_type": "code",
   "execution_count": 36,
   "id": "937dc505",
   "metadata": {},
   "outputs": [
    {
     "data": {
      "text/plain": [
       "'Tarachand.Khorwal@company.com'"
      ]
     },
     "execution_count": 36,
     "metadata": {},
     "output_type": "execute_result"
    }
   ],
   "source": [
    "mgr_1.email"
   ]
  },
  {
   "cell_type": "code",
   "execution_count": 37,
   "id": "c9f5dd03",
   "metadata": {},
   "outputs": [
    {
     "name": "stdout",
     "output_type": "stream",
     "text": [
      "--> Ayan Ali\n"
     ]
    }
   ],
   "source": [
    "mgr_1.print_emps()"
   ]
  },
  {
   "cell_type": "code",
   "execution_count": 38,
   "id": "a0cbf955",
   "metadata": {},
   "outputs": [],
   "source": [
    "mgr_1.add_emp(dev_1)"
   ]
  },
  {
   "cell_type": "code",
   "execution_count": 40,
   "id": "99d04487",
   "metadata": {},
   "outputs": [
    {
     "name": "stdout",
     "output_type": "stream",
     "text": [
      "--> Ayan Ali\n",
      "--> Tarachand Khorwal\n"
     ]
    }
   ],
   "source": [
    "mgr_1.print_emps()"
   ]
  },
  {
   "cell_type": "code",
   "execution_count": 41,
   "id": "ca853d10",
   "metadata": {},
   "outputs": [],
   "source": [
    "mgr_1.remove_emp(dev_1)"
   ]
  },
  {
   "cell_type": "code",
   "execution_count": 42,
   "id": "8e93a10d",
   "metadata": {},
   "outputs": [
    {
     "name": "stdout",
     "output_type": "stream",
     "text": [
      "--> Ayan Ali\n"
     ]
    }
   ],
   "source": [
    "mgr_1.print_emps()"
   ]
  },
  {
   "cell_type": "code",
   "execution_count": 43,
   "id": "56804542",
   "metadata": {},
   "outputs": [
    {
     "data": {
      "text/plain": [
       "True"
      ]
     },
     "execution_count": 43,
     "metadata": {},
     "output_type": "execute_result"
    }
   ],
   "source": [
    "isinstance(mgr_1, Manager)"
   ]
  },
  {
   "cell_type": "code",
   "execution_count": 44,
   "id": "885c8f57",
   "metadata": {},
   "outputs": [
    {
     "data": {
      "text/plain": [
       "True"
      ]
     },
     "execution_count": 44,
     "metadata": {},
     "output_type": "execute_result"
    }
   ],
   "source": [
    "isinstance(mgr_1, Employee)"
   ]
  },
  {
   "cell_type": "code",
   "execution_count": 46,
   "id": "b1e1c3e5",
   "metadata": {},
   "outputs": [
    {
     "data": {
      "text/plain": [
       "False"
      ]
     },
     "execution_count": 46,
     "metadata": {},
     "output_type": "execute_result"
    }
   ],
   "source": [
    "isinstance(mgr_1, Developer)"
   ]
  },
  {
   "cell_type": "code",
   "execution_count": 47,
   "id": "4c006a18",
   "metadata": {},
   "outputs": [
    {
     "data": {
      "text/plain": [
       "True"
      ]
     },
     "execution_count": 47,
     "metadata": {},
     "output_type": "execute_result"
    }
   ],
   "source": [
    "issubclass(Manager, Employee)"
   ]
  },
  {
   "cell_type": "code",
   "execution_count": 48,
   "id": "2107031f",
   "metadata": {},
   "outputs": [
    {
     "data": {
      "text/plain": [
       "False"
      ]
     },
     "execution_count": 48,
     "metadata": {},
     "output_type": "execute_result"
    }
   ],
   "source": [
    "issubclass(Manager, Developer)"
   ]
  },
  {
   "cell_type": "code",
   "execution_count": 49,
   "id": "b542da98",
   "metadata": {},
   "outputs": [
    {
     "data": {
      "text/plain": [
       "True"
      ]
     },
     "execution_count": 49,
     "metadata": {},
     "output_type": "execute_result"
    }
   ],
   "source": [
    "issubclass(Developer, Employee)"
   ]
  },
  {
   "cell_type": "markdown",
   "id": "687df4d8",
   "metadata": {},
   "source": [
    "### Magic / Dunder Methods"
   ]
  },
  {
   "cell_type": "code",
   "execution_count": 85,
   "id": "2ed50611",
   "metadata": {},
   "outputs": [],
   "source": [
    "class Employee: \n",
    "    \n",
    "    raise_amt = 1.04\n",
    "    \n",
    "    def __init__(self, first, last, pay):\n",
    "        self.first = first\n",
    "        self.last = last\n",
    "        self.pay = pay\n",
    "        self.email = first + '.' + last + '@company.com'\n",
    "        \n",
    "    def fullname(self):\n",
    "        return '{} {}'.format(self.first, self.last)\n",
    "    \n",
    "    def apply_raise(self):\n",
    "        self.pay = int(self.pay * self.raise_amt)\n",
    "        \n",
    "    def __repr__(self):\n",
    "        return \"Employee('{}', '{}', {})\".format(self.first, self.last, self.pay)\n",
    "    \n",
    "    def __str__(self):\n",
    "        return '{} - {}'.format(self.fullname(), self.email)\n",
    "    \n",
    "    def __add__(self, other):\n",
    "        return self.pay + other.pay\n",
    "    \n",
    "    def __len__(self):\n",
    "        return len(self.fullname())"
   ]
  },
  {
   "cell_type": "code",
   "execution_count": 86,
   "id": "8b8f047a",
   "metadata": {},
   "outputs": [],
   "source": [
    "emp_1 = Employee(\"Tarachand\", \"Khorwal\", 50000)\n",
    "emp_2 = Employee(\"Test\", \"User\", 60000)"
   ]
  },
  {
   "cell_type": "code",
   "execution_count": 73,
   "id": "2a04fa8d",
   "metadata": {},
   "outputs": [
    {
     "name": "stdout",
     "output_type": "stream",
     "text": [
      "Tarachand Khorwal - Tarachand.Khorwal@company.com\n"
     ]
    }
   ],
   "source": [
    "print(emp_1)"
   ]
  },
  {
   "cell_type": "code",
   "execution_count": 74,
   "id": "0ee0656a",
   "metadata": {},
   "outputs": [
    {
     "name": "stdout",
     "output_type": "stream",
     "text": [
      "Employee('Tarachand', 'Khorwal', 50000)\n",
      "Tarachand Khorwal - Tarachand.Khorwal@company.com\n"
     ]
    }
   ],
   "source": [
    "print(repr(emp_1))\n",
    "print(str(emp_1))"
   ]
  },
  {
   "cell_type": "code",
   "execution_count": 75,
   "id": "5baab089",
   "metadata": {},
   "outputs": [
    {
     "name": "stdout",
     "output_type": "stream",
     "text": [
      "Employee('Tarachand', 'Khorwal', 50000)\n",
      "Tarachand Khorwal - Tarachand.Khorwal@company.com\n"
     ]
    }
   ],
   "source": [
    "print(emp_1.__repr__())\n",
    "print(emp_1.__str__())"
   ]
  },
  {
   "cell_type": "markdown",
   "id": "48c9e777",
   "metadata": {},
   "source": [
    "### Dunder "
   ]
  },
  {
   "cell_type": "code",
   "execution_count": 76,
   "id": "f2ddd2e2",
   "metadata": {},
   "outputs": [
    {
     "name": "stdout",
     "output_type": "stream",
     "text": [
      "3\n"
     ]
    }
   ],
   "source": [
    "print(1 + 2)"
   ]
  },
  {
   "cell_type": "code",
   "execution_count": 77,
   "id": "f9f34aa6",
   "metadata": {},
   "outputs": [
    {
     "name": "stdout",
     "output_type": "stream",
     "text": [
      "4\n"
     ]
    }
   ],
   "source": [
    "print(int.__add__(1, 3))"
   ]
  },
  {
   "cell_type": "code",
   "execution_count": 78,
   "id": "17c1a5df",
   "metadata": {},
   "outputs": [
    {
     "name": "stdout",
     "output_type": "stream",
     "text": [
      "Ab\n"
     ]
    }
   ],
   "source": [
    "print(str.__add__(\"A\",\"b\"))"
   ]
  },
  {
   "cell_type": "code",
   "execution_count": 79,
   "id": "ef6040eb",
   "metadata": {},
   "outputs": [
    {
     "data": {
      "text/plain": [
       "110000"
      ]
     },
     "execution_count": 79,
     "metadata": {},
     "output_type": "execute_result"
    }
   ],
   "source": [
    "emp_1.__add__(emp_2)"
   ]
  },
  {
   "cell_type": "code",
   "execution_count": 80,
   "id": "88fba74b",
   "metadata": {},
   "outputs": [
    {
     "name": "stdout",
     "output_type": "stream",
     "text": [
      "110000\n"
     ]
    }
   ],
   "source": [
    "print(emp_1 + emp_2)"
   ]
  },
  {
   "cell_type": "code",
   "execution_count": 81,
   "id": "ec0903f5",
   "metadata": {},
   "outputs": [
    {
     "name": "stdout",
     "output_type": "stream",
     "text": [
      "4\n",
      "4\n"
     ]
    }
   ],
   "source": [
    "print(len(\"Test\"))\n",
    "print(\"Test\".__len__())"
   ]
  },
  {
   "cell_type": "code",
   "execution_count": 87,
   "id": "5aa64a11",
   "metadata": {},
   "outputs": [
    {
     "name": "stdout",
     "output_type": "stream",
     "text": [
      "17\n"
     ]
    }
   ],
   "source": [
    "print(len(emp_1))"
   ]
  },
  {
   "cell_type": "code",
   "execution_count": null,
   "id": "a2739873",
   "metadata": {},
   "outputs": [],
   "source": []
  },
  {
   "cell_type": "markdown",
   "id": "b6fc98b7",
   "metadata": {},
   "source": [
    "## Property Decorators"
   ]
  },
  {
   "cell_type": "code",
   "execution_count": 124,
   "id": "1f74fc0d",
   "metadata": {},
   "outputs": [],
   "source": [
    "class Employee: \n",
    "    \n",
    "    def __init__(self, first, last, pay):\n",
    "        self.first = first\n",
    "        self.last = last\n",
    "        self.pay = pay\n",
    "    \n",
    "    @property\n",
    "    def email(self):\n",
    "        return '{}.{}@gmail.com'.format(self.first, self.last)\n",
    "    \n",
    "    @property\n",
    "    def fullname(self):\n",
    "        return '{} {}'.format(self.first, self.last)\n",
    "    \n",
    "    @fullname.setter\n",
    "    def fullname(self, name):\n",
    "        first, last = name.split(' ')\n",
    "        self.first, self.last = first, last\n",
    "    \n",
    "    @fullname.deleter\n",
    "    def fullname(self):\n",
    "        self.first = None\n",
    "        self.last = None\n",
    "        print(\"Deleted fullname\")"
   ]
  },
  {
   "cell_type": "code",
   "execution_count": 125,
   "id": "c2cc1ab1",
   "metadata": {},
   "outputs": [],
   "source": [
    "emp1 = Employee(\"Tarachand\", \"Khorwal\", 90000)"
   ]
  },
  {
   "cell_type": "code",
   "execution_count": 126,
   "id": "0952eeac",
   "metadata": {},
   "outputs": [],
   "source": [
    "emp1.first = \"Tushar\""
   ]
  },
  {
   "cell_type": "code",
   "execution_count": 107,
   "id": "b973a376",
   "metadata": {},
   "outputs": [
    {
     "name": "stdout",
     "output_type": "stream",
     "text": [
      "Tushar\n",
      "Tushar.Khorwal@gmail.com\n",
      "Tushar Khorwal\n"
     ]
    }
   ],
   "source": [
    "# Before property decorator\n",
    "print(emp1.first)\n",
    "print(emp1.email())\n",
    "print(emp1.fullname())"
   ]
  },
  {
   "cell_type": "code",
   "execution_count": 127,
   "id": "7c19fd72",
   "metadata": {},
   "outputs": [
    {
     "name": "stdout",
     "output_type": "stream",
     "text": [
      "Tushar\n",
      "Tushar.Khorwal@gmail.com\n",
      "Tushar Khorwal\n"
     ]
    }
   ],
   "source": [
    "# after property decorator\n",
    "print(emp1.first)\n",
    "print(emp1.email)\n",
    "print(emp1.fullname)"
   ]
  },
  {
   "cell_type": "code",
   "execution_count": 128,
   "id": "84d0f0b6",
   "metadata": {},
   "outputs": [],
   "source": [
    "emp1.fullname = 'Ayan Ali'"
   ]
  },
  {
   "cell_type": "code",
   "execution_count": 123,
   "id": "4803fd14",
   "metadata": {},
   "outputs": [
    {
     "name": "stdout",
     "output_type": "stream",
     "text": [
      "Ayan\n",
      "Ayan.Ali@gmail.com\n",
      "Ayan Ali\n"
     ]
    }
   ],
   "source": [
    "print(emp1.first)\n",
    "print(emp1.email)\n",
    "print(emp1.fullname)"
   ]
  },
  {
   "cell_type": "code",
   "execution_count": 129,
   "id": "c8f28e0f",
   "metadata": {},
   "outputs": [
    {
     "name": "stdout",
     "output_type": "stream",
     "text": [
      "Deleted fullname\n"
     ]
    }
   ],
   "source": [
    "del emp1.fullname"
   ]
  },
  {
   "cell_type": "code",
   "execution_count": 130,
   "id": "f022ac65",
   "metadata": {},
   "outputs": [
    {
     "name": "stdout",
     "output_type": "stream",
     "text": [
      "None\n",
      "None.None@gmail.com\n",
      "None None\n"
     ]
    }
   ],
   "source": [
    "print(emp1.first)\n",
    "print(emp1.email)\n",
    "print(emp1.fullname)"
   ]
  },
  {
   "cell_type": "code",
   "execution_count": null,
   "id": "66dde73f",
   "metadata": {},
   "outputs": [],
   "source": []
  }
 ],
 "metadata": {
  "kernelspec": {
   "display_name": "Python 3 (ipykernel)",
   "language": "python",
   "name": "python3"
  },
  "language_info": {
   "codemirror_mode": {
    "name": "ipython",
    "version": 3
   },
   "file_extension": ".py",
   "mimetype": "text/x-python",
   "name": "python",
   "nbconvert_exporter": "python",
   "pygments_lexer": "ipython3",
   "version": "3.11.1"
  }
 },
 "nbformat": 4,
 "nbformat_minor": 5
}
