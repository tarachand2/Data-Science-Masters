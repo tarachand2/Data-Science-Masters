{
 "cells": [
  {
   "cell_type": "markdown",
   "id": "41a65533",
   "metadata": {},
   "source": [
    "### Q1. Explain Class and Object with respect to Object-Oriented Programming. Give a suitable example."
   ]
  },
  {
   "cell_type": "markdown",
   "id": "99f92108",
   "metadata": {},
   "source": [
    "**ANS:**  \n",
    "\n",
    "        In Object-Oriented Programming (OOP), a class is a blueprint for creating objects, while an object is an instance of a class. A class defines a set of attributes (data) and methods (functions) that are common to all objects of that                 class. An object is an individual instance of a class that can have its own unique data and behaviors. \n",
    "\n",
    "        For example, let's consider a class called \"Car\". The Car class can have attributes like color, make, and model, and               methods like start and stop. This class serves as a blueprint for creating instances of cars."
   ]
  },
  {
   "cell_type": "code",
   "execution_count": 2,
   "id": "ff3a509a",
   "metadata": {},
   "outputs": [
    {
     "name": "stdout",
     "output_type": "stream",
     "text": [
      "Accord\n",
      "blue\n"
     ]
    }
   ],
   "source": [
    "class Car:\n",
    "    def __init__(self, color, make, model):\n",
    "        self.color = color\n",
    "        self.make = make\n",
    "        self.model = model\n",
    "        self.speed = 0\n",
    "\n",
    "    def start(self):\n",
    "        print(\"Starting the car\")\n",
    "\n",
    "    def stop(self):\n",
    "        print(\"Stopping the car\")\n",
    "\n",
    "# Creating objects of the Car class\n",
    "car1 = Car('red', 'Honda', 'Accord')\n",
    "car2 = Car('blue', 'Toyota', 'Camry')\n",
    "\n",
    "print(car1.model)\n",
    "print(car2.color)"
   ]
  },
  {
   "cell_type": "markdown",
   "id": "cb340ee9",
   "metadata": {},
   "source": [
    "### Q2. Name the four pillars of OOPs."
   ]
  },
  {
   "cell_type": "markdown",
   "id": "3e73aee1",
   "metadata": {},
   "source": [
    "**ANS:** \n",
    "\n",
    "1. **Encapsulation**: Encapsulation is the practice of hiding the internal workings of an object from the outside world, and only exposing a public interface that can be used to interact with the object. This helps to ensure that the object is used correctly and consistently, and can prevent unintended changes to the object's internal state.\n",
    "\n",
    "2. **Inheritance**: Inheritance is the mechanism by which one class can inherit or derive the properties and behaviors of another class. The derived class, or subclass, can add or modify these properties and behaviors to create a more specialized class.\n",
    "\n",
    "3. **Polymorphism**: Polymorphism means having multiple forms. In OOP, polymorphism allows objects of different classes to be treated as if they are objects of a common superclass. This allows us to write code that can work with objects of different types, without needing to know the specific type of each object.\n",
    "\n",
    "4. **Abstraction**: Abstraction means representing complex real-world systems in simplified forms. In OOP, abstraction is achieved by defining classes that represent concepts or entities in the problem domain, and hiding unnecessary details from the outside world. This helps to make the code more modular, maintainable, and easier to understand."
   ]
  },
  {
   "cell_type": "markdown",
   "id": "08ecae9c",
   "metadata": {},
   "source": [
    "### Q3. Explain why the __init__() function is used. Give a suitable example."
   ]
  },
  {
   "cell_type": "markdown",
   "id": "de67989d",
   "metadata": {},
   "source": [
    "**ANS:**\n",
    "    \n",
    "In Object-Oriented Programming, the `__init__()` function is a special method that is called when an object of a class is created. It is used to initialize the attributes of the object with default or user-defined values.\n",
    "\n",
    "The `__init__()` method is used to ensure that every instance of a class has its own attributes with their own initial values, which can be different from the default values assigned to the class attributes.\n",
    "    \n",
    "    \n",
    "    \n",
    "For example, let's consider a class Person that has two attributes name and age. If we create an object of this class, we may want to set the values of these attributes to specific values. We can achieve this using the __init__() method as follows:\n",
    "    "
   ]
  },
  {
   "cell_type": "code",
   "execution_count": 3,
   "id": "b8f93f12",
   "metadata": {},
   "outputs": [],
   "source": [
    "class Person:\n",
    "    def __init__(self, name, age):\n",
    "        self.name = name\n",
    "        self.age = age\n",
    "\n",
    "person1 = Person(\"Alice\", 25)\n",
    "person2 = Person(\"Bob\", 30)"
   ]
  },
  {
   "cell_type": "code",
   "execution_count": 4,
   "id": "45ec0edd",
   "metadata": {},
   "outputs": [
    {
     "data": {
      "text/plain": [
       "'Alice'"
      ]
     },
     "execution_count": 4,
     "metadata": {},
     "output_type": "execute_result"
    }
   ],
   "source": [
    "person1.name"
   ]
  },
  {
   "cell_type": "code",
   "execution_count": 5,
   "id": "8d5fbc86",
   "metadata": {},
   "outputs": [
    {
     "data": {
      "text/plain": [
       "30"
      ]
     },
     "execution_count": 5,
     "metadata": {},
     "output_type": "execute_result"
    }
   ],
   "source": [
    "person2.age"
   ]
  },
  {
   "cell_type": "markdown",
   "id": "50e87e5c",
   "metadata": {},
   "source": [
    "### Q4. Why self is used in OOPs?"
   ]
  },
  {
   "cell_type": "markdown",
   "id": "be0f8274",
   "metadata": {},
   "source": [
    "**ANS:**\n",
    "\n",
    "In Object-Oriented Programming (OOP), the `self` keyword is used to refer to the instance of a class within its own methods.\n",
    "\n",
    "In Python, when a method of a class is called on an instance of that class, the instance is automatically passed as the first argument to the method, and this argument is conventionally named `self`.\n",
    "\n",
    "The use of `self` allows us to access the attributes and methods of an instance of a class within its own methods. Without `self`, we would not be able to distinguish between the attributes of different instances of the same class.\n",
    "\n",
    "For example, consider the following class:"
   ]
  },
  {
   "cell_type": "code",
   "execution_count": 6,
   "id": "b17107b3",
   "metadata": {},
   "outputs": [],
   "source": [
    "class Circle:\n",
    "    def __init__(self, radius):\n",
    "        self.radius = radius\n",
    "\n",
    "    def area(self):\n",
    "        return 3.14 * self.radius ** 2"
   ]
  },
  {
   "cell_type": "markdown",
   "id": "c1785dd2",
   "metadata": {},
   "source": [
    "When we create an instance of the Circle class and call its area() method, the `self` keyword is used to access the radius \n",
    "attribute of that specific instance:"
   ]
  },
  {
   "cell_type": "code",
   "execution_count": 7,
   "id": "07540184",
   "metadata": {},
   "outputs": [
    {
     "name": "stdout",
     "output_type": "stream",
     "text": [
      "78.5\n"
     ]
    }
   ],
   "source": [
    "c1 = Circle(5)\n",
    "print(c1.area())"
   ]
  },
  {
   "cell_type": "markdown",
   "id": "6015633f",
   "metadata": {},
   "source": [
    "### Q5. What is inheritance? Give an example for each type of inheritance."
   ]
  },
  {
   "cell_type": "markdown",
   "id": "e78d9db7",
   "metadata": {},
   "source": [
    "**ANS:**\n",
    "\n",
    "`Inheritance` is a fundamental concept in object-oriented programming that allows a class to inherit properties and methods from another class. The class that inherits from another class is called a `derived class` or `subclass`, and the class being inherited from is called the `base class` or `superclass`.\n",
    "\n",
    "There are four types of inheritance in object-oriented programming:\n",
    "1. **Single inheritance**: In single inheritance, a subclass inherits from a single superclass. \n",
    "    For example:"
   ]
  },
  {
   "cell_type": "code",
   "execution_count": 9,
   "id": "36a99273",
   "metadata": {},
   "outputs": [],
   "source": [
    "class Animal:\n",
    "    def __init__(self, name, species):\n",
    "        self.name = name\n",
    "        self. species = species\n",
    "    \n",
    "    def speak(self):\n",
    "        print(\"I am Animal.\")\n",
    "\n",
    "class Dog(Animal):\n",
    "    def __init_(self, name, species, breed):\n",
    "        super().__init__(name, species)\n",
    "        self. breed = breed\n",
    "        \n",
    "    def speak(self):\n",
    "        print(\"Woof!\")"
   ]
  },
  {
   "cell_type": "markdown",
   "id": "3ecaf947",
   "metadata": {},
   "source": [
    "    In this example, the Animal class is the superclass, and the Dog class is the subclass. The Dog class inherits the name and species attributes and the speak() method from the Animal class. The Dog class also defines its own breed attribute and overrides the speak() method."
   ]
  },
  {
   "cell_type": "markdown",
   "id": "537097d5",
   "metadata": {},
   "source": [
    "2. **Multiple inheritance**: In multiple inheritance, a subclass inherits from multiple superclasses. For example:"
   ]
  },
  {
   "cell_type": "code",
   "execution_count": 10,
   "id": "f694e1e9",
   "metadata": {},
   "outputs": [
    {
     "name": "stdout",
     "output_type": "stream",
     "text": [
      "I can fly\n"
     ]
    }
   ],
   "source": [
    "class FlyingAnimal:\n",
    "    def fly(self):\n",
    "        print(\"I can fly\")\n",
    "\n",
    "class Bat(Animal, FlyingAnimal):\n",
    "    def __init__(self, name, species):\n",
    "        super().__init__(name, species)\n",
    "    \n",
    "    def speak(self):\n",
    "        print(\"I am a bat.\")\n",
    "\n",
    "bat = Bat(\"Dracula\", \"vampire bat\")\n",
    "bat.fly()"
   ]
  },
  {
   "cell_type": "markdown",
   "id": "84c327cb",
   "metadata": {},
   "source": [
    "    In this example, the Bat class inherits from both the Animal class and the FlyingAnimal class. The Bat class can access the attributes and methods of both superclasses."
   ]
  },
  {
   "cell_type": "markdown",
   "id": "97ffa924",
   "metadata": {},
   "source": [
    "3. **Hierarchical inheritance**: In hierarchical inheritance, multiple subclasses inherit from a single superclass. For example:"
   ]
  },
  {
   "cell_type": "code",
   "execution_count": 11,
   "id": "f435029b",
   "metadata": {},
   "outputs": [],
   "source": [
    "class Shape:\n",
    "    def __init(self, name):\n",
    "        self.name = name\n",
    "\n",
    "class Square(Shape):\n",
    "    def __init(name, side):\n",
    "        super().__init(name)\n",
    "        self.side = side\n",
    "    \n",
    "    def area(self):\n",
    "        return self.side ** 2\n",
    "\n",
    "class Circle(Shape):\n",
    "    def __init(self, name, radius):\n",
    "        super().__init(name)\n",
    "        self.radius = radius\n",
    "    \n",
    "    def area(self):\n",
    "        return 3.15 * (self.radius ** 2)   "
   ]
  },
  {
   "cell_type": "markdown",
   "id": "b3567dcd",
   "metadata": {},
   "source": [
    "    In this example, both the Square class and the Circle class inherit from the Shape class. The Shape class defines the name attribute, which is inherited by both the Square class and the Circle class."
   ]
  },
  {
   "cell_type": "markdown",
   "id": "b9da70d2",
   "metadata": {},
   "source": [
    "4. **Multilevel Inheritance**: In multilevel inheritance, a subclass inherits from a superclass, which in turn inherits from another superclass. For example:"
   ]
  },
  {
   "cell_type": "code",
   "execution_count": 13,
   "id": "b082a649",
   "metadata": {},
   "outputs": [],
   "source": [
    "class Vehicle:\n",
    "    def __init(self, color):\n",
    "        self.color = color\n",
    "    \n",
    "    def drive(self):\n",
    "        print(\"Driving..\")\n",
    "\n",
    "class Car(Vehicle):\n",
    "    def __init(self, color, make, model):\n",
    "        super().__init__(color)\n",
    "        self.make = make\n",
    "        self.model = model\n",
    "    \n",
    "    def park(self):\n",
    "        print(\"Parking..\")\n",
    "\n",
    "class SuperCar(Car):\n",
    "    def accelerate(self):\n",
    "        print(\"Accelerating..\")"
   ]
  },
  {
   "cell_type": "markdown",
   "id": "46c30634",
   "metadata": {},
   "source": [
    "    In this example, the Vehicle class is the superclass of the Car class, and the Car class is the superclass of the SportsCar class. The SportsCar class inherits the drive() method from the Vehicle class, the park() method from the Car class, and defines its own accelerate() method."
   ]
  },
  {
   "cell_type": "code",
   "execution_count": null,
   "id": "bcb4821c",
   "metadata": {},
   "outputs": [],
   "source": []
  }
 ],
 "metadata": {
  "kernelspec": {
   "display_name": "Python 3 (ipykernel)",
   "language": "python",
   "name": "python3"
  },
  "language_info": {
   "codemirror_mode": {
    "name": "ipython",
    "version": 3
   },
   "file_extension": ".py",
   "mimetype": "text/x-python",
   "name": "python",
   "nbconvert_exporter": "python",
   "pygments_lexer": "ipython3",
   "version": "3.11.1"
  }
 },
 "nbformat": 4,
 "nbformat_minor": 5
}
