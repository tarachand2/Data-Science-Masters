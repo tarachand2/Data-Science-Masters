{
 "cells": [
  {
   "cell_type": "markdown",
   "source": [
    "## Q1. What is a database? Differentiate between SQL and NoSQL databases."
   ],
   "metadata": {
    "collapsed": false
   }
  },
  {
   "cell_type": "markdown",
   "source": [
    "**ANS:**\n",
    "\n",
    "A database is a software system designed to store and manage data efficiently. It provides a way to organize and retrieve data in a structured manner. Databases can be used for a wide range of applications, including e-commerce, customer relationship management, inventory management, and many more.\n",
    "\n",
    "SQL and NoSQL are two different types of databases, with different approaches to storing and accessing data:\n",
    "\n",
    "1. **SQL databases (Structured Query Language)** are relational databases that use a table-based data storage system. They store data in tables with a fixed number of columns, and each row in a table represents a unique record. SQL databases use a standard language, called SQL, to retrieve data from the tables using complex queries. They are commonly used for applications that require complex joins, transactions, and structured data. Examples of SQL databases include Oracle, MySQL, and PostgreSQL.\n",
    "\n",
    "2. **NoSQL databases**, on the other hand, are non-relational databases that use a variety of data models for storing data. They do not use tables, and each record can have a different structure, making them more flexible than SQL databases. NoSQL databases are designed to handle large volumes of unstructured or semi-structured data, and they can scale horizontally across multiple servers. Examples of NoSQL databases include MongoDB, Cassandra, and Couchbase."
   ],
   "metadata": {
    "collapsed": false
   }
  },
  {
   "cell_type": "markdown",
   "source": [
    "## Q2. What is DDL? Explain why CREATE, DROP, ALTER, and TRUNCATE are used with an example."
   ],
   "metadata": {
    "collapsed": false
   }
  },
  {
   "cell_type": "markdown",
   "source": [
    "**ANS:**\n",
    "\n",
    "DDL stands for Data Definition Language, which is a subset of SQL used to create, modify, and delete database objects such as tables, indexes, and views. The four primary DDL commands used in SQL are CREATE, DROP, ALTER, and TRUNCATE.\n",
    "\n",
    "1. **CREATE**: The CREATE command is used to create new database objects such as tables, views, indexes, and stored procedures. For example, the following SQL statement creates a new table called \"customers\" with columns for customer ID, name, and email:"
   ],
   "metadata": {
    "collapsed": false
   }
  },
  {
   "cell_type": "code",
   "execution_count": null,
   "outputs": [],
   "source": [
    "CREATE TABLE customers (\n",
    "    id INT NOT NULL AUTO_INCREMENT,\n",
    "    name VARCHAR(50) NOT NULL,\n",
    "    email VARCHAR(255) NOT NULL,\n",
    "    PRIMARY KEY (id)\n",
    ");"
   ],
   "metadata": {
    "collapsed": false
   }
  },
  {
   "cell_type": "markdown",
   "source": [
    "2. **DROP**: The DROP command is used to delete existing database objects such as tables, views, and indexes. For example, the following SQL statement drops the \"customers\" table created in the previous example:"
   ],
   "metadata": {
    "collapsed": false
   }
  },
  {
   "cell_type": "code",
   "execution_count": null,
   "outputs": [],
   "source": [
    "DROP TABLE customers;"
   ],
   "metadata": {
    "collapsed": false
   }
  },
  {
   "cell_type": "markdown",
   "source": [
    "3. **ALTER**: The ALTER command is used to modify existing database objects such as tables, views, and indexes. For example, the following SQL statement adds a new column called \"phone\" to the \"customers\" table:"
   ],
   "metadata": {
    "collapsed": false
   }
  },
  {
   "cell_type": "code",
   "execution_count": null,
   "outputs": [],
   "source": [
    "ALTER TABLE customers ADD COLUMN phone VARCHAR(20);"
   ],
   "metadata": {
    "collapsed": false
   }
  },
  {
   "cell_type": "markdown",
   "source": [
    "4. **TRUNCATE**: The TRUNCATE command is used to remove all data from a table while keeping its structure intact. For example, the following SQL statement removes all data from the \"customers\" table:"
   ],
   "metadata": {
    "collapsed": false
   }
  },
  {
   "cell_type": "code",
   "execution_count": null,
   "outputs": [],
   "source": [
    "TRUNCATE TABLE customers;"
   ],
   "metadata": {
    "collapsed": false
   }
  },
  {
   "cell_type": "markdown",
   "source": [
    "## Q3. What is DML? Explain INSERT, UPDATE, and DELETE with an example."
   ],
   "metadata": {
    "collapsed": false
   }
  },
  {
   "cell_type": "markdown",
   "source": [
    "**ANS:**\n",
    "\n",
    "DML stands for Data Manipulation Language, which is a subset of SQL used to manipulate data stored in database objects such as tables. The three primary DML commands used in SQL are INSERT, UPDATE, and DELETE.\n",
    "\n",
    "1. **INSERT**: The INSERT command is used to add new data to a table. For example, the following SQL statement inserts a new row into the \"customers\" table with values for the \"name\" and \"email\" columns:"
   ],
   "metadata": {
    "collapsed": false
   }
  },
  {
   "cell_type": "code",
   "execution_count": null,
   "outputs": [],
   "source": [
    "INSERT INTO customers (name, email) VALUES ('John Smith', 'john.smith@example.com');"
   ],
   "metadata": {
    "collapsed": false
   }
  },
  {
   "cell_type": "markdown",
   "source": [
    "2. **UPDATE**: The UPDATE command is used to modify existing data in a table. For example, the following SQL statement updates the email address for a specific customer in the \"customers\" table:"
   ],
   "metadata": {
    "collapsed": false
   }
  },
  {
   "cell_type": "code",
   "execution_count": null,
   "outputs": [],
   "source": [
    "UPDATE customers SET email = 'new.email@example.com' WHERE id = 1;"
   ],
   "metadata": {
    "collapsed": false
   }
  },
  {
   "cell_type": "markdown",
   "source": [
    "3. **DELETE**: The DELETE command is used to remove data from a table. For example, the following SQL statement deletes a specific customer from the \"customers\" table based on their ID:"
   ],
   "metadata": {
    "collapsed": false
   }
  },
  {
   "cell_type": "code",
   "execution_count": null,
   "outputs": [],
   "source": [
    "DELETE FROM customers WHERE id = 1;"
   ],
   "metadata": {
    "collapsed": false
   }
  },
  {
   "cell_type": "markdown",
   "source": [
    "## Q4. What is DQL? Explain SELECT with an example."
   ],
   "metadata": {
    "collapsed": false
   }
  },
  {
   "cell_type": "markdown",
   "source": [
    "**ANS:**\n",
    "\n",
    "DQL stands for Data Query Language, which is a subset of SQL used to retrieve data from a database. The primary DQL command used in SQL is SELECT.\n",
    "\n",
    "SELECT: The SELECT command is used to retrieve data from one or more tables in a database. For example, the following SQL statement retrieves all data from the \"customers\" table:"
   ],
   "metadata": {
    "collapsed": false
   }
  },
  {
   "cell_type": "code",
   "execution_count": null,
   "outputs": [],
   "source": [
    "SELECT * FROM customers;"
   ],
   "metadata": {
    "collapsed": false
   }
  },
  {
   "cell_type": "markdown",
   "source": [
    "This statement retrieves all columns and rows from the \"customers\" table. We can also select specific columns using their names instead of using the asterisk (*), as shown below:"
   ],
   "metadata": {
    "collapsed": false
   }
  },
  {
   "cell_type": "code",
   "execution_count": null,
   "outputs": [],
   "source": [
    "SELECT * FROM customers WHERE name LIKE 'J%';"
   ],
   "metadata": {
    "collapsed": false
   }
  },
  {
   "cell_type": "markdown",
   "source": [
    "This statement retrieves all columns and rows from the \"customers\" table where the \"name\" column starts with the letter 'J'."
   ],
   "metadata": {
    "collapsed": false
   }
  },
  {
   "cell_type": "markdown",
   "source": [
    "## Q5. Explain Primary Key and Foreign Key."
   ],
   "metadata": {
    "collapsed": false
   }
  },
  {
   "cell_type": "markdown",
   "source": [
    "**ANS:**\n",
    "\n",
    "Primary Key and Foreign Key are two important concepts in database design that are used to establish relationships between tables.\n",
    "\n",
    "1. **Primary Key**: A primary key is a column or set of columns in a table that uniquely identifies each row in the table. This means that no two rows in the table can have the same primary key value. Primary keys are used to enforce data integrity and to establish relationships between tables. Typically, a primary key is created using an auto-incrementing integer column, but it can also be created using a combination of columns if no single column can uniquely identify each row. For example, in a table of customers, the \"id\" column could be used as the primary key.\n",
    "\n",
    "2. **Foreign Key**: A foreign key is a column in a table that refers to the primary key of another table. This is used to establish relationships between tables, where the foreign key column in one table is linked to the primary key column in another table. The foreign key column in the child table is used to maintain referential integrity, which ensures that the data in the child table remains consistent with the data in the parent table. For example, in a table of orders, the \"customer_id\" column could be a foreign key that references the \"id\" column in the customers table."
   ],
   "metadata": {
    "collapsed": false
   }
  },
  {
   "cell_type": "markdown",
   "source": [
    "## Q6. Write a python code to connect MySQL to python. Explain the cursor() and execute() method."
   ],
   "metadata": {
    "collapsed": false
   }
  },
  {
   "cell_type": "markdown",
   "source": [
    "**ANS:**\n",
    "\n",
    "here's an example Python code to connect to a MySQL database using the mysql-connector-python module:"
   ],
   "metadata": {
    "collapsed": false
   }
  },
  {
   "cell_type": "code",
   "execution_count": null,
   "outputs": [],
   "source": [
    "import mysql.connector\n",
    "\n",
    "# Establish a connection to the MySQL server\n",
    "mydb = mysql.connector.connect(\n",
    "    host=\"localhost\",\n",
    "    user='myusername',\n",
    "    password='mypassword',\n",
    "    database='mydatabase'\n",
    ")\n",
    "\n",
    "# Create a cursor object to execute SQL queries\n",
    "my_cursor = mydb.cursor()\n",
    "\n",
    "# Execute a SQL query\n",
    "my_cursor.execute(\"SELECT * FROM customers\")\n",
    "\n",
    "result = my_cursor.fetchall()\n",
    "\n",
    "for row in result:\n",
    "    print(row)"
   ],
   "metadata": {
    "collapsed": false
   }
  },
  {
   "cell_type": "markdown",
   "source": [
    "- **The `cursor()`** method returns a cursor object that is used to execute SQL queries. The cursor object is an instance of the MySQLCursor class, which provides methods to execute SQL queries and fetch results.\n",
    "\n",
    "- **The `execute()`** method is used to execute an SQL query on the database. It takes an SQL query as its parameter and returns None. If the query produces a result set, it can be fetched using the fetchone(), fetchmany(), or fetchall() methods of the cursor object."
   ],
   "metadata": {
    "collapsed": false
   }
  },
  {
   "cell_type": "markdown",
   "source": [
    "## Q7. Give the order of execution of SQL clauses in an SQL query."
   ],
   "metadata": {
    "collapsed": false
   }
  },
  {
   "cell_type": "markdown",
   "source": [
    "**ANS:**\n",
    "\n",
    "The order of execution of SQL clauses in an SQL query is as follows:\n",
    "\n",
    "1. **FROM**: The FROM clause is executed first. It specifies the table or tables from which data will be retrieved.\n",
    "\n",
    "\n",
    "2. **JOIN**: If the query involves a JOIN operation, the JOIN clauses are executed next. They specify how the tables are joined.\n",
    "\n",
    "\n",
    "3. **WHERE**: The WHERE clause is executed next. It specifies the conditions that must be met for a row to be included in the result set.\n",
    "\n",
    "\n",
    "4. **GROUP BY**: If the query involves a GROUP BY clause, it is executed next. It groups the rows that have the same values in the specified column or columns.\n",
    "\n",
    "\n",
    "5. **HAVING**: If the query involves a HAVING clause, it is executed next. It filters the grouped rows based on the conditions specified in the HAVING clause.\n",
    "\n",
    "\n",
    "6. **SELECT**: The SELECT clause is executed next. It specifies the columns that will be included in the result set.\n",
    "\n",
    "\n",
    "7. **DISTINCT**: If the query involves a DISTINCT keyword, it is executed next. It removes duplicate rows from the result set.\n",
    "\n",
    "\n",
    "8. **ORDER BY**: If the query involves an ORDER BY clause, it is executed next. It sorts the result set based on the specified column or columns.\n",
    "\n",
    "\n",
    "9. **LIMIT**: If the query involves a LIMIT clause, it is executed last. It limits the number of rows that are returned in the result set."
   ],
   "metadata": {
    "collapsed": false
   }
  },
  {
   "cell_type": "code",
   "execution_count": null,
   "outputs": [],
   "source": [],
   "metadata": {
    "collapsed": false
   }
  }
 ],
 "metadata": {
  "kernelspec": {
   "display_name": "Python 3",
   "language": "python",
   "name": "python3"
  },
  "language_info": {
   "codemirror_mode": {
    "name": "ipython",
    "version": 2
   },
   "file_extension": ".py",
   "mimetype": "text/x-python",
   "name": "python",
   "nbconvert_exporter": "python",
   "pygments_lexer": "ipython2",
   "version": "2.7.6"
  }
 },
 "nbformat": 4,
 "nbformat_minor": 0
}
