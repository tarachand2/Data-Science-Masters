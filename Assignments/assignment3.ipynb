{
 "cells": [
  {
   "cell_type": "markdown",
   "id": "e4023018",
   "metadata": {},
   "source": [
    "### Q1. What are the characteristics of the tuples? Is tuple immutable?\n",
    "\n",
    "Ans: A tuple is a collection of ordered, immutable elements enclosed in parentheses. Some characteristics of tuples include:\n",
    "\n",
    "    1. Ordered: Tuples maintain the order of their elements. This means that the first element in a tuple will always be the \n",
    "                first element, the second element will always be the second, and so on.\n",
    "\n",
    "    2. Immutable: Tuples are immutable, which means that once a tuple is created, its elements cannot be modified or deleted. \n",
    "                  However, it is possible to create a new tuple with some or all of the elements from the original tuple.\n",
    "\n",
    "    2. Heterogeneous: Tuples can contain elements of different data types, such as integers, strings, and even other tuples.\n",
    "\n",
    "    4. Indexable: Tuples are indexable, which means that individual elements can be accessed by their position in the tuple.\n",
    "\n",
    "Here is an example of a tuple in Python:"
   ]
  },
  {
   "cell_type": "code",
   "execution_count": 8,
   "id": "ba2adf27",
   "metadata": {},
   "outputs": [
    {
     "name": "stdout",
     "output_type": "stream",
     "text": [
      "(1, 'apple', 3.14, ('nested', 'tuple'))\n"
     ]
    }
   ],
   "source": [
    "my_tuple = (1, \"apple\", 3.14, (\"nested\", \"tuple\"))\n",
    "print(my_tuple)"
   ]
  },
  {
   "cell_type": "markdown",
   "id": "b8c854b0",
   "metadata": {},
   "source": [
    "    In this example, my_tuple is a tuple that contains four elements: the integer 1, the string \"apple\", the floating-point \n",
    "    number 3.14, and a nested tuple (\"nested\", \"tuple\"). Since tuples are immutable, the elements of my_tuple cannot be \n",
    "    modified or deleted once it is created."
   ]
  },
  {
   "cell_type": "code",
   "execution_count": null,
   "id": "a0618965",
   "metadata": {},
   "outputs": [],
   "source": []
  },
  {
   "cell_type": "markdown",
   "id": "8da1b9eb",
   "metadata": {},
   "source": [
    "### Q2.  What are the two tuple methods in python? Give an example of each method. Give a reason why tuple have               only two in-built methods as compared to Lists.\n",
    "\n",
    "ANS: There are only two tuple methods in Python:\n",
    "\n",
    "       1. count() : This method returns the number of occurrences of a specified value in a tuple. \n",
    "       Example:"
   ]
  },
  {
   "cell_type": "code",
   "execution_count": 13,
   "id": "f761eb54",
   "metadata": {},
   "outputs": [
    {
     "name": "stdout",
     "output_type": "stream",
     "text": [
      "4\n"
     ]
    }
   ],
   "source": [
    "my_tuple = (1, 2,2, 2, 3, 4, 2)\n",
    "count = my_tuple.count(2)\n",
    "print(count) \n",
    "\n",
    "# In this example, the count() method is used to count the number of occurrences of the value 2 in the tuple my_tuple."
   ]
  },
  {
   "cell_type": "markdown",
   "id": "f8ec7005",
   "metadata": {},
   "source": [
    "    2. index(): This method returns the index of the first occurrence of a specified value in a tuple.\n",
    "    Example:"
   ]
  },
  {
   "cell_type": "code",
   "execution_count": 11,
   "id": "aaa48003",
   "metadata": {},
   "outputs": [
    {
     "name": "stdout",
     "output_type": "stream",
     "text": [
      "3\n"
     ]
    }
   ],
   "source": [
    "my_tuple = (1, 2, 2, 3, 4, 2)\n",
    "index = my_tuple.index(3)\n",
    "print(index)\n",
    "\n",
    "# In this example, the index() method is used to find the index of the value 3 in the tuple my_tuple."
   ]
  },
  {
   "cell_type": "markdown",
   "id": "a53f7e41",
   "metadata": {},
   "source": [
    "    The reason why tuples have only two in-built methods as compared to lists is that tuples are immutable while lists are \n",
    "    mutable. Since tuples cannot be modified after creation, there is no need for methods that modify the tuple. The two \n",
    "    methods that tuples have are focused on finding information about the tuple's contents rather than changing the tuple \n",
    "    itself. On the other hand, lists have many methods for adding, removing, and modifying elements because they are designed \n",
    "    to be mutable."
   ]
  },
  {
   "cell_type": "code",
   "execution_count": null,
   "id": "4683ba82",
   "metadata": {},
   "outputs": [],
   "source": []
  },
  {
   "cell_type": "markdown",
   "id": "57335123",
   "metadata": {},
   "source": [
    "### Q3. Which collection datatypes in python do not allow duplicate items? Write a code using a set to remove duplicates from the given list.\n",
    "ANS: The collection datatype in Python that does not allow duplicate items is the set. Sets are unordered collections of \n",
    "     unique elements.\n",
    "\n",
    "    Here is an example code using a set to remove duplicates from a given list:"
   ]
  },
  {
   "cell_type": "code",
   "execution_count": 16,
   "id": "273b20bc",
   "metadata": {},
   "outputs": [
    {
     "name": "stdout",
     "output_type": "stream",
     "text": [
      "[1, 2, 3, 4]\n"
     ]
    }
   ],
   "source": [
    "my_list = [1, 1, 1, 2, 1, 3, 1, 4, 2, 1, 2, 2, 2, 3, 2, 4, 3, 1, 3, 2, 3, 3, 3, 4, 4, 1, 4, 2, 4, 3, 4, 4]\n",
    "my_set = set(my_list)\n",
    "new_list = list(my_set)\n",
    "print(new_list)\n"
   ]
  },
  {
   "cell_type": "markdown",
   "id": "8b1b4fa3",
   "metadata": {},
   "source": [
    "    In this example, the set() function is used to convert the list my_list into a set my_set. Since sets do not allow \n",
    "    duplicate elements, any duplicates in the original list are automatically removed. The new_list variable is then \n",
    "    assigned the list equivalent of the set my_set using the list() function. The resulting list new_list contains only the \n",
    "    unique elements from the original list my_list."
   ]
  },
  {
   "cell_type": "code",
   "execution_count": null,
   "id": "aa8a9142",
   "metadata": {},
   "outputs": [],
   "source": []
  },
  {
   "cell_type": "markdown",
   "id": "e5d556f2",
   "metadata": {},
   "source": [
    "### Q4. Explain the difference between the union() and update() methods for a set. Give an example of each method.\n",
    "ANS: The union() and update() methods in Python are both used to combine two or more sets. However, they differ in how they\n",
    "     create the resulting set.\n",
    "\n",
    "     The union() method returns a new set that contains all the unique elements from all the sets that were included in \n",
    "     the method call. The original sets are not modified by the union() method.\n",
    "\n",
    "     Example using union() method:"
   ]
  },
  {
   "cell_type": "code",
   "execution_count": 17,
   "id": "e3ce9b85",
   "metadata": {},
   "outputs": [
    {
     "name": "stdout",
     "output_type": "stream",
     "text": [
      "{1, 2, 3, 4, 5, 6, 7}\n",
      "{1, 2, 3}\n"
     ]
    }
   ],
   "source": [
    "set1 = {1, 2, 3}\n",
    "set2 = {3, 4, 5}\n",
    "set3 = {5, 6, 7}\n",
    "\n",
    "new_set = set1.union(set2, set3)\n",
    "\n",
    "print(new_set) \n",
    "print(set1)   "
   ]
  },
  {
   "cell_type": "markdown",
   "id": "08d5de14",
   "metadata": {},
   "source": [
    "    In this example, the union() method is used to combine three sets (set1, set2, and set3) into a new set new_set. The \n",
    "    resulting set new_set contains all the unique elements from all three sets.\n",
    "\n",
    "    The update() method, on the other hand, modifies the original set by adding all the unique elements from the sets that\n",
    "    were included in the method call.\n",
    "\n",
    "    Example using update() method:"
   ]
  },
  {
   "cell_type": "code",
   "execution_count": null,
   "id": "e2cd02c5",
   "metadata": {},
   "outputs": [],
   "source": [
    "set1 = {1, 2, 3}\n",
    "set2 = {3, 4, 5}\n",
    "set3 = {5, 6, 7}\n",
    "\n",
    "set1.update(set2, set3)\n",
    "\n",
    "print(set1) \n"
   ]
  },
  {
   "cell_type": "markdown",
   "id": "a2b529e9",
   "metadata": {},
   "source": [
    "    In this example, the update() method is used to add all the unique elements from set2 and set3 to set1. The resulting \n",
    "    set set1 is modified and contains all the unique elements from all three sets.\n",
    "\n",
    "    In summary, the union() method returns a new set containing the unique elements from all sets included in the method \n",
    "    call, while the update() method modifies the original set by adding all the unique elements from all sets included in\n",
    "    the method call."
   ]
  },
  {
   "cell_type": "code",
   "execution_count": null,
   "id": "c90b60e8",
   "metadata": {},
   "outputs": [],
   "source": []
  },
  {
   "cell_type": "markdown",
   "id": "03b6dbf3",
   "metadata": {},
   "source": [
    "### Q5. What is a dictionary? Give an example. Also, state whether a dictionary is ordered or unordered.\n",
    "ANS: A dictionary in Python is a collection of key-value pairs, where each key is associated with a corresponding value.\n",
    "     Dictionaries are implemented as hash tables, which allow for fast lookups based on keys.\n",
    "\n",
    "    Here is an example of a dictionary in Python:"
   ]
  },
  {
   "cell_type": "code",
   "execution_count": 18,
   "id": "65acaa7b",
   "metadata": {},
   "outputs": [],
   "source": [
    "my_dict = {\"apple\": 1, \"banana\": 2, \"orange\": 3}"
   ]
  },
  {
   "cell_type": "markdown",
   "id": "20a9407c",
   "metadata": {},
   "source": [
    "    In this example, my_dict is a dictionary with three key-value pairs. The keys are strings \n",
    "    (\"apple\", \"banana\", and \"orange\"), and the values are integers (1, 2, and 3).\n",
    "\n",
    "    Dictionaries are unordered in Python versions before 3.7, meaning that the order in which the key-value pairs are \n",
    "    stored may not be the same as the order in which they were defined. Starting from Python 3.7, dictionaries are \n",
    "    guaranteed to maintain the order of insertion, but this behavior was not guaranteed in earlier versions of Python.\n",
    "\n",
    "    To access a value in a dictionary, you can use the corresponding key as an index. For example:"
   ]
  },
  {
   "cell_type": "code",
   "execution_count": null,
   "id": "37c9eaa0",
   "metadata": {},
   "outputs": [],
   "source": [
    "print(my_dict[\"apple\"]) # Output: 1"
   ]
  },
  {
   "cell_type": "markdown",
   "id": "ab682309",
   "metadata": {},
   "source": [
    "    In this example, the value associated with the key \"apple\" is accessed using the square bracket notation ([]) with the\n",
    "    key as the index.\n",
    "\n",
    "    Dictionaries are useful for representing data in a structured way and allow for efficient lookups based on keys.\n"
   ]
  },
  {
   "cell_type": "markdown",
   "id": "93d0cfdf",
   "metadata": {},
   "source": [
    "### Q6. Can we create a nested dictionary? If so, please give an example by creating a simple one-level nested dictionary.\n",
    "ANS: Yes, we can create a nested dictionary in Python. A nested dictionary is a dictionary where the values are \n",
    "    themselves dictionaries. Here's an example of a simple one-level nested dictionary:"
   ]
  },
  {
   "cell_type": "code",
   "execution_count": 20,
   "id": "279a8b70",
   "metadata": {},
   "outputs": [
    {
     "name": "stdout",
     "output_type": "stream",
     "text": [
      "{'name': 'John', 'age': 22, 'grades': {'math': 85, 'science': 90, 'english': 80}}\n"
     ]
    }
   ],
   "source": [
    "student = {\n",
    "  \"name\": \"John\",\n",
    "  \"age\": 22,\n",
    "  \"grades\": {\n",
    "    \"math\": 85,\n",
    "    \"science\": 90,\n",
    "    \"english\": 80\n",
    "  }\n",
    "}\n",
    "\n",
    "print(student)"
   ]
  },
  {
   "cell_type": "markdown",
   "id": "6f157d07",
   "metadata": {},
   "source": [
    "    In this example, the student dictionary contains three keys: name, age, and grades. The grades key has a value that \n",
    "    is another dictionary with three keys (math, science, and english) and their corresponding values (85, 90, and 80).\n",
    "    This creates a one-level nested dictionary where the grades key maps to a dictionary of subject grades.\n",
    "\n",
    "    To access the values in the nested dictionary, you can use multiple square brackets to index into the dictionary:"
   ]
  },
  {
   "cell_type": "code",
   "execution_count": 21,
   "id": "682fd053",
   "metadata": {},
   "outputs": [
    {
     "name": "stdout",
     "output_type": "stream",
     "text": [
      "85\n"
     ]
    }
   ],
   "source": [
    "print(student[\"grades\"][\"math\"])"
   ]
  },
  {
   "cell_type": "markdown",
   "id": "d4dbe51a",
   "metadata": {},
   "source": [
    "    In this example, we are accessing the value of the \"math\" key in the nested dictionary by indexing into the grades key\n",
    "    of the student dictionary first, and then indexing into the \"math\" key of the nested dictionary."
   ]
  },
  {
   "cell_type": "code",
   "execution_count": null,
   "id": "a59de19d",
   "metadata": {},
   "outputs": [],
   "source": [
    "Q8. What are the three view objects in dictionaries? Use the three in-built methods in python to display\n",
    "these three view objects for the given dictionary.\n",
    "dict1 = {'Sport': 'Cricket' , 'Teams': ['India', 'Australia', 'England', 'South Africa', 'Sri Lanka', 'New Zealand']}"
   ]
  },
  {
   "cell_type": "markdown",
   "id": "8331709c",
   "metadata": {},
   "source": [
    "### Q7. Using setdefault() method, create key named topics in the given dictionary and also add the value of the key as this \n",
    "###    list ['Python', 'Machine Learning’, 'Deep Learning']\n",
    "###    dict1 = {'language' : 'Python', 'course': 'Data Science Masters'}\n"
   ]
  },
  {
   "cell_type": "code",
   "execution_count": 24,
   "id": "76ab567f",
   "metadata": {},
   "outputs": [
    {
     "data": {
      "text/plain": [
       "{'language': 'Python',\n",
       " 'course': 'Data Science Masters',\n",
       " 'topics': ['Python', 'Machine Learning', 'Deep Learning']}"
      ]
     },
     "execution_count": 24,
     "metadata": {},
     "output_type": "execute_result"
    }
   ],
   "source": [
    "dict1 = {'language': 'Python', 'course': 'Data Science Masters'}\n",
    "\n",
    "# using setdefault() to add a key named 'topics'\n",
    "dict1.setdefault(\"topics\", ['Python', 'Machine Learning', 'Deep Learning'])\n",
    "\n",
    "dict1\n"
   ]
  },
  {
   "cell_type": "markdown",
   "id": "60a55895",
   "metadata": {},
   "source": [
    "    In this example, the setdefault() method is called on the dict1 dictionary to add a key named topics if it doesn't\n",
    "    already exist, and set its value to ['Python', 'Machine Learning', 'Deep Learning']. Since topics key doesn't exist \n",
    "    in the dictionary, it is added along with its corresponding value.\n",
    "\n",
    "    The output of the above code will be:"
   ]
  },
  {
   "cell_type": "code",
   "execution_count": null,
   "id": "3a042ece",
   "metadata": {},
   "outputs": [],
   "source": [
    "{'language': 'Python', 'course': 'Data Science Masters', 'topics': ['Python', 'Machine Learning', 'Deep Learning']}"
   ]
  },
  {
   "cell_type": "markdown",
   "id": "663f57a6",
   "metadata": {},
   "source": [
    "    As you can see, the topics key has been added to the dictionary with its corresponding value. If we were to call \n",
    "    the setdefault() method again with a new value for topics, it would not overwrite the existing value:"
   ]
  },
  {
   "cell_type": "code",
   "execution_count": null,
   "id": "48ac9974",
   "metadata": {},
   "outputs": [],
   "source": [
    "dict1.setdefault(\"topics\", ['Data Science'])\n",
    "print(dict1)"
   ]
  },
  {
   "cell_type": "markdown",
   "id": "e41201fb",
   "metadata": {},
   "source": [
    "    As you can see, the topics key still has the same value as before (['Python', 'Machine Learning', 'Deep Learning'])\n",
    "    and the new value passed to setdefault() (['Data Science']) has been ignored."
   ]
  },
  {
   "cell_type": "code",
   "execution_count": null,
   "id": "48828fd1",
   "metadata": {},
   "outputs": [],
   "source": []
  },
  {
   "cell_type": "markdown",
   "id": "1617c72e",
   "metadata": {},
   "source": [
    "### Q8. What are the three view objects in dictionaries? Use the three in-built methods in python to display these three view objects for the given dictionary.\n",
    "### dict1 = {'Sport': 'Cricket' , 'Teams': ['India', 'Australia', 'England', 'South Africa', 'Sri Lanka', 'New Zealand']}"
   ]
  },
  {
   "cell_type": "markdown",
   "id": "69f1c064",
   "metadata": {},
   "source": [
    "\n",
    "ANS: In Python, dictionaries have three view objects that allow us to access the keys, values, and key-value pairs in \n",
    "     a dictionary. The three view objects are:\n",
    "    \n",
    "    1. dict.keys() : returns a view object of the keys in the dictionary\n",
    "    2. dict.values() : returns a view object of the values in the dictionary\n",
    "    3. dict.items() : returns a view object of the key-value pairs in the dictionary\n",
    "\n",
    "        Here's an example using the given dictionary dict1:"
   ]
  },
  {
   "cell_type": "code",
   "execution_count": 25,
   "id": "d2b2dae4",
   "metadata": {},
   "outputs": [
    {
     "name": "stdout",
     "output_type": "stream",
     "text": [
      "dict_keys(['Sport', 'Teams'])\n",
      "dict_values(['Cricket', ['India', 'Australia', 'England', 'South Africa', 'Sri Lanka', 'New Zealand']])\n",
      "dict_items([('Sport', 'Cricket'), ('Teams', ['India', 'Australia', 'England', 'South Africa', 'Sri Lanka', 'New Zealand'])])\n"
     ]
    }
   ],
   "source": [
    "dict1 = {'Sport': 'Cricket' , 'Teams': ['India', 'Australia', 'England', 'South Africa', 'Sri Lanka', 'New Zealand']}\n",
    "\n",
    "# get view object of keys\n",
    "keys_view = dict1.keys()\n",
    "print(keys_view)\n",
    "\n",
    "# get view object of values\n",
    "values_view = dict1.values()\n",
    "print(values_view)\n",
    "\n",
    "# get view object of key-value pairs\n",
    "items_view = dict1.items()\n",
    "print(items_view)\n"
   ]
  },
  {
   "cell_type": "code",
   "execution_count": 26,
   "id": "5cf42425",
   "metadata": {},
   "outputs": [
    {
     "data": {
      "text/plain": [
       "['Sport', 'Teams']"
      ]
     },
     "execution_count": 26,
     "metadata": {},
     "output_type": "execute_result"
    }
   ],
   "source": [
    "list(keys_view)"
   ]
  },
  {
   "cell_type": "code",
   "execution_count": 27,
   "id": "40bedaf2",
   "metadata": {},
   "outputs": [
    {
     "data": {
      "text/plain": [
       "['Cricket',\n",
       " ['India', 'Australia', 'England', 'South Africa', 'Sri Lanka', 'New Zealand']]"
      ]
     },
     "execution_count": 27,
     "metadata": {},
     "output_type": "execute_result"
    }
   ],
   "source": [
    "list(values_view)"
   ]
  },
  {
   "cell_type": "code",
   "execution_count": 29,
   "id": "6b8e7125",
   "metadata": {},
   "outputs": [
    {
     "data": {
      "text/plain": [
       "[('Sport', 'Cricket'),\n",
       " ('Teams',\n",
       "  ['India',\n",
       "   'Australia',\n",
       "   'England',\n",
       "   'South Africa',\n",
       "   'Sri Lanka',\n",
       "   'New Zealand'])]"
      ]
     },
     "execution_count": 29,
     "metadata": {},
     "output_type": "execute_result"
    }
   ],
   "source": [
    "list(items_view)"
   ]
  },
  {
   "cell_type": "markdown",
   "id": "1a55d51d",
   "metadata": {},
   "source": [
    "    As you can see, calling dict.keys() returns a view object of the keys in the dictionary, calling dict.values() \n",
    "    returns a view object of the values in the dictionary, and calling dict.items() returns a view object of the \n",
    "    key-value pairs in the dictionary."
   ]
  },
  {
   "cell_type": "code",
   "execution_count": null,
   "id": "a2fc71ef",
   "metadata": {},
   "outputs": [],
   "source": []
  }
 ],
 "metadata": {
  "kernelspec": {
   "display_name": "Python 3 (ipykernel)",
   "language": "python",
   "name": "python3"
  },
  "language_info": {
   "codemirror_mode": {
    "name": "ipython",
    "version": 3
   },
   "file_extension": ".py",
   "mimetype": "text/x-python",
   "name": "python",
   "nbconvert_exporter": "python",
   "pygments_lexer": "ipython3",
   "version": "3.11.1"
  }
 },
 "nbformat": 4,
 "nbformat_minor": 5
}
