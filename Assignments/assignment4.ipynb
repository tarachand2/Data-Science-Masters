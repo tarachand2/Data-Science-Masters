{
 "cells": [
  {
   "cell_type": "markdown",
   "id": "ad959363",
   "metadata": {},
   "source": [
    "### Q1. Which keyword is used to create a function? Create a function to return a list of odd numbers in the range of 1 to 25."
   ]
  },
  {
   "cell_type": "markdown",
   "id": "8c3d520f",
   "metadata": {},
   "source": [
    "ANS: The **`def`** keyword is used to create a function in Python.\n",
    "\n",
    "     Here's an example function that returns a list of odd numbers in the range of 1 to 25:"
   ]
  },
  {
   "cell_type": "code",
   "execution_count": 39,
   "id": "4264e95e",
   "metadata": {},
   "outputs": [],
   "source": [
    "def get_odd_numbers():\n",
    "    odd_numbers = []\n",
    "    for i in range(1, 26):\n",
    "        if i%2 != 0:\n",
    "            odd_numbers.append(i)\n",
    "    return odd_numbers\n",
    "        "
   ]
  },
  {
   "cell_type": "code",
   "execution_count": 5,
   "id": "e1e3f005",
   "metadata": {},
   "outputs": [
    {
     "name": "stdout",
     "output_type": "stream",
     "text": [
      "[1, 3, 5, 7, 9, 11, 13, 15, 17, 19, 21, 23, 25]\n"
     ]
    }
   ],
   "source": [
    "odd_numbers = get_odd_numbers()\n",
    "print(odd_numbers)"
   ]
  },
  {
   "cell_type": "code",
   "execution_count": null,
   "id": "8e50dcfb",
   "metadata": {},
   "outputs": [],
   "source": []
  },
  {
   "cell_type": "markdown",
   "id": "88a17cf8",
   "metadata": {},
   "source": [
    "### Q2. Why *args and **kwargs is used in some functions? Create a function each for *args and **kwargs to demonstrate their use."
   ]
  },
  {
   "cell_type": "markdown",
   "id": "f131050e",
   "metadata": {},
   "source": [
    "ANS: In Python, `*args` and `** kwargs` are used in function definitions to allow the function to accept any number of                positional arguments and keyword arguments, respectively.\n",
    "\n",
    "    *args is used to pass a variable number of non-keyword arguments to a function. It collects any additional \n",
    "    arguments as a tuple. On the other hand, \n",
    "    **kwargs is used to pass a variable number of keyword arguments to a function. It collects any additional \n",
    "    keyword arguments as a dictionary.\n",
    "\n",
    "    Here are example functions to demonstrate the use of *args and **kwargs:"
   ]
  },
  {
   "cell_type": "code",
   "execution_count": 40,
   "id": "d676f71c",
   "metadata": {},
   "outputs": [],
   "source": [
    "# Example function using *args\n",
    "def sum_all_numbers(*args):\n",
    "    total = 0\n",
    "    for num in args:\n",
    "        total += num\n",
    "    return total\n",
    "\n",
    "# Example function using **kwargs\n",
    "def print_kwargs(**kwargs):\n",
    "    for key, value in kwargs.items():\n",
    "        print(key + ':', value)\n"
   ]
  },
  {
   "cell_type": "markdown",
   "id": "e7eb583b",
   "metadata": {},
   "source": [
    "    In the first function, *args is used to accept any number of positional arguments. The function simply sums up all \n",
    "    the numbers passed to it and returns the total.\n",
    "\n",
    "    In the second function, **kwargs is used to accept any number of keyword arguments. The function prints out each \n",
    "    keyword argument and its corresponding value.\n",
    "\n",
    "    Here are some examples of how these functions can be called:"
   ]
  },
  {
   "cell_type": "code",
   "execution_count": 41,
   "id": "1c8b0860",
   "metadata": {},
   "outputs": [
    {
     "name": "stdout",
     "output_type": "stream",
     "text": [
      "15\n",
      "60\n",
      "6\n",
      "name: John\n",
      "age: 30\n",
      "country: USA\n",
      "language: English\n",
      "capital: Washington\n"
     ]
    }
   ],
   "source": [
    "# Call the sum_all_numbers function with different numbers of arguments\n",
    "print(sum_all_numbers(1, 2, 3, 4, 5)) \n",
    "print(sum_all_numbers(10, 20, 30))  \n",
    "print(sum_all_numbers(2, 4))        \n",
    "\n",
    "# Call the print_kwargs function with different keyword arguments\n",
    "print_kwargs(name='John', age=30)\n",
    "print_kwargs(country='USA', language='English', capital='Washington')"
   ]
  },
  {
   "cell_type": "code",
   "execution_count": null,
   "id": "5e53252b",
   "metadata": {},
   "outputs": [],
   "source": []
  },
  {
   "cell_type": "markdown",
   "id": "d4ac6854",
   "metadata": {},
   "source": [
    "### Q3. What is an iterator in python? Name the method used to initialise the iterator object and the method used for iteration. Use these methods to print the first five elements of the given list [2, 4, 6, 8, 10, 12, 14, 16, 18, 20]."
   ]
  },
  {
   "cell_type": "markdown",
   "id": "7e8bd3f3",
   "metadata": {},
   "source": [
    "ANS: In Python, an iterator is an object that represents a stream of data. It is used to iterate over a collection of data, \n",
    "     one element at a time. An iterator object must implement two methods: '__iter__()' and '__next__()'.\n",
    "\n",
    "    The '__iter__()' method is used to initialize the iterator object and returns the iterator object itself. The \n",
    "    '__next__()' method is used to iterate through the elements of the iterator and return the next element.\n",
    "\n",
    "    Here is an example of how to use an iterator to print the first five elements of a list:"
   ]
  },
  {
   "cell_type": "code",
   "execution_count": 42,
   "id": "b386440f",
   "metadata": {},
   "outputs": [
    {
     "name": "stdout",
     "output_type": "stream",
     "text": [
      "2\n",
      "4\n",
      "6\n",
      "8\n",
      "10\n"
     ]
    }
   ],
   "source": [
    "# Define a list\n",
    "my_list = [2, 4, 6, 8, 10, 12, 14, 16, 18, 20]\n",
    "\n",
    "# Initialize the iterator object using iter() method\n",
    "my_iterator = iter(my_list)\n",
    "\n",
    "# Iterate through the first five elements of the list using next() method\n",
    "print(next(my_iterator))  # Output: 2\n",
    "print(next(my_iterator))  # Output: 4\n",
    "print(next(my_iterator))  # Output: 6\n",
    "print(next(my_iterator))  # Output: 8\n",
    "print(next(my_iterator))  # Output: 10\n"
   ]
  },
  {
   "cell_type": "code",
   "execution_count": null,
   "id": "cdcf7244",
   "metadata": {},
   "outputs": [],
   "source": []
  },
  {
   "cell_type": "markdown",
   "id": "0aaae246",
   "metadata": {},
   "source": [
    "### Q4. What is a generator function in python? Why yield keyword is used? Give an example of a generator function."
   ]
  },
  {
   "cell_type": "markdown",
   "id": "057b1d4f",
   "metadata": {},
   "source": [
    "**ANS:**\n",
    "\n",
    "    In Python, a generator function is a special kind of function that returns an iterator. Unlike regular functions, \n",
    "    which execute and return a value, generator functions use the yield keyword to return a sequence of values one at a time.\n",
    "\n",
    "    The yield keyword is used in generator functions to produce a value and suspend the execution of the function. When \n",
    "    the function is called again, execution resumes where it left off, with all the local variables and their values \n",
    "    still intact.\n",
    "\n",
    "    Here is an example of a generator function that generates a sequence of even numbers:"
   ]
  },
  {
   "cell_type": "code",
   "execution_count": 43,
   "id": "85491f36",
   "metadata": {},
   "outputs": [],
   "source": [
    "def even_numbers(n):\n",
    "    i = 0\n",
    "    while i < n:\n",
    "        yield i * 2\n",
    "        i += 1\n"
   ]
  },
  {
   "cell_type": "markdown",
   "id": "8419f4ad",
   "metadata": {},
   "source": [
    "    In this example, the even_numbers() function takes a parameter n that specifies the number of even numbers to generate. \n",
    "    Inside the function, we use a while loop to generate each even number by multiplying the loop counter i by 2 and \n",
    "    yielding the result using the yield keyword.\n",
    "\n",
    "    To use the even_numbers() generator function, we can call it in a for loop or using the next() function:"
   ]
  },
  {
   "cell_type": "code",
   "execution_count": 44,
   "id": "a8c859c5",
   "metadata": {},
   "outputs": [
    {
     "name": "stdout",
     "output_type": "stream",
     "text": [
      "0\n",
      "2\n",
      "4\n",
      "6\n",
      "8\n",
      "0\n",
      "2\n",
      "4\n",
      "6\n",
      "8\n"
     ]
    }
   ],
   "source": [
    "# Using a for loop to iterate through the generator\n",
    "for num in even_numbers(5):\n",
    "    print(num)\n",
    "    \n",
    "# Using the next() function to iterate through the generator\n",
    "gen = even_numbers(5)\n",
    "print(next(gen))\n",
    "print(next(gen))\n",
    "print(next(gen))\n",
    "print(next(gen))\n",
    "print(next(gen))\n"
   ]
  },
  {
   "cell_type": "code",
   "execution_count": null,
   "id": "ef62b4bb",
   "metadata": {},
   "outputs": [],
   "source": []
  },
  {
   "cell_type": "code",
   "execution_count": null,
   "id": "7797c184",
   "metadata": {},
   "outputs": [],
   "source": [
    "Q5. Create a generator function for prime numbers less than 1000. Use the next() method to print the\n",
    "first 20 prime numbers."
   ]
  },
  {
   "cell_type": "code",
   "execution_count": null,
   "id": "c2786ce9",
   "metadata": {},
   "outputs": [],
   "source": [
    "Here is an example of a generator function for prime numbers less than 1000, along with code to print the first 20 prime numbers using the next() method:"
   ]
  },
  {
   "cell_type": "code",
   "execution_count": null,
   "id": "86356111",
   "metadata": {},
   "outputs": [],
   "source": []
  },
  {
   "cell_type": "code",
   "execution_count": 36,
   "id": "ce2f284b",
   "metadata": {},
   "outputs": [],
   "source": [
    "def primes():\n",
    "    \"\"\"Generator function that yields prime numbers less than 1000.\"\"\"\n",
    "    \n",
    "    # Check odd numbers up to 1000\n",
    "    for num in range(1, 1001):\n",
    "        for i in range(2, num):\n",
    "            if num % i == 0:\n",
    "                break\n",
    "        else:\n",
    "            yield num"
   ]
  },
  {
   "cell_type": "code",
   "execution_count": 38,
   "id": "96c2fa89",
   "metadata": {},
   "outputs": [
    {
     "name": "stdout",
     "output_type": "stream",
     "text": [
      "1\n",
      "2\n",
      "3\n",
      "5\n",
      "7\n",
      "11\n",
      "13\n",
      "17\n",
      "19\n",
      "23\n",
      "29\n",
      "31\n",
      "37\n",
      "41\n",
      "43\n",
      "47\n",
      "53\n",
      "59\n",
      "61\n",
      "67\n"
     ]
    }
   ],
   "source": [
    "# Print the first 20 prime numbers using the next() method\n",
    "gen = primes()\n",
    "for i in range(20):\n",
    "    print(next(gen))"
   ]
  },
  {
   "cell_type": "code",
   "execution_count": null,
   "id": "4f3f9635",
   "metadata": {},
   "outputs": [],
   "source": []
  }
 ],
 "metadata": {
  "kernelspec": {
   "display_name": "Python 3 (ipykernel)",
   "language": "python",
   "name": "python3"
  },
  "language_info": {
   "codemirror_mode": {
    "name": "ipython",
    "version": 3
   },
   "file_extension": ".py",
   "mimetype": "text/x-python",
   "name": "python",
   "nbconvert_exporter": "python",
   "pygments_lexer": "ipython3",
   "version": "3.11.1"
  }
 },
 "nbformat": 4,
 "nbformat_minor": 5
}
