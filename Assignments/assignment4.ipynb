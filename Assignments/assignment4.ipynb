{
 "cells": [
  {
   "cell_type": "code",
   "execution_count": null,
   "id": "73f344c9",
   "metadata": {},
   "outputs": [],
   "source": [
    "Q1. Which keyword is used to create a function? Create a function to return a list of odd numbers in the range of 1 to 25.\n",
    "Ans: -> \"def\" keyword is used to define a function followed by function_name(name of the function) with parantheses."
   ]
  },
  {
   "cell_type": "code",
   "execution_count": 2,
   "id": "5d849009",
   "metadata": {},
   "outputs": [
    {
     "data": {
      "text/plain": [
       "[1, 3, 5, 7, 9, 11, 13, 15, 17, 19, 21, 23, 25]"
      ]
     },
     "execution_count": 2,
     "metadata": {},
     "output_type": "execute_result"
    }
   ],
   "source": [
    "# function to return a list of odd numbers in the range of 1 to 25\n",
    "def get_odd_nums(start, end):\n",
    "    # using list comprehension to get list of odd numbers\n",
    "    list = [i for i in range(start, end+1) if i%2 == 1]\n",
    "    return list  \n",
    "\n",
    "get_odd_nums(1, 25)"
   ]
  },
  {
   "cell_type": "code",
   "execution_count": null,
   "id": "b8f7021d",
   "metadata": {},
   "outputs": [],
   "source": []
  },
  {
   "cell_type": "code",
   "execution_count": null,
   "id": "58fa6fa5",
   "metadata": {},
   "outputs": [],
   "source": [
    "Q2. Why *args and **kwargs is used in some functions? Create a function each for *args and **kwargs to demonstrate their use.\n",
    "Ans: -> '*args' and '**kwargs' are used in function definitions to allow the function to take a flexible number of arguments.\n",
    "\n",
    "     -> '*args' allows the function to take an arbitrary number of non-keyword arguments. In other words, it allows the \n",
    "        function to accept a list of values as input, where the number of values can be zero or more.\n",
    "\n",
    "     -> '**kwargs' allows the function to take an arbitrary number of keyword arguments. In other words, it allows the function\n",
    "        to accept a dictionary of key-value pairs as input, where the number of pairs can be zero or more."
   ]
  },
  {
   "cell_type": "code",
   "execution_count": 3,
   "id": "35191aaf",
   "metadata": {},
   "outputs": [
    {
     "name": "stdout",
     "output_type": "stream",
     "text": [
      "1\n",
      "2\n",
      "3\n"
     ]
    }
   ],
   "source": [
    "# Here's an example of how you can use *args in a function:\n",
    "def my_func(*args):\n",
    "    for arg in args:\n",
    "        print(arg)\n",
    "\n",
    "my_func(1, 2, 3)"
   ]
  },
  {
   "cell_type": "code",
   "execution_count": 4,
   "id": "0020d205",
   "metadata": {},
   "outputs": [
    {
     "name": "stdout",
     "output_type": "stream",
     "text": [
      "a: 1\n",
      "b: 2\n",
      "c: 3\n"
     ]
    }
   ],
   "source": [
    "# And here's an example of how you can use **kwargs in a function:\n",
    "def my_func(**kwargs):\n",
    "    for key, value in kwargs.items():\n",
    "        print(f\"{key}: {value}\")\n",
    "\n",
    "my_func(a=1, b=2, c=3)"
   ]
  },
  {
   "cell_type": "code",
   "execution_count": null,
   "id": "c9225302",
   "metadata": {},
   "outputs": [],
   "source": [
    "-> You can also use both *args and **kwargs in the same function definition to allow the function to take a mix of positional \n",
    "   and keyword arguments."
   ]
  },
  {
   "cell_type": "code",
   "execution_count": null,
   "id": "4dee12b8",
   "metadata": {},
   "outputs": [],
   "source": []
  },
  {
   "cell_type": "code",
   "execution_count": null,
   "id": "5d8f5336",
   "metadata": {},
   "outputs": [],
   "source": [
    "Q3. What is an iterator in python? Name the method used to initialise the iterator object and the method used for iteration. \n",
    "    Use these methods to print the first five elements of the given list [2, 4, 6, 8, 10, 12, 14, 16, 18, 20]."
   ]
  }
 ],
 "metadata": {
  "kernelspec": {
   "display_name": "Python 3 (ipykernel)",
   "language": "python",
   "name": "python3"
  },
  "language_info": {
   "codemirror_mode": {
    "name": "ipython",
    "version": 3
   },
   "file_extension": ".py",
   "mimetype": "text/x-python",
   "name": "python",
   "nbconvert_exporter": "python",
   "pygments_lexer": "ipython3",
   "version": "3.11.1"
  }
 },
 "nbformat": 4,
 "nbformat_minor": 5
}
