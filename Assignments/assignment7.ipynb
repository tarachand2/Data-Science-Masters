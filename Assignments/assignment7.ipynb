{
 "cells": [
  {
   "cell_type": "markdown",
   "id": "6cf0a07c",
   "metadata": {},
   "source": [
    "### Q1. Create a function which will take a list as an argument and return the product of all the numbers after creating a flat list. Use the below-given list as an argument for your function.\n",
    "\n",
    "list1 = [1,2,3,4, [44,55,66, True], False, (34,56,78,89,34), {1,2,3,3,2,1}, {1:34, \"key2\": [55, 67, 78, 89], 4: (45,\n",
    "22, 61, 34)}, [56, 'data science'], 'Machine Learning']"
   ]
  },
  {
   "cell_type": "markdown",
   "id": "0fa2cbf0",
   "metadata": {},
   "source": [
    "**ANS:** \n",
    "    \n",
    "    Here are two different functions that takes a list as an argument and returns the product of all the numbers in the flattened list:\n",
    "    "
   ]
  },
  {
   "cell_type": "code",
   "execution_count": 1,
   "id": "580c27ef",
   "metadata": {},
   "outputs": [],
   "source": [
    "list1 = [1,2,3,4, [44,55,66, True], False, (34,56,78,89,34), {1,2,3,3,2,1}, \n",
    "         {1:34, \"key2\": [55, 67, 78, 89], 4: (45,22, 61, 34)},\n",
    "         [56, 'data science'], 'Machine Learning']"
   ]
  },
  {
   "cell_type": "markdown",
   "id": "7458304c",
   "metadata": {},
   "source": [
    "**Method 1:**"
   ]
  },
  {
   "cell_type": "code",
   "execution_count": 7,
   "id": "58844f3c",
   "metadata": {},
   "outputs": [],
   "source": [
    "def get_product(lst):\n",
    "    flattened_list = []\n",
    "    for item in lst:\n",
    "        if type(item) == list or type(item) == tuple:\n",
    "            flattened_list.extend([i for i in item if type(i) == int or type(i) == float])\n",
    "        elif type(item) == set:\n",
    "            flattened_list.extend([i for i in item if type(i) == int or type(i) == float])\n",
    "        elif type(item) == dict:\n",
    "            flattened_list.extend([item[key] for key in item if type(item[key]) == int or type(item[key]) == float])\n",
    "        elif type(item) == int or type(item) == float:\n",
    "            flattened_list.append(item)\n",
    "\n",
    "    # Calculate the product of all numbers in the flattened list\n",
    "    product = 1\n",
    "    for num in flattened_list:\n",
    "        product *= num\n",
    "\n",
    "    return product"
   ]
  },
  {
   "cell_type": "code",
   "execution_count": 8,
   "id": "8b981b10",
   "metadata": {},
   "outputs": [
    {
     "name": "stdout",
     "output_type": "stream",
     "text": [
      "19679733278309744640\n"
     ]
    }
   ],
   "source": [
    "print(get_product(list1))"
   ]
  },
  {
   "cell_type": "markdown",
   "id": "9a735517",
   "metadata": {},
   "source": [
    "**Method 2:**"
   ]
  },
  {
   "cell_type": "code",
   "execution_count": 9,
   "id": "346cded8",
   "metadata": {},
   "outputs": [],
   "source": [
    "def get_product1(lst):\n",
    "    flattened_list = []\n",
    "    for item in lst:\n",
    "        if type(item) == list or type(item) == tuple:\n",
    "            flattened_list.extend([i for i in item if type(i) == int or type(i) == float])\n",
    "        elif type(item) == set:\n",
    "            flattened_list.extend([i for i in item if type(i) == int or type(i) == float])\n",
    "        elif type(item) == dict:\n",
    "            flattened_list.extend([item[key] for key in item if type(item[key]) == int or type(item[key]) == float])\n",
    "            flattened_list.extend(key for key in item if type(key) == int or type(key) == float)\n",
    "            for key in item:\n",
    "                if type(item[key]) == list or type(item[key]) == tuple or type(item[key]) == set:\n",
    "                    flattened_list.extend([val for val in item[key] if type(val) == int or type(val) == float])\n",
    "\n",
    "        elif type(item) == int or type(item) == float:\n",
    "            flattened_list.append(item)\n",
    "\n",
    "    product: int = 1\n",
    "    for i in flattened_list:\n",
    "        product *= i\n",
    "    return product"
   ]
  },
  {
   "cell_type": "code",
   "execution_count": 10,
   "id": "24d1aa68",
   "metadata": {},
   "outputs": [
    {
     "name": "stdout",
     "output_type": "stream",
     "text": [
      "4134711838987085478833841242112000\n"
     ]
    }
   ],
   "source": [
    "print(get_product1(list1))"
   ]
  },
  {
   "cell_type": "markdown",
   "id": "f0111732",
   "metadata": {},
   "source": [
    "### Q2. Write a python program for encrypting a message sent to you by your friend. The logic of encryption                         should be such that, for a the output should be z. For b, the output should be y. For c, the output should be               x respectively. Also, the whitespace should be replaced with a dollar sign. Keep the punctuation marks                     unchanged.\n",
    "\n",
    "    Input Sentence: I want to become a Data Scientist.\n",
    "    Encrypt the above input sentence using the program you just created."
   ]
  },
  {
   "cell_type": "code",
   "execution_count": 35,
   "id": "e040b6af",
   "metadata": {},
   "outputs": [
    {
     "name": "stdout",
     "output_type": "stream",
     "text": [
      "R$dzmg$gl$yvxlnv$z$Wzgz$Hxrvmgrhg.\n"
     ]
    }
   ],
   "source": [
    "def encrypt_message(msg):\n",
    "    encrypted = \"\"\n",
    "    for ch in msg:\n",
    "        if ch.isalpha():\n",
    "            char_code = ord(ch.lower()) - ord('a')\n",
    "            opposite_code = 122 - char_code\n",
    "            opposite_char = chr(opposite_code)\n",
    "            if ch.isupper():\n",
    "                encrypted += opposite_char.upper()\n",
    "            else:\n",
    "                encrypted += opposite_char\n",
    "        elif ch == ' ':\n",
    "            encrypted += '$'\n",
    "        else:\n",
    "            encrypted += ch\n",
    "    return encrypted\n",
    "\n",
    "message = \"I want to become a Data Scientist.\"\n",
    "print(encrypt_message(message))"
   ]
  },
  {
   "cell_type": "code",
   "execution_count": null,
   "id": "c7f03c28",
   "metadata": {},
   "outputs": [],
   "source": []
  }
 ],
 "metadata": {
  "kernelspec": {
   "display_name": "Python 3 (ipykernel)",
   "language": "python",
   "name": "python3"
  },
  "language_info": {
   "codemirror_mode": {
    "name": "ipython",
    "version": 3
   },
   "file_extension": ".py",
   "mimetype": "text/x-python",
   "name": "python",
   "nbconvert_exporter": "python",
   "pygments_lexer": "ipython3",
   "version": "3.11.1"
  }
 },
 "nbformat": 4,
 "nbformat_minor": 5
}
