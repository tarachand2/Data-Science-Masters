{
 "cells": [
  {
   "cell_type": "markdown",
   "id": "cd3bf3fb",
   "metadata": {},
   "source": [
    "## Q1. Which function is used to open a file? What are the different modes of opening a file? Explain each mode of file opening."
   ]
  },
  {
   "cell_type": "markdown",
   "id": "5fbd9c44",
   "metadata": {},
   "source": [
    "**ANS:**\n",
    "\n",
    "   The function used to open a file in Python is `open()`.\n",
    "   \n",
    "   The different modes of opening a file are:\n",
    "\n",
    "1. **Read mode ('r')**: This is the default mode. It opens a file for reading. If the file does not exist, it will raise a FileNotFoundError exception.\n",
    "\n",
    "\n",
    "2. **Write mode ('w')**: This mode opens a file for writing. If the file does not exist, it will create a new file. If the file already exists, it will overwrite the existing file.\n",
    "\n",
    "\n",
    "3. **Append mode ('a')**: This mode opens a file for appending. If the file does not exist, it will create a new file. If the file already exists, it will append the new data to the end of the existing file.\n",
    "\n",
    "\n",
    "4. **Binary mode ('b')**: This mode is used for handling binary files such as images, videos, etc.\n",
    "\n",
    "\n",
    "5. **Text mode ('t')**: This mode is used for handling text files.\n",
    "\n",
    "\n",
    "6. **Read and write mode ('r+')**: This mode opens a file for both reading and writing.\n",
    "\n",
    "\n",
    "7. **Write and read mode ('w+')**: This mode opens a file for both reading and writing. If the file does not exist, it will create a new file. If the file already exists, it will overwrite the existing file.\n",
    "\n",
    "\n",
    "8. **Append and read mode ('a+')**: This mode opens a file for both reading and appending. If the file does not exist, it will create a new file. If the file already exists, it will append the new data to the end of the existing file and also allow reading from the file.\n",
    "\n",
    "\n",
    "In summary, each mode of file opening provides a different way of accessing and modifying a file. The choice of mode depends on the task at hand and the type of file being accessed."
   ]
  },
  {
   "cell_type": "markdown",
   "id": "eaf5baca",
   "metadata": {},
   "source": [
    "## Q2. Why close() function is used? Why is it important to close a file? in python"
   ]
  },
  {
   "cell_type": "markdown",
   "id": "6ad54876",
   "metadata": {},
   "source": [
    "**ANS:**\n",
    "\n",
    "The `close()` function is used in Python to close an opened file. It is important to close a file after it has been opened because:\n",
    "\n",
    "1. **Memory management**: When a file is opened, it takes up memory resources. If you don't close the file after you're done using it, the memory space remains occupied, which can lead to memory leaks and other performance issues.\n",
    "\n",
    "\n",
    "2. **Data loss prevention**: If you don't close a file after writing to it, some of the data you wrote to the file may not get saved. This is because some operating systems and file systems buffer data before writing it to disk. Closing the file ensures that all the data gets written to the disk.\n",
    "\n",
    "\n",
    "3. **File locking**: If you don't close a file after using it, the file may remain locked, preventing other processes or programs from accessing it. This can cause errors or even crashes.\n",
    "\n",
    "\n",
    "In summary, closing a file using the close() function is important to free up memory resources, prevent data loss, and release file locks. It is good practice to always close files after using them in Python."
   ]
  },
  {
   "cell_type": "markdown",
   "id": "68ca28ef",
   "metadata": {},
   "source": [
    "## Q3. Write a python program to create a text file. Write ‘I want to become a Data Scientist’ in that file. Then close the file. Open this file and read the content of the file."
   ]
  },
  {
   "cell_type": "markdown",
   "id": "aceb1dc1",
   "metadata": {},
   "source": [
    "**ANS:**\n",
    "\n",
    "    Here's a Python program to create a text file, write \"I want to become a Data Scientist\" in that file, close the file, and then open and read the contents of the file:"
   ]
  },
  {
   "cell_type": "code",
   "execution_count": 5,
   "id": "58e7c29b",
   "metadata": {},
   "outputs": [
    {
     "name": "stdout",
     "output_type": "stream",
     "text": [
      "I want to become a Data Scientist\n",
      "Hence, I started my journey to become Data Scientist with pwskills.\n"
     ]
    }
   ],
   "source": [
    "# create a new file in write mode\n",
    "file = open(\"data_scientist.txt\", \"w\")\n",
    "\n",
    "# write to the file\n",
    "file.write(\"I want to become a Data Scientist\\n\")\n",
    "file.write(\"Hence, I started my journey to become Data Scientist with pwskills.\")\n",
    "\n",
    "# close the file\n",
    "file.close()\n",
    "\n",
    "# open the file in read mode\n",
    "file = open(\"data_scientist.txt\", \"r\")\n",
    "\n",
    "# read the contents of the file\n",
    "contents = file.read()\n",
    "\n",
    "# close the file\n",
    "file.close()\n",
    "\n",
    "# printing contents\n",
    "print(contents)"
   ]
  },
  {
   "cell_type": "markdown",
   "id": "62f2fb0d",
   "metadata": {},
   "source": [
    "## Q4. Explain the following with python code: read(), readline() and readlines()."
   ]
  },
  {
   "cell_type": "markdown",
   "id": "69a666a6",
   "metadata": {},
   "source": [
    "**ANS:**\n",
    "    The `read()`, `readline()`, and `readlines()` are methods in Python used to read data from a file. Here's how each method works with example code:\n",
    "\n",
    "1. **`read()`**: This method reads the entire content of a file as a string.\n",
    "    "
   ]
  },
  {
   "cell_type": "code",
   "execution_count": 3,
   "id": "c3347f20",
   "metadata": {},
   "outputs": [
    {
     "name": "stdout",
     "output_type": "stream",
     "text": [
      "I want to become a Data Scientist\n"
     ]
    }
   ],
   "source": [
    "# Open the file in read mode\n",
    "file = open(\"data_scientist.txt\", \"r\")\n",
    "\n",
    "# Read the entire content of the file\n",
    "content = file.read()\n",
    "\n",
    "file.close()\n",
    "\n",
    "print(content)"
   ]
  },
  {
   "cell_type": "markdown",
   "id": "8d9d4aad",
   "metadata": {},
   "source": [
    "2. **`readline()`**: This method reads one line of a file at a time."
   ]
  },
  {
   "cell_type": "code",
   "execution_count": 8,
   "id": "4c6ad02d",
   "metadata": {},
   "outputs": [
    {
     "name": "stdout",
     "output_type": "stream",
     "text": [
      "I want to become a Data Scientist\n",
      "Hence, I started my journey to become Data Scientist with pwskills.\n"
     ]
    }
   ],
   "source": [
    "# Open the file in read mode\n",
    "file = open(\"data_scientist.txt\", \"r\")\n",
    "\n",
    "# Reading first line of the file\n",
    "line1 = file.readline()\n",
    "\n",
    "# Reading second line of the file\n",
    "line2 = file.readline()\n",
    "\n",
    "file.close()\n",
    "\n",
    "# Print the lines of the file\n",
    "print(line1,end='')\n",
    "print(line2)"
   ]
  },
  {
   "cell_type": "markdown",
   "id": "dd902d26",
   "metadata": {},
   "source": [
    "3. **`readlines()`**: This method reads all the lines of a file and returns them as a list."
   ]
  },
  {
   "cell_type": "code",
   "execution_count": 10,
   "id": "595f9345",
   "metadata": {},
   "outputs": [
    {
     "name": "stdout",
     "output_type": "stream",
     "text": [
      "['I want to become a Data Scientist\\n', 'Hence, I started my journey to become Data Scientist with pwskills.']\n"
     ]
    }
   ],
   "source": [
    "# Open the file in read mode\n",
    "file = open(\"data_scientist.txt\", \"r\")\n",
    "\n",
    "# Read all the lines of the file\n",
    "lines = file.readlines()\n",
    "\n",
    "file.close()\n",
    "\n",
    "# Print the lines of the file\n",
    "print(lines)"
   ]
  },
  {
   "cell_type": "markdown",
   "id": "1037f16c",
   "metadata": {},
   "source": [
    "## Q5. Explain why with statement is used with open(). What is the advantage of using with statement and open() together?"
   ]
  },
  {
   "cell_type": "markdown",
   "id": "635fa5f0",
   "metadata": {},
   "source": [
    "**ANS:**\n",
    "    \n",
    "   The with statement in Python is used to wrap the execution of a block of code with methods defined by a context manager. The `open()` function is a context manager in Python that allows you to open a file and returns a file object. The with statement is used with `open()` to automatically close the file after the block of code is executed.\n",
    "\n",
    "    Here's an example of using with and open() together:"
   ]
  },
  {
   "cell_type": "code",
   "execution_count": 11,
   "id": "4bc6d605",
   "metadata": {},
   "outputs": [
    {
     "name": "stdout",
     "output_type": "stream",
     "text": [
      "I want to become a Data Scientist\n",
      "Hence, I started my journey to become Data Scientist with pwskills.\n"
     ]
    }
   ],
   "source": [
    "# Open the file in read mode using with statement\n",
    "with open(\"data_scientist.txt\", \"r\") as file:\n",
    "    content = file.read()\n",
    "\n",
    "# The file is automatically closed after the block of code is executed\n",
    "print(content)\n"
   ]
  },
  {
   "cell_type": "markdown",
   "id": "5607d259",
   "metadata": {},
   "source": [
    "**Advantage:**\n",
    "\n",
    "1. The advantage of using with and open() together is that you don't have to worry about closing the file manually. \n",
    "\n",
    "2. The with statement automatically closes the file after the block of code is executed, even if there is an exception raised within the block. This ensures that the file is always closed properly, which can prevent data loss and other issues. \n",
    "\n",
    "3. Additionally, using with and open() together can make your code more concise and easier to read."
   ]
  },
  {
   "cell_type": "markdown",
   "id": "d617abc3",
   "metadata": {},
   "source": [
    "## Q6. Explain the write() and writelines() functions. Give a suitable example."
   ]
  },
  {
   "cell_type": "markdown",
   "id": "b8475867",
   "metadata": {},
   "source": [
    "**ANS:**\n",
    "\n",
    "`write()` and `writelines()` are methods in Python used to write data to a file. Here's how each method works with an example code:\n",
    "\n",
    "1. **`write()`**: This method writes a string to a file."
   ]
  },
  {
   "cell_type": "code",
   "execution_count": 12,
   "id": "d2440f66",
   "metadata": {},
   "outputs": [],
   "source": [
    "# Open the file in write mode\n",
    "file = open(\"data.txt\", \"w\")\n",
    "\n",
    "# Write a string to the file\n",
    "file.write(\"Hello, World!\\n\")\n",
    "\n",
    "file.close()"
   ]
  },
  {
   "cell_type": "markdown",
   "id": "b8343db4",
   "metadata": {},
   "source": [
    "2. **`writelines()`**: This method writes a list of strings to a file."
   ]
  },
  {
   "cell_type": "code",
   "execution_count": 14,
   "id": "8f9392b8",
   "metadata": {},
   "outputs": [],
   "source": [
    "# Open the file in write mode\n",
    "file = open(\"data.txt\", \"w\")\n",
    "\n",
    "# Write a list of strings to the file\n",
    "lines = [\"Hello, World!\\n\", \"I am learning Python.\\n\", \"This is my first program.\\n\"]\n",
    "file.writelines(lines)\n",
    "\n",
    "file.close()"
   ]
  },
  {
   "cell_type": "code",
   "execution_count": null,
   "id": "6682cfc3",
   "metadata": {},
   "outputs": [],
   "source": []
  }
 ],
 "metadata": {
  "kernelspec": {
   "display_name": "Python 3 (ipykernel)",
   "language": "python",
   "name": "python3"
  },
  "language_info": {
   "codemirror_mode": {
    "name": "ipython",
    "version": 3
   },
   "file_extension": ".py",
   "mimetype": "text/x-python",
   "name": "python",
   "nbconvert_exporter": "python",
   "pygments_lexer": "ipython3",
   "version": "3.11.1"
  }
 },
 "nbformat": 4,
 "nbformat_minor": 5
}
