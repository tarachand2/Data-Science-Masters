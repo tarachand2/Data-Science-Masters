{
 "cells": [
  {
   "cell_type": "markdown",
   "id": "5797c02f",
   "metadata": {},
   "source": [
    "## Q1. What is an exception in python? Write the difference between Exception and Syntax errors."
   ]
  },
  {
   "cell_type": "markdown",
   "id": "e89fb499",
   "metadata": {},
   "source": [
    "**ANS:**\n",
    "\n",
    "In Python, an exception is an error that occurs during the execution of a program. When an error occurs, an exception is raised, which stops the normal flow of the program and displays an error message to the user.\n",
    "\n",
    "**Difference Between Exception and Syntax Errors**\n",
    "1. Exceptions can occur for a variety of reasons, such as invalid input, a file not found, or a divide-by-zero error. However, exceptions can be caught and handled in Python, allowing programs to recover from errors and continue executing.\n",
    "\n",
    "2. Syntax errors, on the other hand, occur when the Python interpreter is unable to parse the code because of a mistake in the syntax. These errors are typically caused by missing or incorrect syntax elements, such as missing parentheses, semicolons, or colons. Unlike exceptions, syntax errors are detected by the interpreter before the program is executed, and they must be fixed before the program can run."
   ]
  },
  {
   "cell_type": "markdown",
   "id": "d41496b5",
   "metadata": {},
   "source": [
    "## Q2. What happens when an exception is not handled? Explain with an example."
   ]
  },
  {
   "cell_type": "markdown",
   "id": "13e38fbc",
   "metadata": {},
   "source": [
    "**ANS:**\n",
    "    \n",
    "When an exception is not handled in Python, the program will terminate with an error message that displays the exception type, message, and traceback. The error message will provide information about where the exception occurred in the code and what caused it.\n",
    "\n",
    "Here's an example to demonstrate what happens when an exception is not handled:"
   ]
  },
  {
   "cell_type": "code",
   "execution_count": 1,
   "id": "1c84574e",
   "metadata": {},
   "outputs": [
    {
     "ename": "ZeroDivisionError",
     "evalue": "division by zero",
     "output_type": "error",
     "traceback": [
      "\u001b[1;31m---------------------------------------------------------------------------\u001b[0m",
      "\u001b[1;31mZeroDivisionError\u001b[0m                         Traceback (most recent call last)",
      "Cell \u001b[1;32mIn[1], line 4\u001b[0m\n\u001b[0;32m      2\u001b[0m numerator \u001b[38;5;241m=\u001b[39m \u001b[38;5;241m10\u001b[39m\n\u001b[0;32m      3\u001b[0m denominator \u001b[38;5;241m=\u001b[39m \u001b[38;5;241m0\u001b[39m\n\u001b[1;32m----> 4\u001b[0m result \u001b[38;5;241m=\u001b[39m \u001b[43mnumerator\u001b[49m\u001b[43m \u001b[49m\u001b[38;5;241;43m/\u001b[39;49m\u001b[43m \u001b[49m\u001b[43mdenominator\u001b[49m\n\u001b[0;32m      5\u001b[0m \u001b[38;5;28mprint\u001b[39m(result)\n",
      "\u001b[1;31mZeroDivisionError\u001b[0m: division by zero"
     ]
    }
   ],
   "source": [
    "# Example: Divide by zero error\n",
    "numerator = 10\n",
    "denominator = 0\n",
    "result = numerator / denominator\n",
    "print(result)"
   ]
  },
  {
   "cell_type": "markdown",
   "id": "408b1f59",
   "metadata": {},
   "source": [
    "## Q3. Which Python statements are used to catch and handle exceptions? Explain with an example."
   ]
  },
  {
   "cell_type": "markdown",
   "id": "6af18baf",
   "metadata": {},
   "source": [
    "**ANS:**\n",
    "    \n",
    "In Python, the `try` and `except` statements are used to catch and handle exceptions. The try block contains the code that might raise an exception, and the except block contains the code that handles the exception if it occurs.\n",
    "\n",
    "Here's an example to demonstrate how to use `try` and `except` statements to catch and handle an exception:"
   ]
  },
  {
   "cell_type": "code",
   "execution_count": 2,
   "id": "49882454",
   "metadata": {},
   "outputs": [
    {
     "name": "stdout",
     "output_type": "stream",
     "text": [
      "Error: Cannot divide by zero\n"
     ]
    }
   ],
   "source": [
    "# Example: Catching a ZeroDivisionError exception\n",
    "numerator = 10\n",
    "denominator = 0\n",
    "\n",
    "try:\n",
    "    result = numerator / denominator\n",
    "    print(result)\n",
    "except ZeroDivisionError:\n",
    "    print(\"Error: Cannot divide by zero\")"
   ]
  },
  {
   "cell_type": "markdown",
   "id": "b9b744b3",
   "metadata": {},
   "source": [
    "In this example, we're trying to divide the numerator by denominator, but denominator is set to zero. This will raise a `ZeroDivisionError` exception.\n",
    "\n",
    "To catch and handle this exception, we've placed the code that might raise the exception inside a `try` block. If an exception occurs, the code in the `tr`y block is immediately terminated, and the program jumps to the `except` block to handle the exception.\n",
    "\n",
    "In the except block, we're printing a custom error message to the user that indicates that the division cannot be performed because of the zero denominator."
   ]
  },
  {
   "cell_type": "markdown",
   "id": "77d14cef",
   "metadata": {},
   "source": [
    "## Q4. Explain with an example:\n",
    "    \n",
    "    a. try and else\n",
    "    b. finally\n",
    "    c. raise"
   ]
  },
  {
   "cell_type": "markdown",
   "id": "c9c4e44a",
   "metadata": {},
   "source": [
    "**ANS:**\n",
    "\n",
    "1. **`try and else`**: \n",
    "try and else statements in Python are used to execute a block of code if no exception is raised in the try block. The else block is executed after the try block if no exceptions occur. Here's an example:"
   ]
  },
  {
   "cell_type": "code",
   "execution_count": 4,
   "id": "149cf78d",
   "metadata": {},
   "outputs": [
    {
     "name": "stdout",
     "output_type": "stream",
     "text": [
      "The result is: 5.0\n"
     ]
    }
   ],
   "source": [
    "# Example: Using try-else to handle exceptions\n",
    "try:\n",
    "    numerator = 10\n",
    "    denominator = 2\n",
    "    result = numerator / denominator\n",
    "except ZeroDivisionError:\n",
    "    print(\"Error: Cannot divide by zero\")\n",
    "else:\n",
    "    print(\"The result is:\", result)"
   ]
  },
  {
   "cell_type": "markdown",
   "id": "733dd2bb",
   "metadata": {},
   "source": [
    "    In this example, we're trying to divide the numerator by denominator. If a ZeroDivisionError exception occurs, the code inside the except block will be executed, and a custom error message will be displayed to the user. Otherwise, if no exceptions occur, the code inside the else block will be executed, and the result will be printed to the user."
   ]
  },
  {
   "cell_type": "markdown",
   "id": "5b3e937e",
   "metadata": {},
   "source": [
    "2. **`finally`**:\n",
    "The finally statement in Python is used to execute a block of code after the try and except blocks, regardless of whether an exception occurred or not. Here's an example:"
   ]
  },
  {
   "cell_type": "code",
   "execution_count": 5,
   "id": "766b256c",
   "metadata": {},
   "outputs": [
    {
     "name": "stdout",
     "output_type": "stream",
     "text": [
      "Error: Cannot divide by zero\n",
      "This code will always be executed\n"
     ]
    }
   ],
   "source": [
    "# Example: Using try-except-finally to handle exceptions\n",
    "try:\n",
    "    numerator = 10\n",
    "    denominator = 0\n",
    "    result = numerator / denominator\n",
    "except ZeroDivisionError:\n",
    "    print(\"Error: Cannot divide by zero\")\n",
    "finally:\n",
    "    print(\"This code will always be executed\")"
   ]
  },
  {
   "cell_type": "code",
   "execution_count": null,
   "id": "a05ad918",
   "metadata": {},
   "outputs": [],
   "source": []
  },
  {
   "cell_type": "markdown",
   "id": "2d0470c5",
   "metadata": {},
   "source": [
    "    In this example, we're trying to divide the numerator by denominator. Since denominator is set to zero, a ZeroDivisionError exception will occur, and the code inside the except block will be executed. However, regardless of whether an exception occurs or not, the code inside the finally block will always be executed."
   ]
  },
  {
   "cell_type": "markdown",
   "id": "91f8ee9f",
   "metadata": {},
   "source": [
    "3. **`raise`**: The raise statement in Python is used to manually raise an exception. Here's an example:"
   ]
  },
  {
   "cell_type": "code",
   "execution_count": 7,
   "id": "2d422531",
   "metadata": {},
   "outputs": [
    {
     "ename": "ZeroDivisionError",
     "evalue": "Cannot divide by zero",
     "output_type": "error",
     "traceback": [
      "\u001b[1;31m---------------------------------------------------------------------------\u001b[0m",
      "\u001b[1;31mZeroDivisionError\u001b[0m                         Traceback (most recent call last)",
      "Cell \u001b[1;32mIn[7], line 8\u001b[0m\n\u001b[0;32m      5\u001b[0m     \u001b[38;5;28;01melse\u001b[39;00m:\n\u001b[0;32m      6\u001b[0m         \u001b[38;5;28;01mreturn\u001b[39;00m numerator \u001b[38;5;241m/\u001b[39m denominator\n\u001b[1;32m----> 8\u001b[0m result \u001b[38;5;241m=\u001b[39m \u001b[43mdivide_numbers\u001b[49m\u001b[43m(\u001b[49m\u001b[38;5;241;43m10\u001b[39;49m\u001b[43m,\u001b[49m\u001b[43m \u001b[49m\u001b[38;5;241;43m0\u001b[39;49m\u001b[43m)\u001b[49m\n\u001b[0;32m      9\u001b[0m \u001b[38;5;28mprint\u001b[39m(result)\n",
      "Cell \u001b[1;32mIn[7], line 4\u001b[0m, in \u001b[0;36mdivide_numbers\u001b[1;34m(numerator, denominator)\u001b[0m\n\u001b[0;32m      2\u001b[0m \u001b[38;5;28;01mdef\u001b[39;00m \u001b[38;5;21mdivide_numbers\u001b[39m(numerator, denominator):\n\u001b[0;32m      3\u001b[0m     \u001b[38;5;28;01mif\u001b[39;00m denominator \u001b[38;5;241m==\u001b[39m \u001b[38;5;241m0\u001b[39m:\n\u001b[1;32m----> 4\u001b[0m         \u001b[38;5;28;01mraise\u001b[39;00m \u001b[38;5;167;01mZeroDivisionError\u001b[39;00m(\u001b[38;5;124m\"\u001b[39m\u001b[38;5;124mCannot divide by zero\u001b[39m\u001b[38;5;124m\"\u001b[39m)\n\u001b[0;32m      5\u001b[0m     \u001b[38;5;28;01melse\u001b[39;00m:\n\u001b[0;32m      6\u001b[0m         \u001b[38;5;28;01mreturn\u001b[39;00m numerator \u001b[38;5;241m/\u001b[39m denominator\n",
      "\u001b[1;31mZeroDivisionError\u001b[0m: Cannot divide by zero"
     ]
    }
   ],
   "source": [
    "# Example: Raising an exception with raise statement\n",
    "def divide_numbers(numerator, denominator):\n",
    "    if denominator == 0:\n",
    "        raise ZeroDivisionError(\"Cannot divide by zero\")\n",
    "    else:\n",
    "        return numerator / denominator\n",
    "\n",
    "result = divide_numbers(10, 0)\n",
    "print(result)"
   ]
  },
  {
   "cell_type": "markdown",
   "id": "9994a75a",
   "metadata": {},
   "source": [
    "## Q5. What are custom Exception in python? Why do we need custom exceptions? Explain with an example"
   ]
  },
  {
   "cell_type": "markdown",
   "id": "aad13888",
   "metadata": {},
   "source": [
    "**ANS:** \n",
    "    \n",
    "Custom exceptions in Python are user-defined exceptions that allow developers to define their own exception types. We use custom exceptions to handle specific errors that may not be covered by the built-in exception types.\n",
    "\n",
    "Here's an example of creating a custom exception in Python:"
   ]
  },
  {
   "cell_type": "code",
   "execution_count": 8,
   "id": "9e134360",
   "metadata": {},
   "outputs": [
    {
     "name": "stdout",
     "output_type": "stream",
     "text": [
      "Username is valid\n"
     ]
    },
    {
     "ename": "InvalidUsernameError",
     "evalue": "Username must be at least 5 characters long",
     "output_type": "error",
     "traceback": [
      "\u001b[1;31m---------------------------------------------------------------------------\u001b[0m",
      "\u001b[1;31mInvalidUsernameError\u001b[0m                      Traceback (most recent call last)",
      "Cell \u001b[1;32mIn[8], line 12\u001b[0m\n\u001b[0;32m      9\u001b[0m         \u001b[38;5;28mprint\u001b[39m(\u001b[38;5;124m\"\u001b[39m\u001b[38;5;124mUsername is valid\u001b[39m\u001b[38;5;124m\"\u001b[39m)\n\u001b[0;32m     11\u001b[0m check_username(\u001b[38;5;124m\"\u001b[39m\u001b[38;5;124mjohndoe\u001b[39m\u001b[38;5;124m\"\u001b[39m)\n\u001b[1;32m---> 12\u001b[0m \u001b[43mcheck_username\u001b[49m\u001b[43m(\u001b[49m\u001b[38;5;124;43m\"\u001b[39;49m\u001b[38;5;124;43mjoe\u001b[39;49m\u001b[38;5;124;43m\"\u001b[39;49m\u001b[43m)\u001b[49m\n",
      "Cell \u001b[1;32mIn[8], line 7\u001b[0m, in \u001b[0;36mcheck_username\u001b[1;34m(username)\u001b[0m\n\u001b[0;32m      5\u001b[0m \u001b[38;5;28;01mdef\u001b[39;00m \u001b[38;5;21mcheck_username\u001b[39m(username):\n\u001b[0;32m      6\u001b[0m     \u001b[38;5;28;01mif\u001b[39;00m \u001b[38;5;28mlen\u001b[39m(username) \u001b[38;5;241m<\u001b[39m \u001b[38;5;241m5\u001b[39m:\n\u001b[1;32m----> 7\u001b[0m         \u001b[38;5;28;01mraise\u001b[39;00m InvalidUsernameError(\u001b[38;5;124m\"\u001b[39m\u001b[38;5;124mUsername must be at least 5 characters long\u001b[39m\u001b[38;5;124m\"\u001b[39m)\n\u001b[0;32m      8\u001b[0m     \u001b[38;5;28;01melse\u001b[39;00m:\n\u001b[0;32m      9\u001b[0m         \u001b[38;5;28mprint\u001b[39m(\u001b[38;5;124m\"\u001b[39m\u001b[38;5;124mUsername is valid\u001b[39m\u001b[38;5;124m\"\u001b[39m)\n",
      "\u001b[1;31mInvalidUsernameError\u001b[0m: Username must be at least 5 characters long"
     ]
    }
   ],
   "source": [
    "# Example: Creating a custom exception\n",
    "class InvalidUsernameError(Exception):\n",
    "    pass\n",
    "\n",
    "def check_username(username):\n",
    "    if len(username) < 5:\n",
    "        raise InvalidUsernameError(\"Username must be at least 5 characters long\")\n",
    "    else:\n",
    "        print(\"Username is valid\")\n",
    "\n",
    "check_username(\"johndoe\")\n",
    "check_username(\"joe\")"
   ]
  },
  {
   "cell_type": "markdown",
   "id": "183ecfba",
   "metadata": {},
   "source": [
    "## Q6. Create a custom exception class. Use this class to handle an exception"
   ]
  },
  {
   "cell_type": "markdown",
   "id": "adf55d0c",
   "metadata": {},
   "source": [
    "**ANS:**\n",
    "    \n",
    "    Here's an example of creating a custom exception class and using it to handle an exception:"
   ]
  }
 ],
 "metadata": {
  "kernelspec": {
   "display_name": "Python 3 (ipykernel)",
   "language": "python",
   "name": "python3"
  },
  "language_info": {
   "codemirror_mode": {
    "name": "ipython",
    "version": 3
   },
   "file_extension": ".py",
   "mimetype": "text/x-python",
   "name": "python",
   "nbconvert_exporter": "python",
   "pygments_lexer": "ipython3",
   "version": "3.11.1"
  }
 },
 "nbformat": 4,
 "nbformat_minor": 5
}
