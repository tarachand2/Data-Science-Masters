{
 "cells": [
  {
   "cell_type": "markdown",
   "id": "490de76d",
   "metadata": {},
   "source": [
    "### Q1. You are writing code for a company. The requirement of the company is that you create a python function that will check whether the password entered by the user is correct or not. The function should take the password as input and return the string “Valid Password” if the entered password follows the below-given password guidelines else it should return “Invalid Password”.\n",
    "\n",
    "Note: \n",
    "1. The Password should contain at least two uppercase letters and at least two lowercase letters.\n",
    "2. The Password should contain at least a number and three special characters.\n",
    "3. The length of the password should be 10 characters long."
   ]
  },
  {
   "cell_type": "markdown",
   "id": "9c65870d",
   "metadata": {},
   "source": [
    "**ANS:**\n",
    "        \n",
    "    Here's a function that checks whether the password entered by the user is correct or not:"
   ]
  },
  {
   "cell_type": "code",
   "execution_count": 33,
   "id": "c06fc927",
   "metadata": {},
   "outputs": [],
   "source": [
    "def validate_password(password):\n",
    "    if len(password) < 10:\n",
    "        return \"Invalid Password\"\n",
    "    else:\n",
    "        upper_char_count = 0\n",
    "        lower_char_count = 0\n",
    "        numeric_count = 0\n",
    "        special_char_count = 0\n",
    "        \n",
    "        for char in password:\n",
    "            if char.isnumeric():\n",
    "                numeric_count += 1\n",
    "            elif char.isupper():\n",
    "                upper_char_count += 1\n",
    "            elif char.islower():\n",
    "                lower_char_count += 1\n",
    "            elif not char.isalnum():\n",
    "                special_char_count += 1\n",
    "        \n",
    "        if (upper_char_count >=2 and lower_char_count >= 2 and numeric_count >= 1 and special_char_count >= 3):\n",
    "            return \"Valid Password\"\n",
    "        else:\n",
    "            return \"Invalid Password\""
   ]
  },
  {
   "cell_type": "code",
   "execution_count": 34,
   "id": "8f32d7a7",
   "metadata": {},
   "outputs": [],
   "source": [
    "def check_pass():\n",
    "    password = input(\"Enter your password: \".)\n",
    "    return validate_password(password)"
   ]
  },
  {
   "cell_type": "code",
   "execution_count": 35,
   "id": "a516c12d",
   "metadata": {},
   "outputs": [
    {
     "name": "stdout",
     "output_type": "stream",
     "text": [
      "Enter your password: TusharK@*%1\n"
     ]
    },
    {
     "data": {
      "text/plain": [
       "'Valid Password'"
      ]
     },
     "execution_count": 35,
     "metadata": {},
     "output_type": "execute_result"
    }
   ],
   "source": [
    "check_pass()"
   ]
  },
  {
   "cell_type": "code",
   "execution_count": 38,
   "id": "66141c0e",
   "metadata": {},
   "outputs": [
    {
     "name": "stdout",
     "output_type": "stream",
     "text": [
      "Enter your password: Tarachand@123\n"
     ]
    },
    {
     "data": {
      "text/plain": [
       "'Invalid Password'"
      ]
     },
     "execution_count": 38,
     "metadata": {},
     "output_type": "execute_result"
    }
   ],
   "source": [
    "check_pass()"
   ]
  },
  {
   "cell_type": "markdown",
   "id": "b509f42e",
   "metadata": {},
   "source": [
    "### Q2. Solve the below-given questions using at least one of the following:\n",
    "1. Lambda function\n",
    "2. Filter function\n",
    "3. Zap function\n",
    "4. List Comprehension"
   ]
  },
  {
   "cell_type": "markdown",
   "id": "0767ce5f",
   "metadata": {},
   "source": [
    "**1. Check if the string starts with a particular letter.**"
   ]
  },
  {
   "cell_type": "code",
   "execution_count": 72,
   "id": "25505513",
   "metadata": {},
   "outputs": [
    {
     "name": "stdout",
     "output_type": "stream",
     "text": [
      "False\n",
      "True\n"
     ]
    }
   ],
   "source": [
    "# Using lambda function\n",
    "check_str = lambda string, letter : string.startswith(letter)\n",
    "\n",
    "print(check_str(\"myName\", \"s\"))\n",
    "print(check_str(\"Tarachand\", \"T\"))"
   ]
  },
  {
   "cell_type": "markdown",
   "id": "173b56d3",
   "metadata": {},
   "source": [
    "**2. Check if the string is numeric.**"
   ]
  },
  {
   "cell_type": "code",
   "execution_count": 46,
   "id": "0b632950",
   "metadata": {},
   "outputs": [
    {
     "name": "stdout",
     "output_type": "stream",
     "text": [
      "False\n",
      "True\n"
     ]
    }
   ],
   "source": [
    "# using lambda function\n",
    "check_numeric = lambda x : x.isnumeric() == True\n",
    "\n",
    "print(check_numeric(\"1234ij\"))\n",
    "print(check_numeric(\"12324\"))"
   ]
  },
  {
   "cell_type": "markdown",
   "id": "108dd307",
   "metadata": {},
   "source": [
    "**3. Sort a list of tuples having fruit names and their quantity.** \n",
    "    \n",
    "    [(\"mango\",99),(\"orange\",80), (\"grapes\", 1000)]"
   ]
  },
  {
   "cell_type": "code",
   "execution_count": 50,
   "id": "a913f053",
   "metadata": {},
   "outputs": [
    {
     "name": "stdout",
     "output_type": "stream",
     "text": [
      "[('orange', 80), ('mango', 99), ('grapes', 1000)]\n"
     ]
    }
   ],
   "source": [
    "lst = [(\"mango\",99),(\"orange\",80), (\"grapes\", 1000)]\n",
    "\n",
    "# using lambda funtion\n",
    "lst.sort(key= lambda x : x[1])\n",
    "\n",
    "print(lst)"
   ]
  },
  {
   "cell_type": "markdown",
   "id": "ef027a0a",
   "metadata": {},
   "source": [
    "    Here we are sorting list of fruits based on their quantity"
   ]
  },
  {
   "cell_type": "markdown",
   "id": "357ef1b7",
   "metadata": {},
   "source": [
    "**4. Find the squares of numbers from 1 to 10**"
   ]
  },
  {
   "cell_type": "code",
   "execution_count": 60,
   "id": "f0fec2bd",
   "metadata": {},
   "outputs": [
    {
     "name": "stdout",
     "output_type": "stream",
     "text": [
      "Output list: [1, 4, 9, 16, 25, 36, 49, 64, 81, 100]\n"
     ]
    }
   ],
   "source": [
    "# using list comprehension\n",
    "squared_list = [num**2 for num in range(1, 11)]\n",
    "\n",
    "print(\"Output list:\",squared_list)"
   ]
  },
  {
   "cell_type": "markdown",
   "id": "9c41a095",
   "metadata": {},
   "source": [
    "**5. Find the cube root of numbers from 1 to 10**"
   ]
  },
  {
   "cell_type": "code",
   "execution_count": 61,
   "id": "82db28c9",
   "metadata": {},
   "outputs": [
    {
     "name": "stdout",
     "output_type": "stream",
     "text": [
      "Output list: [1.0, 1.2599210498948732, 1.4422495703074083, 1.5874010519681994, 1.7099759466766968, 1.8171205928321397, 1.912931182772389, 2.0, 2.080083823051904, 2.154434690031884]\n"
     ]
    }
   ],
   "source": [
    "# using list comprehension\n",
    "cube_root_list = [num ** (1/3) for num in range(1, 11)]\n",
    "\n",
    "print(\"Output list:\",cube_root_list)"
   ]
  },
  {
   "cell_type": "markdown",
   "id": "e3cddabb",
   "metadata": {},
   "source": [
    "**6. Check if a given number is even**"
   ]
  },
  {
   "cell_type": "code",
   "execution_count": 63,
   "id": "7ca0c176",
   "metadata": {},
   "outputs": [
    {
     "name": "stdout",
     "output_type": "stream",
     "text": [
      "False\n",
      "True\n"
     ]
    }
   ],
   "source": [
    "# using lambda function\n",
    "is_even = lambda x : x%2 == 0\n",
    "\n",
    "print(is_even(5))\n",
    "print(is_even(8))"
   ]
  },
  {
   "cell_type": "markdown",
   "id": "7639ee50",
   "metadata": {},
   "source": [
    "**7. Filter odd numbers from the given list.**\n",
    "    \n",
    "    [1,2,3,4,5,6,7,8,9,10]"
   ]
  },
  {
   "cell_type": "code",
   "execution_count": 65,
   "id": "45a3c7f0",
   "metadata": {},
   "outputs": [
    {
     "name": "stdout",
     "output_type": "stream",
     "text": [
      "[1, 3, 5, 7, 9]\n"
     ]
    }
   ],
   "source": [
    "lst = [1, 2, 3, 4, 5, 6, 7, 8, 9, 10]\n",
    "\n",
    "is_odd = lambda x : x%2 != 0\n",
    "\n",
    "filtered_list = list(filter(is_odd, lst))\n",
    "\n",
    "print(filtered_list)"
   ]
  },
  {
   "cell_type": "markdown",
   "id": "2350f8e0",
   "metadata": {},
   "source": [
    "**8. Sort a list of integers into positive and negative integers lists.**\n",
    "    \n",
    "    [1,2,3,4,5,6,-1,-2,-3,-4,-5,0]"
   ]
  },
  {
   "cell_type": "code",
   "execution_count": 68,
   "id": "4c23d7c4",
   "metadata": {},
   "outputs": [
    {
     "name": "stdout",
     "output_type": "stream",
     "text": [
      "[1, 2, 3, 4, 5, 6]\n",
      "[-1, -2, -3, -4, -5]\n"
     ]
    }
   ],
   "source": [
    "lst = [1, 2, 3, 4, 5, 6, -1, -2, -3, -4, -5, 0]\n",
    "\n",
    "# using list comprehension\n",
    "positive_num_list = [num for num in lst if num > 0]\n",
    "negative_num_list = [num for num in lst if num < 0]\n",
    "\n",
    "print(positive_num_list)\n",
    "print(negative_num_list)"
   ]
  },
  {
   "cell_type": "markdown",
   "id": "cd348276",
   "metadata": {},
   "source": [
    "**Alternative approach using `lambda` and `filter()` function:**"
   ]
  },
  {
   "cell_type": "code",
   "execution_count": 69,
   "id": "4f3141ea",
   "metadata": {},
   "outputs": [
    {
     "name": "stdout",
     "output_type": "stream",
     "text": [
      "[1, 2, 3, 4, 5, 6]\n",
      "[-1, -2, -3, -4, -5]\n"
     ]
    }
   ],
   "source": [
    "lst = [1, 2, 3, 4, 5, 6, -1, -2, -3, -4, -5, 0]\n",
    "\n",
    "is_positive = lambda x : x > 0\n",
    "is_negative = lambda x : x < 0\n",
    "\n",
    "positive_num_list = list(filter(is_positive, lst))\n",
    "negative_num_list = list(filter(is_negative, lst))\n",
    "\n",
    "print(positive_num_list)\n",
    "print(negative_num_list)"
   ]
  },
  {
   "cell_type": "code",
   "execution_count": null,
   "id": "10318c33",
   "metadata": {},
   "outputs": [],
   "source": []
  }
 ],
 "metadata": {
  "kernelspec": {
   "display_name": "Python 3 (ipykernel)",
   "language": "python",
   "name": "python3"
  },
  "language_info": {
   "codemirror_mode": {
    "name": "ipython",
    "version": 3
   },
   "file_extension": ".py",
   "mimetype": "text/x-python",
   "name": "python",
   "nbconvert_exporter": "python",
   "pygments_lexer": "ipython3",
   "version": "3.11.1"
  }
 },
 "nbformat": 4,
 "nbformat_minor": 5
}
