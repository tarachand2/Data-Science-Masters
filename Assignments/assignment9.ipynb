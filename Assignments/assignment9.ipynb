{
 "cells": [
  {
   "cell_type": "markdown",
   "id": "75f6f8ef",
   "metadata": {},
   "source": [
    "### Q1, Create a vehicle class with an init method having instance variables as name_of_vehicle, max_speed and average_of_vehicle."
   ]
  },
  {
   "cell_type": "markdown",
   "id": "b7609d27",
   "metadata": {},
   "source": [
    "**ANS:** \n",
    "    \n",
    "    Here is a vehicle class with an init method having instance variables\n",
    "    1. name_of_vehicle\n",
    "    2. max_speed\n",
    "    3. average_of_vehicle"
   ]
  },
  {
   "cell_type": "code",
   "execution_count": 8,
   "id": "06ff3bae",
   "metadata": {},
   "outputs": [],
   "source": [
    "class Vehicle:\n",
    "    def __init__(self, name_of_vehicle, max_speed, average_of_vehicle):\n",
    "        self.name_of_vehicle = name_of_vehicle\n",
    "        self.max_speed = max_speed\n",
    "        self.average_of_vehicle = average_of_vehicle\n"
   ]
  },
  {
   "cell_type": "markdown",
   "id": "2c594274",
   "metadata": {},
   "source": [
    "### Q2. Create a child class car from the vehicle class created in Que 1, which will inherit the vehicle class. Create a method named seating_capacity which takes capacity as an argument and returns the name of the vehicle and its seating capacity."
   ]
  },
  {
   "cell_type": "markdown",
   "id": "73dc7fd0",
   "metadata": {},
   "source": [
    "**ANS:**\n",
    "\n",
    "    Here's an example implementation in Python:"
   ]
  },
  {
   "cell_type": "code",
   "execution_count": 12,
   "id": "1dd2ea43",
   "metadata": {},
   "outputs": [
    {
     "data": {
      "text/plain": [
       "'Toyota has seating capacity of 4 passengers.'"
      ]
     },
     "execution_count": 12,
     "metadata": {},
     "output_type": "execute_result"
    }
   ],
   "source": [
    "class Car(Vehicle):\n",
    "    def seating_capacity(self, capacity):\n",
    "        return f\"{self.name_of_vehicle} has seating capacity of {capacity} passengers.\"\n",
    "\n",
    "\n",
    "car_obj = Car(\"Toyota\", 120, 56)\n",
    "car_obj.seating_capacity(4)"
   ]
  },
  {
   "cell_type": "markdown",
   "id": "03063117",
   "metadata": {},
   "source": [
    "### Q3. What is multiple inheritance? Write a python code to demonstrate multiple inheritance."
   ]
  },
  {
   "cell_type": "markdown",
   "id": "acdfce7d",
   "metadata": {},
   "source": [
    "**ANS:** \n",
    "    \n",
    "        Multiple inheritance is a feature in object-oriented programming where a subclass can inherit attributes and methods from multiple parent classes.\n",
    "        \n",
    "        Here's an example Python code that demonstrates multiple inheritance:"
   ]
  },
  {
   "cell_type": "code",
   "execution_count": 10,
   "id": "aaff98c3",
   "metadata": {},
   "outputs": [
    {
     "name": "stdout",
     "output_type": "stream",
     "text": [
      "Perry is giving birth to live young\n",
      "Perry is laying eggs\n",
      "Platypuses don't really speak, they just make weird noises\n"
     ]
    }
   ],
   "source": [
    "class Animal:\n",
    "    def __init__(self, name):\n",
    "        self.name = name\n",
    "\n",
    "    def speak(self):\n",
    "        raise NotImplementedError(\"Subclass must implement abstract method\")\n",
    "\n",
    "class Mammal(Animal):\n",
    "    def give_birth(self):\n",
    "        print(f\"{self.name} is giving birth to live young\")\n",
    "\n",
    "class Bird(Animal):\n",
    "    def lay_eggs(self):\n",
    "        print(f\"{self.name} is laying eggs\")\n",
    "\n",
    "class Platypus(Mammal, Bird):\n",
    "    def __init__(self, name):\n",
    "        super().__init__(name)\n",
    "\n",
    "    def speak(self):\n",
    "        print(\"Platypuses don't really speak, they just make weird noises\")\n",
    "\n",
    "perry = Platypus(\"Perry\")\n",
    "perry.give_birth()\n",
    "perry.lay_eggs()\n",
    "perry.speak()\n"
   ]
  },
  {
   "cell_type": "markdown",
   "id": "8754bc4e",
   "metadata": {},
   "source": [
    "### Q4. What are getter and setter in python? Create a class and create a getter and a setter method in this class."
   ]
  },
  {
   "cell_type": "markdown",
   "id": "9a23c91d",
   "metadata": {},
   "source": [
    "**ANS:** \n",
    "    \n",
    "    In Python, getter and setter methods are used to retrieve and update the values of private instance variables of a class, respectively. Getters and setters are used to control the access to the variables, ensuring that they are set and retrieved in a consistent manner.\n",
    "\n",
    "    Here's an example class with a private instance variable name and its getter and setter methods:"
   ]
  },
  {
   "cell_type": "code",
   "execution_count": 6,
   "id": "63b73af5",
   "metadata": {},
   "outputs": [],
   "source": [
    "class Person:\n",
    "    def __init__(self, name):\n",
    "        self.__name = name\n",
    "    \n",
    "    # getter method to get person_name\n",
    "    def get_name(self):\n",
    "        return self.__name\n",
    "    \n",
    "    # Setter method to set person_name\n",
    "    def set_name(self, new_name):\n",
    "        self.__name = new_name"
   ]
  },
  {
   "cell_type": "markdown",
   "id": "ea902eb5",
   "metadata": {},
   "source": [
    "### Q5.What is method overriding in python? Write a python code to demonstrate method overriding."
   ]
  },
  {
   "cell_type": "markdown",
   "id": "257eeb62",
   "metadata": {},
   "source": [
    "**ANS:** \n",
    "\n",
    "    Method overriding is a feature in object-oriented programming that allows a subclass to provide a different implementation for a method that is already defined in its superclass. When the method is called on an object of the subclass, the overridden implementation is called instead of the implementation provided by the superclass.\n",
    "\n",
    "    Here's an example code demonstrating method overriding in Python"
   ]
  },
  {
   "cell_type": "code",
   "execution_count": 7,
   "id": "127ce42f",
   "metadata": {},
   "outputs": [
    {
     "name": "stdout",
     "output_type": "stream",
     "text": [
      "Bark\n",
      "Meow\n"
     ]
    }
   ],
   "source": [
    "class Animal:\n",
    "    def make_sound(self):\n",
    "        print(\"Generic animal sound\")\n",
    "        \n",
    "class Dog(Animal):\n",
    "    # Overriding method\n",
    "    def make_sound(self):\n",
    "        print(\"Bark\")\n",
    "        \n",
    "class Cat(Animal):\n",
    "    # Overriding method\n",
    "    def make_sound(self):\n",
    "        print(\"Meow\")\n",
    "        \n",
    "        \n",
    "dog = Dog()\n",
    "dog.make_sound()   \n",
    "\n",
    "cat = Cat()\n",
    "cat.make_sound()    \n"
   ]
  },
  {
   "cell_type": "code",
   "execution_count": null,
   "id": "f367563a",
   "metadata": {},
   "outputs": [],
   "source": []
  }
 ],
 "metadata": {
  "kernelspec": {
   "display_name": "Python 3 (ipykernel)",
   "language": "python",
   "name": "python3"
  },
  "language_info": {
   "codemirror_mode": {
    "name": "ipython",
    "version": 3
   },
   "file_extension": ".py",
   "mimetype": "text/x-python",
   "name": "python",
   "nbconvert_exporter": "python",
   "pygments_lexer": "ipython3",
   "version": "3.11.1"
  }
 },
 "nbformat": 4,
 "nbformat_minor": 5
}
