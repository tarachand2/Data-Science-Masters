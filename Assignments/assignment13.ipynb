{
 "cells": [
  {
   "cell_type": "markdown",
   "source": [
    "## Q1. What is multithreading in python? Why is it used? Name the module used to handle threads in python"
   ],
   "metadata": {
    "collapsed": false
   }
  },
  {
   "cell_type": "markdown",
   "source": [
    "**ANS:**\n",
    "\n",
    "1. **What is multithreading in python** :\n",
    "Multithreading is a technique in which multiple threads of execution are created within a single process. In Python, multithreading allows you to execute multiple threads concurrently within a single program. Each thread can perform a different task, and they can communicate with each other to share data.\n",
    "\n",
    "\n",
    "2. **Why is it used**:\n",
    "Multithreading is used in Python to achieve parallelism, where different threads can perform independent tasks simultaneously, improving the performance and efficiency of the program. It is particularly useful in applications where certain tasks may take a long time to execute, such as network programming or I/O-bound tasks.\n",
    "\n",
    "\n",
    "3. **The module used to handle threads in python**:\n",
    "The threading module is used to handle threads in Python. It provides a simple way to create and manage threads in a Python program. The module provides various methods and functions to control the behavior of threads, such as starting, stopping, and pausing threads, as well as synchronizing access to shared resources using locks and semaphores."
   ],
   "metadata": {
    "collapsed": false
   }
  },
  {
   "cell_type": "markdown",
   "source": [
    "## Q2. Why threading module used? Write the use of the following functions\n",
    "1. activeCount()\n",
    "2. currentThread()\n",
    "3. enumerate()"
   ],
   "metadata": {
    "collapsed": false
   }
  },
  {
   "cell_type": "markdown",
   "source": [
    "**ANS:**\n",
    "\n",
    "The threading module in Python is used to create, manage, and synchronize threads in a Python program. It provides a simple way to achieve concurrency and parallelism in Python programs.\n",
    "\n",
    " The following are the uses of some functions of the threading module:\n",
    "\n",
    "1. **`activeCount()`**: This function is used to get the number of currently active threads in the program. It returns an integer value representing the number of active threads.\n",
    "\n",
    "\n",
    "2. **`currentThread()`**: This function is used to get a reference to the current thread object that is executing the function. It returns a reference to the thread object of the currently executing thread.\n",
    "\n",
    "\n",
    "3. **`enumerate()`**: This function is used to get a list of all thread objects that are currently active in the program. It returns a list of thread objects."
   ],
   "metadata": {
    "collapsed": false
   }
  },
  {
   "cell_type": "markdown",
   "source": [
    "## Q3. Explain the following functions\n",
    "1. run()\n",
    "2. start()\n",
    "3. join()\n",
    "4. isAlive()"
   ],
   "metadata": {
    "collapsed": false
   }
  },
  {
   "cell_type": "markdown",
   "source": [
    "The following are the explanations of some important functions of the threading module in Python:\n",
    "\n",
    "1. **`run()`**: This function is called when a thread is started using the start() function. It represents the code that will be executed in the thread. The run() function should be overridden in a subclass of the Thread class to implement the thread's behavior.\n",
    "\n",
    "\n",
    "2. **`start()`**: This function is used to start a new thread of execution. It creates a new thread and calls the run() function to execute the code in the new thread. Once the start() function is called, the thread enters the \"started\" state and begins executing the run() function in a separate thread.\n",
    "\n",
    "\n",
    "3. **`join()`**: This function is used to wait for a thread to complete its execution. When the join() function is called on a thread object, the calling thread blocks until the thread being joined completes its execution. The join() function can be used to ensure that a thread has completed its task before the program continues execution.\n",
    "\n",
    "\n",
    "4. **`isAlive()`**: This function is used to check if a thread is currently active or not. It returns a Boolean value indicating whether the thread is still executing or has completed its task. The isAlive() function can be used to monitor the status of a thread and take appropriate actions based on its state."
   ],
   "metadata": {
    "collapsed": false
   }
  },
  {
   "cell_type": "markdown",
   "source": [
    "## Q4. Write a python program to create two threads. Thread one must print the list of squares and thread two must print the list of cubes"
   ],
   "metadata": {
    "collapsed": false
   }
  },
  {
   "cell_type": "markdown",
   "source": [
    "**ANS:**\n",
    "\n",
    "1. First Calculating squares and cubes without using threading"
   ],
   "metadata": {
    "collapsed": false
   }
  },
  {
   "cell_type": "code",
   "execution_count": 4,
   "outputs": [
    {
     "name": "stdout",
     "output_type": "stream",
     "text": [
      "Calculating square...\n",
      "Squares are: [1, 4, 9, 16, 25]\n",
      "Calculating cubes...\n",
      "Cubes are: [1, 8, 27, 64, 125]\n",
      "finished in 2.02 seconds\n"
     ]
    }
   ],
   "source": [
    "import threading\n",
    "import time\n",
    "\n",
    "start = time.perf_counter()\n",
    "\n",
    "def get_square(numbers):\n",
    "    print(\"Calculating square...\")\n",
    "    time.sleep(1)\n",
    "    squares = [num*num for num in numbers]\n",
    "    print(\"Squares are:\", squares)\n",
    "\n",
    "def get_cubes(numbers):\n",
    "    print(\"Calculating cubes...\")\n",
    "    time.sleep(1)\n",
    "    cubes = [num*num*num for num in numbers]\n",
    "    print(\"Cubes are:\", cubes)\n",
    "\n",
    "get_square([1, 2, 3, 4, 5])\n",
    "get_cubes([1, 2, 3, 4, 5])\n",
    "\n",
    "finish = time.perf_counter()\n",
    "\n",
    "print(\"finished in {} seconds\".format(round(finish-start, 2)))"
   ],
   "metadata": {
    "collapsed": false
   }
  },
  {
   "cell_type": "markdown",
   "source": [
    "2. Calculating squares and cubes using threading module"
   ],
   "metadata": {
    "collapsed": false
   }
  },
  {
   "cell_type": "code",
   "execution_count": 5,
   "outputs": [
    {
     "name": "stdout",
     "output_type": "stream",
     "text": [
      "Calculating square...\n",
      "Calculating cubes...\n",
      "Cubes are: [1, 8, 27, 64, 125]\n",
      "Squares are: [1, 4, 9, 16, 25]\n",
      "finished in 1.01 seconds\n"
     ]
    }
   ],
   "source": [
    "import threading\n",
    "import time\n",
    "\n",
    "start = time.perf_counter()\n",
    "\n",
    "def get_square(numbers):\n",
    "    print(\"Calculating square...\")\n",
    "    time.sleep(1)\n",
    "    squares = [num*num for num in numbers]\n",
    "    print(\"Squares are:\", squares)\n",
    "\n",
    "def get_cubes(numbers):\n",
    "    print(\"Calculating cubes...\")\n",
    "    time.sleep(1)\n",
    "    cubes = [num*num*num for num in numbers]\n",
    "    print(\"Cubes are:\", cubes)\n",
    "\n",
    "square_thread = threading.Thread(target=get_square, args=[[1, 2, 3, 4, 5]])\n",
    "cube_thread = threading.Thread(target=get_cubes, args=[[1, 2, 3, 4, 5]])\n",
    "\n",
    "square_thread.start()\n",
    "cube_thread.start()\n",
    "\n",
    "square_thread.join()\n",
    "square_thread.join()\n",
    "\n",
    "finish = time.perf_counter()\n",
    "\n",
    "print(\"finished in {} seconds\".format(round(finish-start, 2)))"
   ],
   "metadata": {
    "collapsed": false
   }
  },
  {
   "cell_type": "markdown",
   "source": [
    "## Q5. State advantages and disadvantages of multithreading"
   ],
   "metadata": {
    "collapsed": false
   }
  },
  {
   "cell_type": "markdown",
   "source": [
    "**ANS:**\n",
    "\n",
    "Multithreading has several advantages and disadvantages, which are as follows:\n",
    "\n",
    "Advantages:\n",
    "\n",
    "1. **Improved performance**: Multithreading can improve the performance and efficiency of a program by allowing multiple tasks to be executed concurrently.\n",
    "\n",
    "2. **Parallelism**: Multithreading allows different threads to perform independent tasks simultaneously, achieving parallelism in the program.\n",
    "\n",
    "3. **Responsiveness**: Multithreading can improve the responsiveness of a program by allowing the program to continue executing other tasks while waiting for I/O or other operations to complete.\n",
    "\n",
    "4. **Resource sharing**: Multithreading allows threads to share resources such as memory, data structures, and files, reducing the need for duplication and improving efficiency.\n",
    "\n",
    "Disadvantages:\n",
    "\n",
    "1. **Complexity**: Multithreaded programs are often more complex and harder to develop and debug than single-threaded programs.\n",
    "\n",
    "2. **Synchronization**: Multithreading requires careful synchronization of shared resources to avoid conflicts and data corruption.\n",
    "\n",
    "3. **Overhead**: Multithreading can incur overhead due to the creation, scheduling, and synchronization of threads, which can reduce performance in some cases.\n",
    "\n",
    "4. **Deadlocks and race conditions**: Multithreading can lead to deadlocks and race conditions, where multiple threads compete for resources and result in unpredictable behavior."
   ],
   "metadata": {
    "collapsed": false
   }
  },
  {
   "cell_type": "markdown",
   "source": [
    "## Q6. Explain deadlocks and race conditions."
   ],
   "metadata": {
    "collapsed": false
   }
  },
  {
   "cell_type": "markdown",
   "source": [
    "**ANS:**\n",
    "\n",
    "Deadlocks and race conditions are two types of synchronization issues that can occur in multithreaded programs:\n",
    "\n",
    "**Deadlocks**: A deadlock occurs when two or more threads are blocked, each waiting for the other to release a resource that it needs to continue execution. In other words, a deadlock occurs when two or more threads are stuck in a circular wait, unable to proceed further. Deadlocks can result in a program becoming unresponsive and require manual intervention to resolve.\n",
    "\n",
    "Example:\n",
    "\n",
    "Thread 1 acquires lock A and waits for lock B to be released.\n",
    "Thread 2 acquires lock B and waits for lock A to be released.\n",
    "Both threads are now blocked, waiting for the other thread to release the lock they need, resulting in a deadlock.\n",
    "\n",
    "\n",
    "**Race conditions**: A race condition occurs when two or more threads access a shared resource simultaneously, resulting in unpredictable and unexpected behavior. Race conditions can result in data corruption or other errors, and they are difficult to detect and reproduce.\n",
    "\n",
    "Example:\n",
    "\n",
    "Thread 1 and Thread 2 both access a shared variable x and perform a read-modify-write operation on it.\n",
    "Thread 1 reads the value of x as 2.\n",
    "Thread 2 reads the value of x as 2.\n",
    "Thread 1 increments the value of x to 3 and writes it back to memory.\n",
    "Thread 2 increments the value of x to 3 and writes it back to memory, overwriting the value set by Thread 1.\n",
    "The final value of x is 3, even though both threads incremented it, resulting in a race condition."
   ],
   "metadata": {
    "collapsed": false
   }
  },
  {
   "cell_type": "code",
   "execution_count": null,
   "outputs": [],
   "source": [],
   "metadata": {
    "collapsed": false
   }
  }
 ],
 "metadata": {
  "kernelspec": {
   "display_name": "Python 3",
   "language": "python",
   "name": "python3"
  },
  "language_info": {
   "codemirror_mode": {
    "name": "ipython",
    "version": 2
   },
   "file_extension": ".py",
   "mimetype": "text/x-python",
   "name": "python",
   "nbconvert_exporter": "python",
   "pygments_lexer": "ipython2",
   "version": "2.7.6"
  }
 },
 "nbformat": 4,
 "nbformat_minor": 0
}
