{
 "cells": [
  {
   "cell_type": "markdown",
   "source": [
    "## Q1. What is MongoDB? Explain non-relational databases in short. In which scenarios it is preferred to use MongoDB over SQL databases?"
   ],
   "metadata": {
    "collapsed": false
   }
  },
  {
   "cell_type": "markdown",
   "source": [
    "**ANS:**\n",
    "\n",
    "1. MongoDB is a document-oriented NoSQL database that stores data in flexible, JSON-like documents with dynamic schemas. It is designed to scale horizontally across clusters of commodity servers, providing high availability with automatic failover and horizontal scaling.\n",
    "\n",
    "2. Non-relational databases, also known as NoSQL databases, are databases that do not use the traditional table-based relational database model. They store data in a more flexible and scalable way, using a variety of data models such as document-based, key-value pairs, graph databases, and more.\n",
    "\n",
    "3. MongoDB is preferred over SQL databases in scenarios where there is a need for:\n",
    "\n",
    "- **High scalability**: MongoDB can handle large amounts of data and scale horizontally by adding more servers to a cluster.\n",
    "\n",
    "\n",
    "- **Flexibility**: MongoDB's document-based data model allows for more flexibility than the rigid table-based structure of SQL databases.\n",
    "\n",
    "\n",
    "- **Dynamic data**: MongoDB is well-suited for storing data that may have a varying schema, where the structure of the data is not always known in advance.\n",
    "\n",
    "\n",
    "- **High availability**: MongoDB provides automatic failover and replication, making it a good choice for applications that require high availability and reliability.\n",
    "\n",
    "\n",
    "- **Rapid development**: MongoDB's flexible data model and ease of use make it a popular choice for rapid prototyping and development."
   ],
   "metadata": {
    "collapsed": false
   }
  },
  {
   "cell_type": "markdown",
   "source": [
    "## Q3. Write a code to connect MongoDB to Python. Also, create a database and a collection in MongoDB."
   ],
   "metadata": {
    "collapsed": false
   }
  },
  {
   "cell_type": "markdown",
   "source": [
    "**ANS:**\n",
    "\n",
    "To connect MongoDB to Python, you first need to install the PyMongo library. You can install it using pip by running the following command in your command prompt or terminal:"
   ],
   "metadata": {
    "collapsed": false
   }
  },
  {
   "cell_type": "code",
   "execution_count": null,
   "outputs": [],
   "source": [
    "pip install pymongo"
   ],
   "metadata": {
    "collapsed": false
   }
  },
  {
   "cell_type": "markdown",
   "source": [
    "Once we have PyMongo installed, you can use the following code to connect to a MongoDB instance, create a database, and a collection:"
   ],
   "metadata": {
    "collapsed": false
   }
  },
  {
   "cell_type": "code",
   "execution_count": null,
   "outputs": [],
   "source": [
    "import pymongo\n",
    "\n",
    "# Connect to the MongoDB instance\n",
    "client = pymongo.MongoClient('mongodb://localhost:27017/')\n",
    "\n",
    "# Create a database\n",
    "db = client['mydatabase']\n",
    "\n",
    "# Create a collection\n",
    "col = db['mycollection']\n",
    "\n",
    "# Insert a document into the collection\n",
    "doc = {'name': 'John', 'age': 30}\n",
    "col.insert_one(doc)"
   ],
   "metadata": {
    "collapsed": false
   }
  },
  {
   "cell_type": "markdown",
   "source": [
    "## Q4. Using the database and the collection created in question number 3, write a code to insert one record, and insert many records. Use the find() and find_one() methods to print the inserted record."
   ],
   "metadata": {
    "collapsed": false
   }
  },
  {
   "cell_type": "markdown",
   "source": [
    "**ANS:**\n",
    "\n",
    "Here's an example code that uses the database and collection created in Question 3 to insert one record and multiple records, and then uses the find() and find_one() methods to print the inserted record(s):"
   ],
   "metadata": {
    "collapsed": false
   }
  },
  {
   "cell_type": "code",
   "execution_count": 4,
   "outputs": [],
   "source": [
    "import pymongo\n",
    "\n",
    "client = pymongo.MongoClient('mongodb://localhost:27017/')\n",
    "\n",
    "db = client['mydatabase']\n",
    "col = db['mycollection']"
   ],
   "metadata": {
    "collapsed": false
   }
  },
  {
   "cell_type": "code",
   "execution_count": 9,
   "outputs": [
    {
     "name": "stdout",
     "output_type": "stream",
     "text": [
      "{'_id': '03', 'name': 'Ayan', 'age': 24, 'city': 'Mumbai'}\n",
      "{'_id': '01', 'name': 'Tarachand', 'age': 19, 'city': 'Mumbai'}\n",
      "{'_id': '02', 'name': 'Harshada', 'age': 20, 'city': 'Vashi'}\n",
      "{'_id': '03', 'name': 'Ayan', 'age': 24, 'city': 'Mumbai'}\n",
      "{'_id': '04', 'name': 'Rahul', 'age': 20, 'city': 'Navi Mumbai'}\n"
     ]
    }
   ],
   "source": [
    "# Insert one record\n",
    "doc = {'_id': '01', 'name': 'Tarachand', 'age': 19, 'city': 'Mumbai'}\n",
    "col.insert_one(doc)\n",
    "\n",
    "# Insert multiple records\n",
    "docs = [\n",
    "    {'_id': '02', 'name': 'Harshada', 'age': 20, 'city': 'Vashi'},\n",
    "    {'_id': '03', 'name': 'Ayan', 'age': 24, 'city': 'Mumbai'},\n",
    "    {'_id': '04', 'name': 'Rahul', 'age': 20, 'city': 'Navi Mumbai'}\n",
    "]\n",
    "col.insert_many(docs)\n",
    "\n",
    "# Find one record\n",
    "result = col.find_one({'name': 'Ayan'})\n",
    "print(result)\n",
    "\n",
    "# Find all records\n",
    "results = col.find()\n",
    "for result in results:\n",
    "    print(result)\n"
   ],
   "metadata": {
    "collapsed": false
   }
  },
  {
   "cell_type": "markdown",
   "source": [
    "In this code, we first connect to the MongoDB instance and create the mydatabase database and mycollection collection, as in Question 3.\n",
    "\n",
    "We then use the `insert_one()` method to insert one record and the `insert_many()` method to insert multiple records into the mycollection collection.\n",
    "\n",
    "To retrieve the inserted records, we use the `find_one()` method to retrieve a single record with the name 'Alice', and print the result.\n",
    "\n",
    "We also use the `find()` method to retrieve all records in the mycollection collection, and then loop through the results and print each record."
   ],
   "metadata": {
    "collapsed": false
   }
  },
  {
   "cell_type": "markdown",
   "source": [
    "**ANS:**\n",
    "\n",
    "The `find()` method in MongoDB is used to query a collection and retrieve documents that match a specified set of criteria. This method takes one or more parameters that define the search criteria and returns a cursor object that can be used to iterate over the results.\n",
    "\n",
    "The most basic form of the `find()` method takes no parameters and returns all documents in the collection. To retrieve only specific documents that match certain criteria, you can pass a dictionary object as a parameter to the `find()` method. This dictionary should contain key-value pairs that define the search criteria.\n",
    "\n",
    "For example, let's say we have a collection called mycollection with documents that look like this:"
   ],
   "metadata": {
    "collapsed": false
   }
  },
  {
   "cell_type": "code",
   "execution_count": 10,
   "outputs": [
    {
     "data": {
      "text/plain": "{'_id': 1, 'name': 'Alice', 'age': 25, 'city': 'New York'}"
     },
     "execution_count": 10,
     "metadata": {},
     "output_type": "execute_result"
    }
   ],
   "source": [
    "{\n",
    "    \"_id\": 1,\n",
    "    \"name\": \"Tarachand\",\n",
    "    \"age\": 19,\n",
    "    \"city\": \"Mumbai\"\n",
    "}"
   ],
   "metadata": {
    "collapsed": false
   }
  },
  {
   "cell_type": "code",
   "execution_count": 11,
   "outputs": [
    {
     "name": "stdout",
     "output_type": "stream",
     "text": [
      "{'_id': '01', 'name': 'Tarachand', 'age': 19, 'city': 'Mumbai'}\n",
      "{'_id': '02', 'name': 'Harshada', 'age': 20, 'city': 'Vashi'}\n",
      "{'_id': '03', 'name': 'Ayan', 'age': 24, 'city': 'Mumbai'}\n",
      "{'_id': '04', 'name': 'Rahul', 'age': 20, 'city': 'Navi Mumbai'}\n"
     ]
    }
   ],
   "source": [
    "import pymongo\n",
    "\n",
    "# Connect to the MongoDB instance\n",
    "client = pymongo.MongoClient('mongodb://localhost:27017/')\n",
    "\n",
    "# Get the mydatabase database and mycollection collection\n",
    "db = client['mydatabase']\n",
    "col = db['mycollection']\n",
    "\n",
    "# Find all documents in the collection\n",
    "results = col.find()\n",
    "\n",
    "# Loop through the results and print each document\n",
    "for result in results:\n",
    "    print(result)"
   ],
   "metadata": {
    "collapsed": false
   }
  },
  {
   "cell_type": "markdown",
   "source": [
    "To retrieve only documents where the age field is greater than or equal to 20, we can use the following code:"
   ],
   "metadata": {
    "collapsed": false
   }
  },
  {
   "cell_type": "code",
   "execution_count": 13,
   "outputs": [
    {
     "name": "stdout",
     "output_type": "stream",
     "text": [
      "{'_id': '02', 'name': 'Harshada', 'age': 20, 'city': 'Vashi'}\n",
      "{'_id': '03', 'name': 'Ayan', 'age': 24, 'city': 'Mumbai'}\n",
      "{'_id': '04', 'name': 'Rahul', 'age': 20, 'city': 'Navi Mumbai'}\n"
     ]
    }
   ],
   "source": [
    "# Find documents where age is greater than or equal to 30\n",
    "query = {'age': {'$gte': 20}}\n",
    "results = col.find(query)\n",
    "\n",
    "# Loop through the results and print each document\n",
    "for result in results:\n",
    "    print(result)\n"
   ],
   "metadata": {
    "collapsed": false
   }
  },
  {
   "cell_type": "markdown",
   "source": [
    "In this code, we use the `find()` method with a query parameter that specifies that we only want to retrieve documents where the age field is greater than or equal to 30. The `$gte` operator is used to specify this condition. The results are then looped through and printed to the console."
   ],
   "metadata": {
    "collapsed": false
   }
  },
  {
   "cell_type": "markdown",
   "source": [
    "## Q6. Explain the sort() method. Give an example to demonstrate sorting in MongoDB."
   ],
   "metadata": {
    "collapsed": false
   }
  },
  {
   "cell_type": "markdown",
   "source": [
    "**ANS:**\n",
    "\n",
    "The `sort()` method in MongoDB is used to sort the results of a query in ascending or descending order based on one or more fields in the documents. This method takes one or more parameters that define the sorting criteria.\n",
    "\n",
    "The most basic form of the `sort()` method takes one parameter that specifies the field to sort by, and the sort order (ascending or descending). For example, to sort a collection called mycollection by the age field in ascending order, we can use the following code:"
   ],
   "metadata": {
    "collapsed": false
   }
  },
  {
   "cell_type": "code",
   "execution_count": 15,
   "outputs": [
    {
     "name": "stdout",
     "output_type": "stream",
     "text": [
      "{'_id': '01', 'name': 'Tarachand', 'age': 19, 'city': 'Mumbai'}\n",
      "{'_id': '02', 'name': 'Harshada', 'age': 20, 'city': 'Vashi'}\n",
      "{'_id': '04', 'name': 'Rahul', 'age': 20, 'city': 'Navi Mumbai'}\n",
      "{'_id': '03', 'name': 'Ayan', 'age': 24, 'city': 'Mumbai'}\n"
     ]
    }
   ],
   "source": [
    "import pymongo\n",
    "\n",
    "client = pymongo.MongoClient('mongodb://localhost:27017/')\n",
    "\n",
    "db = client['mydatabase']\n",
    "\n",
    "col = db['mycollection']\n",
    "\n",
    "# Sort documents by age in ascending order\n",
    "results = col.find().sort('age', pymongo.ASCENDING)\n",
    "\n",
    "# Loop through the results and print each document\n",
    "for result in results:\n",
    "    print(result)"
   ],
   "metadata": {
    "collapsed": false
   }
  },
  {
   "cell_type": "markdown",
   "source": [
    "We can also sort documents by multiple fields by passing a list of sorting criteria to the sort() method. For example, to sort a collection called mycollection by the age field in ascending order, and then by the name field in descending order, we can use the following code:"
   ],
   "metadata": {
    "collapsed": false
   }
  },
  {
   "cell_type": "code",
   "execution_count": 16,
   "outputs": [
    {
     "name": "stdout",
     "output_type": "stream",
     "text": [
      "{'_id': '01', 'name': 'Tarachand', 'age': 19, 'city': 'Mumbai'}\n",
      "{'_id': '04', 'name': 'Rahul', 'age': 20, 'city': 'Navi Mumbai'}\n",
      "{'_id': '02', 'name': 'Harshada', 'age': 20, 'city': 'Vashi'}\n",
      "{'_id': '03', 'name': 'Ayan', 'age': 24, 'city': 'Mumbai'}\n"
     ]
    }
   ],
   "source": [
    "# Sort documents by age in ascending order, and then by name in descending order\n",
    "results = col.find().sort([('age', pymongo.ASCENDING), ('name', pymongo.DESCENDING)])\n",
    "\n",
    "# Loop through the results and print each document\n",
    "for result in results:\n",
    "    print(result)"
   ],
   "metadata": {
    "collapsed": false
   }
  },
  {
   "cell_type": "markdown",
   "source": [
    "## Q7. Explain why delete_one(), delete_many(), and drop() is used."
   ],
   "metadata": {
    "collapsed": false
   }
  },
  {
   "cell_type": "markdown",
   "source": [
    "**ANS:**\n",
    "\n",
    "In MongoDB, there are several methods available to delete documents or entire collections. These methods are:\n",
    "\n",
    "1. **delete_one()**: This method is used to delete a single document that matches the specified criteria. If there are multiple documents that match the criteria, only the first one will be deleted.\n",
    "\n",
    "2. **delete_many()**: This method is used to delete all documents that match the specified criteria.\n",
    "\n",
    "3. **drop()**: This method is used to delete an entire collection, including all documents it contains.\n",
    "\n",
    "These methods are useful for maintaining data integrity and cleaning up data that is no longer needed. They can be used to remove specific documents that are no longer needed, or to remove entire collections when they are no longer required.\n",
    "\n",
    "The **`delete_one()`** method is particularly useful when you want to remove a single document from a collection based on some specific criteria. For example, you may want to delete a specific user from a user collection when they request to have their account deleted.\n",
    "\n",
    "The **`delete_many()`** method is useful when you want to delete multiple documents from a collection based on some specific criteria. For example, you may want to delete all users who have not logged in to your website in the past 6 months to free up storage space.\n",
    "\n",
    "The **`drop()`** method is useful when you want to completely remove a collection from your database. This method is irreversible and will delete all documents in the collection. This method should be used with caution, as it cannot be undone and will result in permanent data loss."
   ],
   "metadata": {
    "collapsed": false
   }
  },
  {
   "cell_type": "code",
   "execution_count": null,
   "outputs": [],
   "source": [],
   "metadata": {
    "collapsed": false
   }
  }
 ],
 "metadata": {
  "kernelspec": {
   "display_name": "Python 3",
   "language": "python",
   "name": "python3"
  },
  "language_info": {
   "codemirror_mode": {
    "name": "ipython",
    "version": 2
   },
   "file_extension": ".py",
   "mimetype": "text/x-python",
   "name": "python",
   "nbconvert_exporter": "python",
   "pygments_lexer": "ipython2",
   "version": "2.7.6"
  }
 },
 "nbformat": 4,
 "nbformat_minor": 0
}
